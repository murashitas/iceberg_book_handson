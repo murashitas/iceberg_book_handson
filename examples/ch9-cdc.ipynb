{
 "cells": [
  {
   "cell_type": "markdown",
   "metadata": {},
   "source": [
    "# 第 9 章: Change Data Capture によるリアルタイムデータ同期\n",
    "\n",
    "このノートブックでは、CDC（Change Data Capture）ログを使用して Iceberg テーブルにデータを同期する方法を学びます。\n",
    "\n",
    "### 注意事項\n",
    "本ハンズオンでは、CDC パイプライン全体の構築は行いません。すでに CDC ログ（Debezium 形式）が生成されているという前提で進めます。実際の運用環境では Debezium + Kafka + Kafka Connect や Flink などを使用して CDC ログを生成しますが、ここでは CDC ログの処理と Iceberg テーブルへの適用方法に焦点を当てます。"
   ]
  },
  {
   "cell_type": "markdown",
   "metadata": {},
   "source": [
    "## 環境の準備"
   ]
  },
  {
   "cell_type": "code",
   "execution_count": 68,
   "metadata": {},
   "outputs": [],
   "source": [
    "import pyspark\n",
    "from pyspark.conf import SparkConf\n",
    "from pyspark.sql import SparkSession\n",
    "from pyspark.sql import functions as F\n",
    "from pyspark.sql.window import Window\n",
    "from datetime import datetime\n",
    "from decimal import Decimal\n",
    "import pandas as pd\n",
    "\n",
    "CATALOG = \"my_catalog\"\n",
    "CATALOG_URL = \"http://server:8181/\"\n",
    "S3_ENDPOINT = \"http://minio:9000\"\n",
    "SPARK_VERSION = pyspark.__version__\n",
    "SPARK_MINOR_VERSION = '.'.join(SPARK_VERSION.split('.')[:2])\n",
    "ICEBERG_VERSION = \"1.8.1\""
   ]
  },
  {
   "cell_type": "code",
   "execution_count": 69,
   "metadata": {},
   "outputs": [],
   "source": [
    "# SparkSessionの初期化\n",
    "spark = (\n",
    "    SparkSession.builder\n",
    "        .config(\"spark.jars.packages\", f\"org.apache.iceberg:iceberg-spark-runtime-{SPARK_MINOR_VERSION}_2.12:{ICEBERG_VERSION},org.apache.iceberg:iceberg-aws-bundle:{ICEBERG_VERSION}\")\n",
    "        .config(f\"spark.sql.catalog.{CATALOG}\", \"org.apache.iceberg.spark.SparkCatalog\")\n",
    "        .config(f\"spark.sql.catalog.{CATALOG}.type\", \"rest\")\n",
    "        .config(f\"spark.sql.catalog.{CATALOG}.uri\", CATALOG_URL)\n",
    "        .config(f\"spark.sql.catalog.{CATALOG}.s3.endpoint\", S3_ENDPOINT)\n",
    "        .config(\"spark.sql.extensions\", \"org.apache.iceberg.spark.extensions.IcebergSparkSessionExtensions\")\n",
    "        .config(\"spark.sql.defaultCatalog\", CATALOG)\n",
    "        .getOrCreate()\n",
    ")"
   ]
  },
  {
   "cell_type": "code",
   "execution_count": 70,
   "metadata": {},
   "outputs": [],
   "source": [
    "%sql spark"
   ]
  },
  {
   "cell_type": "code",
   "execution_count": 71,
   "metadata": {},
   "outputs": [
    {
     "data": {
      "text/html": [
       "<span style=\"None\">Running query in &#x27;SparkSession&#x27;</span>"
      ],
      "text/plain": [
       "Running query in 'SparkSession'"
      ]
     },
     "metadata": {},
     "output_type": "display_data"
    },
    {
     "data": {
      "text/html": [
       "<div>\n",
       "<style scoped>\n",
       "    .dataframe tbody tr th:only-of-type {\n",
       "        vertical-align: middle;\n",
       "    }\n",
       "\n",
       "    .dataframe tbody tr th {\n",
       "        vertical-align: top;\n",
       "    }\n",
       "\n",
       "    .dataframe thead th {\n",
       "        text-align: right;\n",
       "    }\n",
       "</style>\n",
       "<table border=\"1\" class=\"dataframe\">\n",
       "  <thead>\n",
       "    <tr style=\"text-align: right;\">\n",
       "      <th></th>\n",
       "    </tr>\n",
       "  </thead>\n",
       "  <tbody>\n",
       "  </tbody>\n",
       "</table>\n",
       "</div>"
      ],
      "text/plain": [
       "Empty DataFrame\n",
       "Columns: []\n",
       "Index: []"
      ]
     },
     "execution_count": 71,
     "metadata": {},
     "output_type": "execute_result"
    }
   ],
   "source": [
    "%%sql\n",
    "CREATE DATABASE IF NOT EXISTS db"
   ]
  },
  {
   "cell_type": "markdown",
   "metadata": {},
   "source": [
    "## シナリオ: ECサイトの商品管理システム\n",
    "\n",
    "ECサイトの商品管理システムを想定します。商品の在庫管理テーブルに対する1時間分のCDCログ（Debezium形式）がすでに生成されており、これをIcebergテーブルに反映させます。CDCログには、新商品の追加、在庫数の更新、廃盤商品の削除などが含まれています。"
   ]
  },
  {
   "cell_type": "markdown",
   "metadata": {},
   "source": [
    "### 1. Iceberg テーブルの作成と初期データの投入"
   ]
  },
  {
   "cell_type": "code",
   "execution_count": 72,
   "metadata": {},
   "outputs": [
    {
     "data": {
      "text/html": [
       "<span style=\"None\">Running query in &#x27;SparkSession&#x27;</span>"
      ],
      "text/plain": [
       "Running query in 'SparkSession'"
      ]
     },
     "metadata": {},
     "output_type": "display_data"
    },
    {
     "data": {
      "text/html": [
       "<div>\n",
       "<style scoped>\n",
       "    .dataframe tbody tr th:only-of-type {\n",
       "        vertical-align: middle;\n",
       "    }\n",
       "\n",
       "    .dataframe tbody tr th {\n",
       "        vertical-align: top;\n",
       "    }\n",
       "\n",
       "    .dataframe thead th {\n",
       "        text-align: right;\n",
       "    }\n",
       "</style>\n",
       "<table border=\"1\" class=\"dataframe\">\n",
       "  <thead>\n",
       "    <tr style=\"text-align: right;\">\n",
       "      <th></th>\n",
       "    </tr>\n",
       "  </thead>\n",
       "  <tbody>\n",
       "  </tbody>\n",
       "</table>\n",
       "</div>"
      ],
      "text/plain": [
       "Empty DataFrame\n",
       "Columns: []\n",
       "Index: []"
      ]
     },
     "execution_count": 72,
     "metadata": {},
     "output_type": "execute_result"
    }
   ],
   "source": [
    "%%sql\n",
    "CREATE OR REPLACE TABLE db.products (\n",
    "    product_id BIGINT,\n",
    "    product_name STRING,\n",
    "    category STRING,\n",
    "    price DECIMAL(10,2),\n",
    "    stock_quantity INT,\n",
    "    created_at TIMESTAMP,\n",
    "    updated_at TIMESTAMP\n",
    ") USING iceberg\n",
    "PARTITIONED BY (category)"
   ]
  },
  {
   "cell_type": "code",
   "execution_count": 73,
   "metadata": {},
   "outputs": [],
   "source": [
    "# 初期データの投入\n",
    "initial_products = [\n",
    "    {\n",
    "        'product_id': 2001, \n",
    "        'product_name': 'Wireless Headphones', \n",
    "        'category': 'Electronics',\n",
    "        'price': Decimal('89.99'), \n",
    "        'stock_quantity': 150,\n",
    "        'created_at': datetime(2025, 1, 15, 10, 30),\n",
    "        'updated_at': datetime(2025, 1, 15, 10, 30)\n",
    "    },\n",
    "    {\n",
    "        'product_id': 2002, \n",
    "        'product_name': 'USB Cable', \n",
    "        'category': 'Accessories',\n",
    "        'price': Decimal('12.99'), \n",
    "        'stock_quantity': 200,\n",
    "        'created_at': datetime(2025, 1, 15, 11, 0),\n",
    "        'updated_at': datetime(2025, 1, 15, 11, 0)\n",
    "    },\n",
    "    {\n",
    "        'product_id': 2003, \n",
    "        'product_name': 'Bluetooth Speaker', \n",
    "        'category': 'Electronics',\n",
    "        'price': Decimal('45.99'), \n",
    "        'stock_quantity': 75,\n",
    "        'created_at': datetime(2025, 1, 15, 12, 0),\n",
    "        'updated_at': datetime(2025, 1, 15, 12, 0)\n",
    "    }\n",
    "]\n",
    "\n",
    "df_initial = spark.createDataFrame(initial_products)\n",
    "df_initial.writeTo('db.products').append()"
   ]
  },
  {
   "cell_type": "code",
   "execution_count": 74,
   "metadata": {},
   "outputs": [
    {
     "data": {
      "text/html": [
       "<span style=\"None\">Running query in &#x27;SparkSession&#x27;</span>"
      ],
      "text/plain": [
       "Running query in 'SparkSession'"
      ]
     },
     "metadata": {},
     "output_type": "display_data"
    },
    {
     "data": {
      "text/html": [
       "<span style=\"color: green\">3 rows affected.</span>"
      ],
      "text/plain": [
       "3 rows affected."
      ]
     },
     "metadata": {},
     "output_type": "display_data"
    },
    {
     "data": {
      "text/html": [
       "<div>\n",
       "<style scoped>\n",
       "    .dataframe tbody tr th:only-of-type {\n",
       "        vertical-align: middle;\n",
       "    }\n",
       "\n",
       "    .dataframe tbody tr th {\n",
       "        vertical-align: top;\n",
       "    }\n",
       "\n",
       "    .dataframe thead th {\n",
       "        text-align: right;\n",
       "    }\n",
       "</style>\n",
       "<table border=\"1\" class=\"dataframe\">\n",
       "  <thead>\n",
       "    <tr style=\"text-align: right;\">\n",
       "      <th></th>\n",
       "      <th>product_id</th>\n",
       "      <th>product_name</th>\n",
       "      <th>category</th>\n",
       "      <th>price</th>\n",
       "      <th>stock_quantity</th>\n",
       "      <th>created_at</th>\n",
       "      <th>updated_at</th>\n",
       "    </tr>\n",
       "  </thead>\n",
       "  <tbody>\n",
       "    <tr>\n",
       "      <th>0</th>\n",
       "      <td>2001</td>\n",
       "      <td>Wireless Headphones</td>\n",
       "      <td>Electronics</td>\n",
       "      <td>89.99</td>\n",
       "      <td>150</td>\n",
       "      <td>2025-01-15 10:30:00</td>\n",
       "      <td>2025-01-15 10:30:00</td>\n",
       "    </tr>\n",
       "    <tr>\n",
       "      <th>1</th>\n",
       "      <td>2002</td>\n",
       "      <td>USB Cable</td>\n",
       "      <td>Accessories</td>\n",
       "      <td>12.99</td>\n",
       "      <td>200</td>\n",
       "      <td>2025-01-15 11:00:00</td>\n",
       "      <td>2025-01-15 11:00:00</td>\n",
       "    </tr>\n",
       "    <tr>\n",
       "      <th>2</th>\n",
       "      <td>2003</td>\n",
       "      <td>Bluetooth Speaker</td>\n",
       "      <td>Electronics</td>\n",
       "      <td>45.99</td>\n",
       "      <td>75</td>\n",
       "      <td>2025-01-15 12:00:00</td>\n",
       "      <td>2025-01-15 12:00:00</td>\n",
       "    </tr>\n",
       "  </tbody>\n",
       "</table>\n",
       "</div>"
      ],
      "text/plain": [
       "   product_id         product_name     category  price  stock_quantity  \\\n",
       "0        2001  Wireless Headphones  Electronics  89.99             150   \n",
       "1        2002            USB Cable  Accessories  12.99             200   \n",
       "2        2003    Bluetooth Speaker  Electronics  45.99              75   \n",
       "\n",
       "           created_at          updated_at  \n",
       "0 2025-01-15 10:30:00 2025-01-15 10:30:00  \n",
       "1 2025-01-15 11:00:00 2025-01-15 11:00:00  \n",
       "2 2025-01-15 12:00:00 2025-01-15 12:00:00  "
      ]
     },
     "execution_count": 74,
     "metadata": {},
     "output_type": "execute_result"
    }
   ],
   "source": [
    "%%sql\n",
    "SELECT * FROM db.products ORDER BY product_id"
   ]
  },
  {
   "cell_type": "markdown",
   "metadata": {},
   "source": [
    "### 2. Debezium 形式の CDC イベントの準備\n",
    "\n",
    "Debezium は変更イベントを構造化された形式で出力します。各イベントには以下の情報が含まれます：\n",
    "- `payload.before`: 変更前の値（UPDATE, DELETE時）\n",
    "- `payload.after`: 変更後の値（INSERT, UPDATE時）\n",
    "- `payload.op`: 操作タイプ（c: create/insert, u: update, d: delete）\n",
    "- `payload.source`: メタデータ（タイムスタンプ、ログ位置など）"
   ]
  },
  {
   "cell_type": "code",
   "execution_count": 75,
   "metadata": {},
   "outputs": [
    {
     "name": "stdout",
     "output_type": "stream",
     "text": [
      "CDC イベント数: 3\n",
      "- INSERT: 1件 (product_id: 2004 - Gaming Mouse)\n",
      "- UPDATE: 1件 (product_id: 2001 - 在庫数更新)\n",
      "- DELETE: 1件 (product_id: 2002 - USB Cable削除)\n",
      "JSONファイル保存先: /tmp/tmpnusdo93e/cdc_events.json\n"
     ]
    }
   ],
   "source": [
    "# Debezium形式のCDCイベントサンプル\n",
    "import json\n",
    "import tempfile\n",
    "import os\n",
    "\n",
    "# CDCイベントをJSON形式で定義\n",
    "cdc_events_json = [\n",
    "    # 新商品の追加（INSERT）\n",
    "    {\n",
    "        \"payload\": {\n",
    "            \"before\": None,\n",
    "            \"after\": {\n",
    "                \"product_id\": 2004,\n",
    "                \"product_name\": \"Gaming Mouse\",\n",
    "                \"category\": \"Electronics\",\n",
    "                \"price\": 59.99,\n",
    "                \"stock_quantity\": 100,\n",
    "                \"created_at\": \"2025-01-15T14:30:00Z\",\n",
    "                \"updated_at\": \"2025-01-15T14:30:00Z\"\n",
    "            },\n",
    "            \"op\": \"c\",\n",
    "            \"ts_ms\": 1737037800000,\n",
    "            \"source\": {\n",
    "                \"db\": \"inventory\",\n",
    "                \"table\": \"products\",\n",
    "                \"ts_ms\": 1737037800000\n",
    "            }\n",
    "        }\n",
    "    },\n",
    "    \n",
    "    # 既存商品の在庫数更新（UPDATE）\n",
    "    {\n",
    "        \"payload\": {\n",
    "            \"before\": {\n",
    "                \"product_id\": 2001,\n",
    "                \"product_name\": \"Wireless Headphones\",\n",
    "                \"category\": \"Electronics\",\n",
    "                \"price\": 89.99,\n",
    "                \"stock_quantity\": 150,\n",
    "                \"created_at\": \"2025-01-15T10:30:00Z\",\n",
    "                \"updated_at\": \"2025-01-15T10:30:00Z\"\n",
    "            },\n",
    "            \"after\": {\n",
    "                \"product_id\": 2001,\n",
    "                \"product_name\": \"Wireless Headphones\",\n",
    "                \"category\": \"Electronics\",\n",
    "                \"price\": 89.99,\n",
    "                \"stock_quantity\": 143,  # 在庫が7個減少\n",
    "                \"created_at\": \"2025-01-15T10:30:00Z\",\n",
    "                \"updated_at\": \"2025-01-15T15:00:00Z\"\n",
    "            },\n",
    "            \"op\": \"u\",\n",
    "            \"ts_ms\": 1737039600000,\n",
    "            \"source\": {\n",
    "                \"db\": \"inventory\",\n",
    "                \"table\": \"products\",\n",
    "                \"ts_ms\": 1737039600000\n",
    "            }\n",
    "        }\n",
    "    },\n",
    "    \n",
    "    # 廃盤商品の削除（DELETE）\n",
    "    {\n",
    "        \"payload\": {\n",
    "            \"before\": {\n",
    "                \"product_id\": 2002,\n",
    "                \"product_name\": \"USB Cable\",\n",
    "                \"category\": \"Accessories\",\n",
    "                \"price\": 12.99,\n",
    "                \"stock_quantity\": 200,\n",
    "                \"created_at\": \"2025-01-15T11:00:00Z\",\n",
    "                \"updated_at\": \"2025-01-15T11:00:00Z\"\n",
    "            },\n",
    "            \"after\": None,\n",
    "            \"op\": \"d\",\n",
    "            \"ts_ms\": 1737041400000,\n",
    "            \"source\": {\n",
    "                \"db\": \"inventory\",\n",
    "                \"table\": \"products\",\n",
    "                \"ts_ms\": 1737041400000\n",
    "            }\n",
    "        }\n",
    "    }\n",
    "]\n",
    "\n",
    "# 一時ファイルにJSONとして保存\n",
    "temp_dir = tempfile.mkdtemp()\n",
    "json_file_path = os.path.join(temp_dir, \"cdc_events.json\")\n",
    "\n",
    "with open(json_file_path, 'w') as f:\n",
    "    for event in cdc_events_json:\n",
    "        f.write(json.dumps(event) + '\\n')\n",
    "\n",
    "print(f\"CDC イベント数: {len(cdc_events_json)}\")\n",
    "print(\"- INSERT: 1件 (product_id: 2004 - Gaming Mouse)\")\n",
    "print(\"- UPDATE: 1件 (product_id: 2001 - 在庫数更新)\")\n",
    "print(\"- DELETE: 1件 (product_id: 2002 - USB Cable削除)\")\n",
    "print(f\"JSONファイル保存先: {json_file_path}\")"
   ]
  },
  {
   "cell_type": "markdown",
   "metadata": {},
   "source": [
    "### 3. CDC イベントの変換処理\n",
    "\n",
    "CDCイベントを処理用に変換します。この処理では、操作タイプに応じて適切なフィールドから値を抽出し、統一された形式に変換します。"
   ]
  },
  {
   "cell_type": "code",
   "execution_count": 76,
   "metadata": {},
   "outputs": [
    {
     "name": "stdout",
     "output_type": "stream",
     "text": [
      "CDCイベントの構造:\n",
      "root\n",
      " |-- payload: struct (nullable = true)\n",
      " |    |-- after: struct (nullable = true)\n",
      " |    |    |-- category: string (nullable = true)\n",
      " |    |    |-- created_at: string (nullable = true)\n",
      " |    |    |-- price: double (nullable = true)\n",
      " |    |    |-- product_id: long (nullable = true)\n",
      " |    |    |-- product_name: string (nullable = true)\n",
      " |    |    |-- stock_quantity: long (nullable = true)\n",
      " |    |    |-- updated_at: string (nullable = true)\n",
      " |    |-- before: struct (nullable = true)\n",
      " |    |    |-- category: string (nullable = true)\n",
      " |    |    |-- created_at: string (nullable = true)\n",
      " |    |    |-- price: double (nullable = true)\n",
      " |    |    |-- product_id: long (nullable = true)\n",
      " |    |    |-- product_name: string (nullable = true)\n",
      " |    |    |-- stock_quantity: long (nullable = true)\n",
      " |    |    |-- updated_at: string (nullable = true)\n",
      " |    |-- op: string (nullable = true)\n",
      " |    |-- source: struct (nullable = true)\n",
      " |    |    |-- db: string (nullable = true)\n",
      " |    |    |-- table: string (nullable = true)\n",
      " |    |    |-- ts_ms: long (nullable = true)\n",
      " |    |-- ts_ms: long (nullable = true)\n",
      "\n",
      "\n",
      "CDCイベントの内容:\n",
      "+------------------------------------------------------------------------------------------------------------------------------------------------------------------------------------------------------------------------------------------------------------+\n",
      "|payload                                                                                                                                                                                                                                                     |\n",
      "+------------------------------------------------------------------------------------------------------------------------------------------------------------------------------------------------------------------------------------------------------------+\n",
      "|{{Electronics, 2025-01-15T14:30:00Z, 59.99, 2004, Gaming Mouse, 100, 2025-01-15T14:30:00Z}, NULL, c, {inventory, products, 1737037800000}, 1737037800000}                                                                                                   |\n",
      "|{{Electronics, 2025-01-15T10:30:00Z, 89.99, 2001, Wireless Headphones, 143, 2025-01-15T15:00:00Z}, {Electronics, 2025-01-15T10:30:00Z, 89.99, 2001, Wireless Headphones, 150, 2025-01-15T10:30:00Z}, u, {inventory, products, 1737039600000}, 1737039600000}|\n",
      "|{NULL, {Accessories, 2025-01-15T11:00:00Z, 12.99, 2002, USB Cable, 200, 2025-01-15T11:00:00Z}, d, {inventory, products, 1737041400000}, 1737041400000}                                                                                                      |\n",
      "+------------------------------------------------------------------------------------------------------------------------------------------------------------------------------------------------------------------------------------------------------------+\n",
      "\n"
     ]
    }
   ],
   "source": [
    "# JSONファイルからCDCイベントを読み込み\n",
    "df_cdc_raw = spark.read.json(json_file_path)\n",
    "print(\"CDCイベントの構造:\")\n",
    "df_cdc_raw.printSchema()\n",
    "print(\"\\nCDCイベントの内容:\")\n",
    "df_cdc_raw.show(truncate=False)"
   ]
  },
  {
   "cell_type": "code",
   "execution_count": 77,
   "metadata": {},
   "outputs": [
    {
     "name": "stdout",
     "output_type": "stream",
     "text": [
      "構造化されたCDCイベントのスキーマ:\n",
      "root\n",
      " |-- payload: struct (nullable = true)\n",
      " |    |-- before: struct (nullable = true)\n",
      " |    |    |-- product_id: long (nullable = true)\n",
      " |    |    |-- product_name: string (nullable = true)\n",
      " |    |    |-- category: string (nullable = true)\n",
      " |    |    |-- price: double (nullable = true)\n",
      " |    |    |-- stock_quantity: long (nullable = true)\n",
      " |    |    |-- created_at: string (nullable = true)\n",
      " |    |    |-- updated_at: string (nullable = true)\n",
      " |    |-- after: struct (nullable = true)\n",
      " |    |    |-- product_id: long (nullable = true)\n",
      " |    |    |-- product_name: string (nullable = true)\n",
      " |    |    |-- category: string (nullable = true)\n",
      " |    |    |-- price: double (nullable = true)\n",
      " |    |    |-- stock_quantity: long (nullable = true)\n",
      " |    |    |-- created_at: string (nullable = true)\n",
      " |    |    |-- updated_at: string (nullable = true)\n",
      " |    |-- op: string (nullable = true)\n",
      " |    |-- ts_ms: long (nullable = true)\n",
      " |    |-- source: struct (nullable = true)\n",
      " |    |    |-- db: string (nullable = true)\n",
      " |    |    |-- table: string (nullable = true)\n",
      " |    |    |-- ts_ms: long (nullable = true)\n",
      "\n",
      "\n",
      "変換後のCDCデータ:\n",
      "+----------+-------------------+-----------+-----+--------------+-------------------+-------------------+---+-------------+-------------------+\n",
      "|product_id|product_name       |category   |price|stock_quantity|created_at         |updated_at         |_op|_ts_ms       |_change_time       |\n",
      "+----------+-------------------+-----------+-----+--------------+-------------------+-------------------+---+-------------+-------------------+\n",
      "|2004      |Gaming Mouse       |Electronics|59.99|100           |2025-01-15 14:30:00|2025-01-15 14:30:00|c  |1737037800000|2025-01-16 14:30:00|\n",
      "|2001      |Wireless Headphones|Electronics|89.99|143           |2025-01-15 10:30:00|2025-01-15 15:00:00|u  |1737039600000|2025-01-16 15:00:00|\n",
      "|2002      |NULL               |NULL       |NULL |NULL          |NULL               |NULL               |d  |1737041400000|2025-01-16 15:30:00|\n",
      "+----------+-------------------+-----------+-----+--------------+-------------------+-------------------+---+-------------+-------------------+\n",
      "\n"
     ]
    }
   ],
   "source": [
    "# スキーマを明示的に定義してCDCイベントを処理\n",
    "from pyspark.sql.types import StructType, StructField, StringType, LongType, DoubleType\n",
    "\n",
    "# Debeziumのスキーマ定義\n",
    "product_schema = StructType([\n",
    "    StructField(\"product_id\", LongType(), True),\n",
    "    StructField(\"product_name\", StringType(), True),\n",
    "    StructField(\"category\", StringType(), True),\n",
    "    StructField(\"price\", DoubleType(), True),\n",
    "    StructField(\"stock_quantity\", LongType(), True),\n",
    "    StructField(\"created_at\", StringType(), True),\n",
    "    StructField(\"updated_at\", StringType(), True)\n",
    "])\n",
    "\n",
    "source_schema = StructType([\n",
    "    StructField(\"db\", StringType(), True),\n",
    "    StructField(\"table\", StringType(), True),\n",
    "    StructField(\"ts_ms\", LongType(), True)\n",
    "])\n",
    "\n",
    "payload_schema = StructType([\n",
    "    StructField(\"before\", product_schema, True),\n",
    "    StructField(\"after\", product_schema, True),\n",
    "    StructField(\"op\", StringType(), True),\n",
    "    StructField(\"ts_ms\", LongType(), True),\n",
    "    StructField(\"source\", source_schema, True)\n",
    "])\n",
    "\n",
    "cdc_schema = StructType([\n",
    "    StructField(\"payload\", payload_schema, True)\n",
    "])\n",
    "\n",
    "# スキーマを指定してJSONファイルを読み込み\n",
    "df_cdc_structured = spark.read.schema(cdc_schema).json(json_file_path)\n",
    "\n",
    "print(\"構造化されたCDCイベントのスキーマ:\")\n",
    "df_cdc_structured.printSchema()\n",
    "\n",
    "# CDCイベントを処理用に変換\n",
    "df_changes = df_cdc_structured.select(\n",
    "    # 削除操作の場合はbeforeから、それ以外はafterからproduct_idを取得\n",
    "    F.when(F.col(\"payload.op\") == \"d\", F.col(\"payload.before.product_id\"))\n",
    "     .otherwise(F.col(\"payload.after.product_id\")).alias(\"product_id\"),\n",
    "    \n",
    "    # 削除操作以外の場合はafterから値を取得\n",
    "    F.col(\"payload.after.product_name\").alias(\"product_name\"),\n",
    "    F.col(\"payload.after.category\").alias(\"category\"),\n",
    "    F.col(\"payload.after.price\").cast(\"decimal(10,2)\").alias(\"price\"),\n",
    "    F.col(\"payload.after.stock_quantity\").alias(\"stock_quantity\"),\n",
    "    F.to_timestamp(F.col(\"payload.after.created_at\")).alias(\"created_at\"),\n",
    "    F.to_timestamp(F.col(\"payload.after.updated_at\")).alias(\"updated_at\"),\n",
    "    \n",
    "    # メタデータ\n",
    "    F.col(\"payload.op\").alias(\"_op\"),\n",
    "    F.col(\"payload.ts_ms\").alias(\"_ts_ms\"),\n",
    "    F.from_unixtime(F.col(\"payload.ts_ms\") / 1000).cast(\"timestamp\").alias(\"_change_time\")\n",
    ")\n",
    "\n",
    "print(\"\\n変換後のCDCデータ:\")\n",
    "df_changes.show(truncate=False)"
   ]
  },
  {
   "cell_type": "markdown",
   "metadata": {},
   "source": [
    "### 4. 同一レコードの複数変更への対応\n",
    "\n",
    "同一商品に対する複数の変更がある場合、最新の変更のみを適用します。"
   ]
  },
  {
   "cell_type": "code",
   "execution_count": 78,
   "metadata": {},
   "outputs": [
    {
     "name": "stdout",
     "output_type": "stream",
     "text": [
      "重複除去後のCDCデータ:\n",
      "+----------+-------------------+-----------+-----+--------------+-------------------+-------------------+---+-------------+-------------------+\n",
      "|product_id|product_name       |category   |price|stock_quantity|created_at         |updated_at         |_op|_ts_ms       |_change_time       |\n",
      "+----------+-------------------+-----------+-----+--------------+-------------------+-------------------+---+-------------+-------------------+\n",
      "|2001      |Wireless Headphones|Electronics|89.99|143           |2025-01-15 10:30:00|2025-01-15 15:00:00|u  |1737039600000|2025-01-16 15:00:00|\n",
      "|2002      |NULL               |NULL       |NULL |NULL          |NULL               |NULL               |d  |1737041400000|2025-01-16 15:30:00|\n",
      "|2004      |Gaming Mouse       |Electronics|59.99|100           |2025-01-15 14:30:00|2025-01-15 14:30:00|c  |1737037800000|2025-01-16 14:30:00|\n",
      "+----------+-------------------+-----------+-----+--------------+-------------------+-------------------+---+-------------+-------------------+\n",
      "\n"
     ]
    }
   ],
   "source": [
    "# 各product_idごとに最新の変更のみを抽出\n",
    "window = Window.partitionBy(\"product_id\").orderBy(F.desc(\"_ts_ms\"))\n",
    "df_latest = df_changes.withColumn(\"rank\", F.row_number().over(window)) \\\n",
    "                     .filter(F.col(\"rank\") == 1) \\\n",
    "                     .drop(\"rank\")\n",
    "\n",
    "print(\"重複除去後のCDCデータ:\")\n",
    "df_latest.show(truncate=False)\n",
    "\n",
    "# ステージングテーブルとして一時ビューを作成\n",
    "df_latest.createOrReplaceTempView(\"staging_changes\")"
   ]
  },
  {
   "cell_type": "markdown",
   "metadata": {},
   "source": [
    "### 5. MERGE INTO 文による Iceberg テーブルの更新"
   ]
  },
  {
   "cell_type": "code",
   "execution_count": 79,
   "metadata": {},
   "outputs": [
    {
     "data": {
      "text/html": [
       "<span style=\"None\">Running query in &#x27;SparkSession&#x27;</span>"
      ],
      "text/plain": [
       "Running query in 'SparkSession'"
      ]
     },
     "metadata": {},
     "output_type": "display_data"
    },
    {
     "data": {
      "text/html": [
       "<div>\n",
       "<style scoped>\n",
       "    .dataframe tbody tr th:only-of-type {\n",
       "        vertical-align: middle;\n",
       "    }\n",
       "\n",
       "    .dataframe tbody tr th {\n",
       "        vertical-align: top;\n",
       "    }\n",
       "\n",
       "    .dataframe thead th {\n",
       "        text-align: right;\n",
       "    }\n",
       "</style>\n",
       "<table border=\"1\" class=\"dataframe\">\n",
       "  <thead>\n",
       "    <tr style=\"text-align: right;\">\n",
       "      <th></th>\n",
       "    </tr>\n",
       "  </thead>\n",
       "  <tbody>\n",
       "  </tbody>\n",
       "</table>\n",
       "</div>"
      ],
      "text/plain": [
       "Empty DataFrame\n",
       "Columns: []\n",
       "Index: []"
      ]
     },
     "execution_count": 79,
     "metadata": {},
     "output_type": "execute_result"
    }
   ],
   "source": [
    "%%sql\n",
    "MERGE INTO db.products AS target\n",
    "USING staging_changes AS source\n",
    "ON target.product_id = source.product_id\n",
    "WHEN MATCHED AND source._op = 'd' THEN\n",
    "    DELETE\n",
    "WHEN MATCHED AND source._op IN ('u', 'c') THEN\n",
    "    UPDATE SET\n",
    "        target.product_name = source.product_name,\n",
    "        target.category = source.category,\n",
    "        target.price = source.price,\n",
    "        target.stock_quantity = source.stock_quantity,\n",
    "        target.created_at = source.created_at,\n",
    "        target.updated_at = source.updated_at\n",
    "WHEN NOT MATCHED AND source._op IN ('c', 'u') THEN\n",
    "    INSERT (product_id, product_name, category, price, stock_quantity, created_at, updated_at)\n",
    "    VALUES (source.product_id, source.product_name, source.category, \n",
    "            source.price, source.stock_quantity, source.created_at, source.updated_at)"
   ]
  },
  {
   "cell_type": "markdown",
   "metadata": {},
   "source": [
    "### 6. 結果の確認"
   ]
  },
  {
   "cell_type": "code",
   "execution_count": 80,
   "metadata": {},
   "outputs": [
    {
     "data": {
      "text/html": [
       "<span style=\"None\">Running query in &#x27;SparkSession&#x27;</span>"
      ],
      "text/plain": [
       "Running query in 'SparkSession'"
      ]
     },
     "metadata": {},
     "output_type": "display_data"
    },
    {
     "data": {
      "text/html": [
       "<span style=\"color: green\">3 rows affected.</span>"
      ],
      "text/plain": [
       "3 rows affected."
      ]
     },
     "metadata": {},
     "output_type": "display_data"
    },
    {
     "data": {
      "text/html": [
       "<div>\n",
       "<style scoped>\n",
       "    .dataframe tbody tr th:only-of-type {\n",
       "        vertical-align: middle;\n",
       "    }\n",
       "\n",
       "    .dataframe tbody tr th {\n",
       "        vertical-align: top;\n",
       "    }\n",
       "\n",
       "    .dataframe thead th {\n",
       "        text-align: right;\n",
       "    }\n",
       "</style>\n",
       "<table border=\"1\" class=\"dataframe\">\n",
       "  <thead>\n",
       "    <tr style=\"text-align: right;\">\n",
       "      <th></th>\n",
       "      <th>product_id</th>\n",
       "      <th>product_name</th>\n",
       "      <th>category</th>\n",
       "      <th>price</th>\n",
       "      <th>stock_quantity</th>\n",
       "      <th>created_at</th>\n",
       "      <th>updated_at</th>\n",
       "    </tr>\n",
       "  </thead>\n",
       "  <tbody>\n",
       "    <tr>\n",
       "      <th>0</th>\n",
       "      <td>2001</td>\n",
       "      <td>Wireless Headphones</td>\n",
       "      <td>Electronics</td>\n",
       "      <td>89.99</td>\n",
       "      <td>143</td>\n",
       "      <td>2025-01-15 10:30:00</td>\n",
       "      <td>2025-01-15 15:00:00</td>\n",
       "    </tr>\n",
       "    <tr>\n",
       "      <th>1</th>\n",
       "      <td>2003</td>\n",
       "      <td>Bluetooth Speaker</td>\n",
       "      <td>Electronics</td>\n",
       "      <td>45.99</td>\n",
       "      <td>75</td>\n",
       "      <td>2025-01-15 12:00:00</td>\n",
       "      <td>2025-01-15 12:00:00</td>\n",
       "    </tr>\n",
       "    <tr>\n",
       "      <th>2</th>\n",
       "      <td>2004</td>\n",
       "      <td>Gaming Mouse</td>\n",
       "      <td>Electronics</td>\n",
       "      <td>59.99</td>\n",
       "      <td>100</td>\n",
       "      <td>2025-01-15 14:30:00</td>\n",
       "      <td>2025-01-15 14:30:00</td>\n",
       "    </tr>\n",
       "  </tbody>\n",
       "</table>\n",
       "</div>"
      ],
      "text/plain": [
       "   product_id         product_name     category  price  stock_quantity  \\\n",
       "0        2001  Wireless Headphones  Electronics  89.99             143   \n",
       "1        2003    Bluetooth Speaker  Electronics  45.99              75   \n",
       "2        2004         Gaming Mouse  Electronics  59.99             100   \n",
       "\n",
       "           created_at          updated_at  \n",
       "0 2025-01-15 10:30:00 2025-01-15 15:00:00  \n",
       "1 2025-01-15 12:00:00 2025-01-15 12:00:00  \n",
       "2 2025-01-15 14:30:00 2025-01-15 14:30:00  "
      ]
     },
     "execution_count": 80,
     "metadata": {},
     "output_type": "execute_result"
    }
   ],
   "source": [
    "%%sql\n",
    "SELECT * FROM db.products"
   ]
  },
  {
   "cell_type": "markdown",
   "metadata": {},
   "source": [
    "## まとめ\n",
    "\n",
    "このハンズオンでは、CDC（Change Data Capture）ログを使用して Iceberg テーブルにデータを同期する方法を学びました：\n",
    "\n",
    "1. **Debezium形式のCDCイベント**: 変更前後の値と操作タイプ（INSERT/UPDATE/DELETE）を含む構造化されたイベント\n",
    "2. **データ変換処理**: CDCイベントを処理用の統一された形式に変換\n",
    "3. **重複排除**: 同一レコードの複数回更新に対する最新状態の抽出\n",
    "4. **MERGE INTO文**: CDCデータをIcebergテーブルに適用する強力なSQL文\n",
    "5. **バッチ処理関数**: 実運用を想定した処理の関数化\n",
    "\n",
    "実際の運用では、Debezium + Kafka + Kafka Connect や Flink などを使用してリアルタイムでCDCログを処理しますが、基本的な処理パターンは本ハンズオンで学んだ内容と同じです。\n",
    "\n",
    "このような処理を定期的に実行することで、ソースシステムの変更をIcebergテーブルに効率的に同期できます。"
   ]
  },
  {
   "cell_type": "code",
   "execution_count": null,
   "metadata": {},
   "outputs": [],
   "source": []
  }
 ],
 "metadata": {
  "kernelspec": {
   "display_name": "Python 3 (ipykernel)",
   "language": "python",
   "name": "python3"
  },
  "language_info": {
   "codemirror_mode": {
    "name": "ipython",
    "version": 3
   },
   "file_extension": ".py",
   "mimetype": "text/x-python",
   "name": "python",
   "nbconvert_exporter": "python",
   "pygments_lexer": "ipython3",
   "version": "3.11.10"
  }
 },
 "nbformat": 4,
 "nbformat_minor": 4
}
