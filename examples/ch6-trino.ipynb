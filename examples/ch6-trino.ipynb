{
 "cells": [
  {
   "cell_type": "markdown",
   "metadata": {},
   "source": [
    "# 第 6 章: Trino"
   ]
  },
  {
   "cell_type": "markdown",
   "metadata": {},
   "source": [
    "## Trinoでデータ処理を実行する\n",
    "\n",
    "Trino は複数のデータソースに対する統一的な SQL インターフェースを提供する分散 SQL クエリエンジンです。大規模なデータウェアハウスからデータレイク、さらには複数のリレーショナルデータベースまで、異なるデータソースを単一のクエリで結合できます。"
   ]
  },
  {
   "cell_type": "markdown",
   "metadata": {},
   "source": [
    "### 1. 初期設定"
   ]
  },
  {
   "cell_type": "code",
   "execution_count": null,
   "metadata": {},
   "outputs": [],
   "source": [
    "# 必要なライブラリのインストール\n",
    "!pip install -q trino pandas"
   ]
  },
  {
   "cell_type": "code",
   "execution_count": null,
   "metadata": {},
   "outputs": [],
   "source": [
    "# 環境変数の設定\n",
    "TRINO_URI = \"http://trino:8085\"\n",
    "WAREHOUSE = \"s3://amzn-s3-demo-bucket\""
   ]
  },
  {
   "cell_type": "markdown",
   "metadata": {},
   "source": [
    "### 2. Trinoへの接続\n",
    "\n",
    "Trino Python クライアントを使用して、Trino サーバーに接続します。"
   ]
  },
  {
   "cell_type": "code",
   "execution_count": null,
   "metadata": {},
   "outputs": [],
   "source": [
    "from trino.dbapi import connect\n",
    "import pandas as pd\n",
    "\n",
    "# Icebergカタログを使用してTrinoに接続\n",
    "conn = connect(host=TRINO_URI, user=\"trino\", catalog=\"iceberg\")\n",
    "cur = conn.cursor()\n",
    "\n",
    "# カタログの確認\n",
    "cur.execute(\"SHOW CATALOGS\")\n",
    "catalogs = cur.fetchall()\n",
    "print(\"利用可能なカタログ:\")\n",
    "for catalog in catalogs:\n",
    "    print(catalog[0])"
   ]
  },
  {
   "cell_type": "markdown",
   "metadata": {},
   "source": [
    "## Iceberg の利用を開始する"
   ]
  },
  {
   "cell_type": "markdown",
   "metadata": {},
   "source": [
    "### 1. テーブルの作成と変更\n",
    "\n",
    "まずは基本的なテーブル作成と変更のオペレーションを見ていきましょう。"
   ]
  },
  {
   "cell_type": "code",
   "execution_count": null,
   "metadata": {},
   "outputs": [],
   "source": [
    "cur.execute(\"\"\"\n",
    "CREATE OR REPLACE TABLE iceberg.retail.customers (\n",
    "    customer_id BIGINT,\n",
    "    name VARCHAR,\n",
    "    email VARCHAR,\n",
    "    registration_date DATE,\n",
    "    segment VARCHAR,\n",
    "    active BOOLEAN\n",
    ")\n",
    "\"\"\")\n",
    "\n",
    "# テーブル情報の確認\n",
    "cur.execute(\"DESCRIBE iceberg.retail.customers\")\n",
    "table_schema = cur.fetchall()\n",
    "pd.DataFrame(table_schema, columns=['Column', 'Type', 'Extra', 'Comment'])"
   ]
  },
  {
   "cell_type": "code",
   "execution_count": null,
   "metadata": {},
   "outputs": [],
   "source": [
    "# テーブル変更：新しい列の追加\n",
    "cur.execute(\"ALTER TABLE iceberg.retail.customers ADD COLUMN birth_date DATE\")\n",
    "cur.execute(\"DESCRIBE iceberg.retail.customers\")\n",
    "updated_schema = cur.fetchall()\n",
    "pd.DataFrame(updated_schema, columns=['Column', 'Type', 'Extra', 'Comment'])"
   ]
  },
  {
   "cell_type": "code",
   "execution_count": null,
   "metadata": {
    "scrolled": true
   },
   "outputs": [],
   "source": [
    "# テーブル変更：列の型変更\n",
    "cur.execute(\"ALTER TABLE iceberg.retail.customers ALTER COLUMN name SET DATA TYPE VARCHAR(100)\")\n",
    "\n",
    "# テーブル変更：列名の変更\n",
    "cur.execute(\"ALTER TABLE iceberg.retail.customers RENAME COLUMN email TO email_address\")\n",
    "\n",
    "# 最終的なテーブルスキーマの確認\n",
    "cur.execute(\"DESCRIBE iceberg.retail.customers\")\n",
    "final_schema = cur.fetchall()\n",
    "pd.DataFrame(final_schema, columns=['Column', 'Type', 'Extra', 'Comment'])"
   ]
  },
  {
   "cell_type": "markdown",
   "metadata": {},
   "source": [
    "### 2. CREATE TABLE AS SELECTを使用したテーブル作成\n",
    "\n",
    "Trino では、既存のクエリ結果から直接新しい Iceberg テーブルを作成できる「CREATE TABLE AS SELECT」（CTAS）構文をサポートしています。"
   ]
  },
  {
   "cell_type": "code",
   "execution_count": null,
   "metadata": {},
   "outputs": [],
   "source": [
    "# CTAS　の元になるテーブルを作成\n",
    "cur.execute(\"\"\"\n",
    "CREATE OR REPLACE TABLE iceberg.retail.sales_by_date (\n",
    "    sale_id VARCHAR,\n",
    "    product_id VARCHAR,\n",
    "    customer_id BIGINT,\n",
    "    sale_date DATE,\n",
    "    quantity INTEGER,\n",
    "    amount DECIMAL(10, 2),\n",
    "    region VARCHAR\n",
    ")\n",
    "\"\"\")\n",
    "\n",
    "# データの挿入\n",
    "cur.execute(\"\"\"\n",
    "INSERT INTO iceberg.retail.sales_by_date VALUES\n",
    "    ('S-1001', 'P-101', 1001, DATE '2023-01-15', 2, 129.99, 'North'),\n",
    "    ('S-1002', 'P-102', 1002, DATE '2023-01-15', 1, 89.95, 'North'),\n",
    "    ('S-1003', 'P-101', 1003, DATE '2023-01-16', 3, 194.98, 'South'),\n",
    "    ('S-1004', 'P-103', 1001, DATE '2023-02-01', 1, 49.99, 'North'),\n",
    "    ('S-1005', 'P-102', 1004, DATE '2023-02-01', 2, 179.90, 'East'),\n",
    "    ('S-1006', 'P-101', 1002, DATE '2023-02-15', 1, 64.99, 'North'),\n",
    "    ('S-1007', 'P-103', 1003, DATE '2023-02-20', 4, 199.96, 'South'),\n",
    "    ('S-1008', 'P-104', 1005, DATE '2023-03-01', 2, 149.98, 'West'),\n",
    "    ('S-1009', 'P-102', 1002, DATE '2023-03-05', 3, 269.85, 'North'),\n",
    "    ('S-1010', 'P-101', 1001, DATE '2023-03-15', 1, 64.99, 'North')\n",
    "\"\"\")\n",
    "\n",
    "# データの確認\n",
    "cur.execute(\"SELECT * FROM iceberg.retail.sales_by_date\")\n",
    "products = cur.fetchall()\n",
    "columns = [desc[0] for desc in cur.description]\n",
    "pd.DataFrame(products, columns=columns)"
   ]
  },
  {
   "cell_type": "code",
   "execution_count": null,
   "metadata": {},
   "outputs": [],
   "source": [
    "# sales_by_dateテーブルから月次売上サマリーを作成\n",
    "cur.execute(\"\"\"\n",
    "CREATE OR REPLACE TABLE iceberg.retail.monthly_sales_summary\n",
    "WITH (\n",
    "    format = 'PARQUET',\n",
    "    partitioning = ARRAY['region']\n",
    ")\n",
    "AS\n",
    "SELECT \n",
    "    date_trunc('month', sale_date) AS month,\n",
    "    region,\n",
    "    COUNT(*) AS transaction_count,\n",
    "    SUM(amount) AS total_sales\n",
    "FROM iceberg.retail.sales_by_date\n",
    "GROUP BY date_trunc('month', sale_date), region\n",
    "\"\"\")\n",
    "\n",
    "# 作成されたテーブルのデータを確認\n",
    "cur.execute(\"SELECT * FROM iceberg.retail.monthly_sales_summary ORDER BY month, region\")\n",
    "summary_data = cur.fetchall()\n",
    "columns = [desc[0] for desc in cur.description]\n",
    "pd.DataFrame(summary_data, columns=columns)"
   ]
  },
  {
   "cell_type": "markdown",
   "metadata": {},
   "source": [
    "### 3. パーティションを利用したテーブルの作成\n",
    "\n",
    "Icebergはパーティショニングをサポートしています。ここでは、注文データをステータスでパーティショニングしたテーブルを作成します。"
   ]
  },
  {
   "cell_type": "code",
   "execution_count": null,
   "metadata": {},
   "outputs": [],
   "source": [
    "# 注文テーブルの作成（ステータスでパーティショニング）\n",
    "cur.execute(\"\"\"\n",
    "CREATE OR REPLACE TABLE iceberg.retail.orders (\n",
    "    order_id VARCHAR,\n",
    "    customer_id BIGINT,\n",
    "    order_date DATE,\n",
    "    total_amount DECIMAL(10, 2),\n",
    "    status VARCHAR\n",
    ")\n",
    "WITH (\n",
    "    partitioning = ARRAY['status']\n",
    ")\n",
    "\"\"\")\n",
    "\n",
    "# サンプルデータの挿入\n",
    "cur.execute(\"\"\"\n",
    "INSERT INTO iceberg.retail.orders VALUES\n",
    "    ('O-1001', 101, DATE '2023-02-01', 149.99, 'COMPLETED'),\n",
    "    ('O-1002', 102, DATE '2023-02-01', 89.95, 'PROCESSING'),\n",
    "    ('O-1003', 101, DATE '2023-02-02', 32.50, 'SHIPPED'),\n",
    "    ('O-1004', 103, DATE '2023-02-03', 199.99, 'PROCESSING'),\n",
    "    ('O-1005', 101, DATE '2023-02-05', 75.00, 'COMPLETED')\n",
    "\"\"\")\n",
    "\n",
    "# データの確認\n",
    "cur.execute(\"SELECT * FROM iceberg.retail.orders\")\n",
    "orders = cur.fetchall()\n",
    "order_columns = [desc[0] for desc in cur.description]\n",
    "pd.DataFrame(orders, columns=order_columns)"
   ]
  },
  {
   "cell_type": "markdown",
   "metadata": {},
   "source": [
    "Icebergのメタデータテーブルを使って、パーティション情報を確認できます。"
   ]
  },
  {
   "cell_type": "code",
   "execution_count": null,
   "metadata": {},
   "outputs": [],
   "source": [
    "# パーティション情報の確認\n",
    "cur.execute(\"SELECT * FROM iceberg.retail.\\\"orders$partitions\\\"\")\n",
    "partitions = cur.fetchall()\n",
    "partition_columns = [desc[0] for desc in cur.description]\n",
    "pd.DataFrame(partitions, columns=partition_columns)"
   ]
  },
  {
   "cell_type": "markdown",
   "metadata": {},
   "source": [
    "パーティション列を使った集計クエリを実行します。パーティショニングにより、特定のステータスに関するクエリが効率的に実行されます。"
   ]
  },
  {
   "cell_type": "code",
   "execution_count": null,
   "metadata": {},
   "outputs": [],
   "source": [
    "# 注文ステータス別の集計\n",
    "cur.execute(\"\"\"\n",
    "SELECT \n",
    "    status,\n",
    "    COUNT(*) AS order_count,\n",
    "    SUM(total_amount) AS total_sales\n",
    "FROM iceberg.retail.orders\n",
    "GROUP BY status\n",
    "\"\"\")\n",
    "status_summary = cur.fetchall()\n",
    "status_columns = [desc[0] for desc in cur.description]\n",
    "pd.DataFrame(status_summary, columns=status_columns)"
   ]
  },
  {
   "cell_type": "markdown",
   "metadata": {},
   "source": [
    "### 4. パーティション変換(Transform) を使用したパーティショニング\n",
    "Iceberg はシンプルな列ベースのパーティショニングだけでなく、Transform を用いた高度なパーティショニング戦略もサポートしています。これらの関数を使うことで、データ分布に最適化されたパーティショニングスキーマを構築できます。\n",
    "\n",
    "- 時間関連の変換関数: year(), month(), day(), hour()\n",
    "- バケッティング関数: bucket(バケット数, 列名)\n",
    "- 値の切り捨て関数: truncate(長さ, 列名)\n"
   ]
  },
  {
   "cell_type": "code",
   "execution_count": null,
   "metadata": {},
   "outputs": [],
   "source": [
    "# 1. 時間階層パーティショニング - 年と月でパーティション分割\n",
    "cur.execute(\"\"\"\n",
    "CREATE OR REPLACE TABLE iceberg.retail.time_hierarchical_sales (\n",
    "    sale_id VARCHAR,\n",
    "    product_id VARCHAR,\n",
    "    customer_id BIGINT,\n",
    "    sale_timestamp TIMESTAMP,\n",
    "    amount DECIMAL(10, 2)\n",
    ")\n",
    "WITH (\n",
    "    format = 'PARQUET',\n",
    "    partitioning = ARRAY['month(sale_timestamp)']\n",
    ")\n",
    "\"\"\")\n",
    "\n",
    "# 2. 数値範囲のバケッティング - 金額を範囲でバケット化\n",
    "cur.execute(\"\"\"\n",
    "CREATE OR REPLACE TABLE iceberg.retail.amount_bucketed_sales (\n",
    "    sale_id VARCHAR,\n",
    "    product_id VARCHAR,\n",
    "    customer_id BIGINT,\n",
    "    sale_date DATE,\n",
    "    amount DECIMAL(10, 2)\n",
    ")\n",
    "WITH (\n",
    "    partitioning = ARRAY['truncate(amount,1000)']  -- 1000単位で金額をグループ化\n",
    ")\n",
    "\"\"\")\n",
    "\n",
    "# 3. 複合パーティショニング - 地域によるパーティショニングと顧客IDのハッシュバケッティング\n",
    "cur.execute(\"\"\"\n",
    "CREATE OR REPLACE TABLE iceberg.retail.region_customer_sales (\n",
    "    sale_id VARCHAR,\n",
    "    product_id VARCHAR,\n",
    "    customer_id BIGINT,\n",
    "    sale_date DATE,\n",
    "    region VARCHAR,\n",
    "    amount DECIMAL(10, 2)\n",
    ")\n",
    "WITH (\n",
    "    -- 地域によるパーティショニングと顧客 ID のバケット分割を設定\n",
    "    partitioning = ARRAY['region', 'bucket(customer_id, 10)']\n",
    ")\n",
    "\"\"\")"
   ]
  },
  {
   "cell_type": "markdown",
   "metadata": {},
   "source": [
    "## 読み込みオペレーション"
   ]
  },
  {
   "cell_type": "markdown",
   "metadata": {},
   "source": [
    "### 1. 基本的なクエリと条件付きフィルタリング\n",
    "\n",
    "テーブルデータの基本的な読み取りとフィルタリングの例を見てみましょう："
   ]
  },
  {
   "cell_type": "code",
   "execution_count": null,
   "metadata": {},
   "outputs": [],
   "source": [
    "cur.execute(\"\"\"\n",
    "CREATE OR REPLACE TABLE iceberg.retail.sales_by_date (\n",
    "    sale_id VARCHAR,\n",
    "    product_id VARCHAR,\n",
    "    customer_id BIGINT,\n",
    "    sale_date DATE,\n",
    "    quantity INTEGER,\n",
    "    amount DECIMAL(10, 2),\n",
    "    region VARCHAR\n",
    ")\n",
    "WITH (\n",
    "    format = 'PARQUET',\n",
    "    partitioning = ARRAY['sale_date']\n",
    ")\n",
    "\"\"\")\n",
    "\n",
    "# データの挿入\n",
    "cur.execute(\"\"\"\n",
    "INSERT INTO iceberg.retail.sales_by_date VALUES\n",
    "    ('S-1001', 'P-101', 1001, DATE '2023-01-15', 2, 129.99, 'North'),\n",
    "    ('S-1002', 'P-102', 1002, DATE '2023-01-15', 1, 89.95, 'North'),\n",
    "    ('S-1003', 'P-101', 1003, DATE '2023-01-16', 3, 194.98, 'South'),\n",
    "    ('S-1004', 'P-103', 1001, DATE '2023-02-01', 1, 49.99, 'North'),\n",
    "    ('S-1005', 'P-102', 1004, DATE '2023-02-01', 2, 179.90, 'East'),\n",
    "    ('S-1006', 'P-101', 1002, DATE '2023-02-15', 1, 64.99, 'North'),\n",
    "    ('S-1007', 'P-103', 1003, DATE '2023-02-20', 4, 199.96, 'South'),\n",
    "    ('S-1008', 'P-104', 1005, DATE '2023-03-01', 2, 149.98, 'West'),\n",
    "    ('S-1009', 'P-102', 1002, DATE '2023-03-05', 3, 269.85, 'North'),\n",
    "    ('S-1010', 'P-101', 1001, DATE '2023-03-15', 1, 64.99, 'North')\n",
    "\"\"\")\n",
    "\n",
    "# データの確認\n",
    "cur.execute(\"SELECT * FROM iceberg.retail.sales_by_date\")\n",
    "products = cur.fetchall()\n",
    "columns = [desc[0] for desc in cur.description]\n",
    "pd.DataFrame(products, columns=columns)"
   ]
  },
  {
   "cell_type": "code",
   "execution_count": null,
   "metadata": {},
   "outputs": [],
   "source": [
    "# 日付によるフィルタリング\n",
    "# 2023年2月以降の販売データを取得\n",
    "cur.execute(\"\"\"\n",
    "-- 日付によるフィルタリング\n",
    "-- 2023年2月以降の販売データを取得\n",
    "SELECT\n",
    "    sale_date,\n",
    "    COUNT(*) AS sale_count,\n",
    "    SUM(quantity) AS total_quantity,\n",
    "    SUM(amount) AS total_amount\n",
    "FROM iceberg.retail.sales_by_date\n",
    "WHERE sale_date >= DATE '2023-02-01'\n",
    "GROUP BY sale_date\n",
    "ORDER BY sale_date\n",
    "\"\"\")\n",
    "filtered_data = cur.fetchall()\n",
    "filtered_columns = [desc[0] for desc in cur.description]\n",
    "pd.DataFrame(filtered_data, columns=filtered_columns)"
   ]
  },
  {
   "cell_type": "code",
   "execution_count": null,
   "metadata": {},
   "outputs": [],
   "source": [
    "# 複合条件によるフィルタリング\n",
    "# 2023年1月の100ドル以上の販売を製品別に集計\n",
    "cur.execute(\"\"\"\n",
    "-- 複合条件によるフィルタリング\n",
    "-- 2023年1月の100ドル以上の販売を製品別に集計\n",
    "SELECT\n",
    "    product_id,\n",
    "    SUM(quantity) AS total_quantity,\n",
    "    SUM(amount) AS total_amount\n",
    "FROM iceberg.retail.sales_by_date\n",
    "WHERE sale_date BETWEEN DATE '2023-01-01' AND DATE '2023-01-31'\n",
    "  AND amount > 100.00\n",
    "GROUP BY product_id\n",
    "\"\"\")\n",
    "product_summary = cur.fetchall()\n",
    "product_columns = [desc[0] for desc in cur.description]\n",
    "pd.DataFrame(product_summary, columns=product_columns)"
   ]
  },
  {
   "cell_type": "markdown",
   "metadata": {},
   "source": [
    "### 2. データの更新とタイムトラベルクエリの実行\n",
    "\n",
    "Iceberg の重要な機能の一つであるタイムトラベルを使って、テーブルの過去のバージョンにアクセスする方法を見ていきましょう。"
   ]
  },
  {
   "cell_type": "code",
   "execution_count": null,
   "metadata": {},
   "outputs": [],
   "source": [
    "# タイムトラベルのデモ用テーブル作成\n",
    "cur.execute(\"\"\"\n",
    "CREATE OR REPLACE TABLE iceberg.retail.time_travel_demo (\n",
    "    id INTEGER,\n",
    "    name VARCHAR,\n",
    "    value DOUBLE\n",
    ")\n",
    "\"\"\")\n",
    "\n",
    "# 最初のデータセットを挿入\n",
    "cur.execute(\"\"\"\n",
    "INSERT INTO iceberg.retail.time_travel_demo VALUES\n",
    "    (1, 'Item A', 10.5),\n",
    "    (2, 'Item B', 20.75),\n",
    "    (3, 'Item C', 15.25)\n",
    "\"\"\")\n",
    "\n",
    "# 現在のタイムスタンプを記録\n",
    "cur.execute(\"SELECT current_timestamp\")\n",
    "first_timestamp = cur.fetchone()[0]\n",
    "print(f\"データセット挿入時刻: {first_timestamp}\")"
   ]
  },
  {
   "cell_type": "code",
   "execution_count": null,
   "metadata": {},
   "outputs": [],
   "source": [
    "# テーブルスナップショットの確認\n",
    "cur.execute(\"SELECT * FROM iceberg.retail.\\\"time_travel_demo$snapshots\\\"\")\n",
    "snapshots_after_first = cur.fetchall()\n",
    "first_snapshot_id = snapshots_after_first[1][1]  # snapshot_id\n",
    "print(f\"データセット挿入時のスナップショットID: {first_snapshot_id}\")"
   ]
  },
  {
   "cell_type": "code",
   "execution_count": null,
   "metadata": {},
   "outputs": [],
   "source": [
    "# 2つ目のデータセットを挿入\n",
    "cur.execute(\"\"\"\n",
    "INSERT INTO iceberg.retail.time_travel_demo VALUES\n",
    "    (4, 'Item D', 30.0),\n",
    "    (5, 'Item E', 25.5)\n",
    "\"\"\")\n",
    "\n",
    "# 現在のテーブルデータを確認\n",
    "cur.execute(\"SELECT * FROM iceberg.retail.time_travel_demo ORDER BY id\")\n",
    "current_data = cur.fetchall()\n",
    "current_columns = [desc[0] for desc in cur.description]\n",
    "pd.DataFrame(current_data, columns=current_columns)"
   ]
  },
  {
   "cell_type": "code",
   "execution_count": null,
   "metadata": {},
   "outputs": [],
   "source": [
    "# タイムスタンプによるタイムトラベル\n",
    "cur.execute(f\"\"\"\n",
    "SELECT * FROM iceberg.retail.time_travel_demo FOR TIMESTAMP AS OF TIMESTAMP '{first_timestamp}'\n",
    "ORDER BY id\n",
    "\"\"\")\n",
    "first_version_by_time = cur.fetchall()\n",
    "pd.DataFrame(first_version_by_time, columns=current_columns)"
   ]
  },
  {
   "cell_type": "code",
   "execution_count": null,
   "metadata": {},
   "outputs": [],
   "source": [
    "# スナップショットIDによるタイムトラベル\n",
    "cur.execute(f\"\"\"\n",
    "SELECT * FROM iceberg.retail.time_travel_demo FOR VERSION AS OF {first_snapshot_id}\n",
    "ORDER BY id\n",
    "\"\"\")\n",
    "first_version_by_id = cur.fetchall()\n",
    "pd.DataFrame(first_version_by_id, columns=current_columns)"
   ]
  },
  {
   "cell_type": "code",
   "execution_count": null,
   "metadata": {},
   "outputs": [],
   "source": [
    "# スナップショット履歴の確認\n",
    "cur.execute(\"SELECT * FROM iceberg.retail.\\\"time_travel_demo$history\\\"\")\n",
    "history = cur.fetchall()\n",
    "history_columns = [desc[0] for desc in cur.description]\n",
    "pd.DataFrame(history, columns=history_columns)"
   ]
  },
  {
   "cell_type": "markdown",
   "metadata": {},
   "source": [
    "### 3. 高度なWindowクエリを使用した分析\n",
    "\n",
    "ビジネスデータの分析において、「全体の集計値を知りたいが、同時に個々のデータの詳細も維持したい」というニーズはよくあります。通常の集計関数（SUM、AVG、COUNTなど）では、データをグループ化すると詳細情報が失われてしまいます。この課題を解決するのがウィンドウ関数です。"
   ]
  },
  {
   "cell_type": "markdown",
   "metadata": {},
   "source": [
    "ウィンドウ関数とは、データの「窓」（特定の行の集合）に対して計算を行い、各行に対して結果を返す特殊な関数です。通常の集計関数と異なり、行をグループに縮約することなく、もとの各行に対して計算結果を付加できます。ウィンドウ関数自体はIceberg固有の機能ではありませんが、Icebergのテーブルへの実践的な分析を行ううえで便利な機能です。"
   ]
  },
  {
   "cell_type": "markdown",
   "metadata": {},
   "source": [
    "Trinoは豊富なウィンドウ関数をサポートしています。ウィンドウ関数を理解するには、それを構成する3つの要素を知ることが重要です。\n",
    "\n",
    "- **パーティション（`PARTITION BY`）**：データをどのように分割するか\n",
    "- **順序（`ORDER BY`）**：各パーティション内でデータをどのように並べるか\n",
    "- **フレーム（`ROWS/RANGE BETWEEN`）**：現在の行に対して、どの範囲の行を計算に含めるか\n",
    "\n",
    "それでは、実際の例を通してウィンドウ関数の活用法を見ていきましょう。まず、分析用のサンプルデータを作成します。"
   ]
  },
  {
   "cell_type": "code",
   "execution_count": null,
   "metadata": {},
   "outputs": [],
   "source": [
    "cur.execute(\"\"\"\n",
    "CREATE OR REPLACE TABLE iceberg.retail.detailed_sales (\n",
    "    sale_id VARCHAR,\n",
    "    sale_date DATE,\n",
    "    product_id VARCHAR,\n",
    "    product_category VARCHAR,\n",
    "    store_id VARCHAR,\n",
    "    sales_person_id VARCHAR,\n",
    "    quantity INTEGER,\n",
    "    unit_price DECIMAL(10, 2),\n",
    "    discount DECIMAL(5, 2),\n",
    "    total_price DECIMAL(10, 2)\n",
    ")\n",
    "\"\"\")\n",
    "\n",
    "# サンプルデータの挿入\n",
    "cur.execute(\"\"\"\n",
    "INSERT INTO iceberg.retail.detailed_sales VALUES\n",
    "    ('S-1001', DATE '2023-01-05', 'P-101', 'Electronics', 'Store-A', 'SP-1', 2, 500.00, 0.00, 1000.00),\n",
    "    ('S-1002', DATE '2023-01-10', 'P-102', 'Home', 'Store-B', 'SP-2', 1, 300.00, 30.00, 270.00),\n",
    "    ('S-1003', DATE '2023-01-15', 'P-101', 'Electronics', 'Store-A', 'SP-1', 1, 500.00, 50.00, 450.00),\n",
    "    ('S-1004', DATE '2023-01-20', 'P-103', 'Clothing', 'Store-C', 'SP-3', 3, 100.00, 0.00, 300.00),\n",
    "    ('S-1005', DATE '2023-01-25', 'P-104', 'Home', 'Store-B', 'SP-2', 2, 250.00, 25.00, 475.00),\n",
    "    ('S-1006', DATE '2023-02-05', 'P-101', 'Electronics', 'Store-A', 'SP-1', 1, 520.00, 0.00, 520.00),\n",
    "    ('S-1007', DATE '2023-02-10', 'P-105', 'Clothing', 'Store-C', 'SP-3', 4, 80.00, 0.00, 320.00),\n",
    "    ('S-1008', DATE '2023-02-15', 'P-102', 'Home', 'Store-B', 'SP-4', 2, 300.00, 60.00, 540.00),\n",
    "    ('S-1009', DATE '2023-02-20', 'P-103', 'Clothing', 'Store-A', 'SP-1', 1, 100.00, 10.00, 90.00),\n",
    "    ('S-1010', DATE '2023-02-25', 'P-104', 'Home', 'Store-B', 'SP-2', 3, 250.00, 0.00, 750.00)\n",
    "\"\"\")"
   ]
  },
  {
   "cell_type": "markdown",
   "metadata": {},
   "source": [
    "「各カテゴリで最も売れている製品は何か？」を調査するユースケースを考えてみましょう。ウィンドウ関数を使うことで、各製品の売上を集計し、カテゴリ内でのランキングを付けられます。"
   ]
  },
  {
   "cell_type": "markdown",
   "metadata": {},
   "source": [
    "このクエリのうち`RANK() OVER (PARTITION BY product_category ORDER BY total_sales DESC)`という部分がウィンドウ関数で、以下の処理が行われています。\n",
    "\n",
    "- `PARTITION BY product_category`：データを製品カテゴリごとに分割する\n",
    "- `ORDER BY SUM(total_price) DESC`：各カテゴリ内で、総売上高の降順に並べる\n",
    "- `RANK()`：並べられた順に順位を割り当てる（同点の場合は同じ順位になり、次の順位はスキップされる）\n",
    "\n",
    "結果として、各製品に対して、そのカテゴリ内での売上ランキングが付与されます。これにより、「`product_category`が`Electronics`の中で最も売れている製品は何か？」といった質問に即座に答えられます。"
   ]
  },
  {
   "cell_type": "code",
   "execution_count": null,
   "metadata": {},
   "outputs": [],
   "source": [
    "cur.execute(\"\"\"\n",
    "WITH product_sales AS (\n",
    "    SELECT\n",
    "        product_id,\n",
    "        product_category,\n",
    "        SUM(total_price) AS total_sales  -- 全期間の合計\n",
    "    FROM iceberg.retail.detailed_sales\n",
    "    GROUP BY product_id, product_category\n",
    ")\n",
    "SELECT\n",
    "    product_id,\n",
    "    product_category,\n",
    "    total_sales,\n",
    "    RANK() OVER (\n",
    "        PARTITION BY product_category\n",
    "        ORDER BY total_sales DESC\n",
    "    ) AS category_rank\n",
    "FROM product_sales\n",
    "\"\"\")\n",
    "\n",
    "rank_data = cur.fetchall()\n",
    "rank_columns = [desc[0] for desc in cur.description]\n",
    "rank_df = pd.DataFrame(rank_data, columns=rank_columns)\n",
    "print(\"\\n製品カテゴリ別・月次ランキング:\")\n",
    "print(rank_df)"
   ]
  },
  {
   "cell_type": "markdown",
   "metadata": {},
   "source": [
    "日々の売上のトレンドを把握するために、移動平均を計算してみましょう。移動平均は、短期的な変動を平滑化し、長期的なトレンドを把握するのに役立ちます。"
   ]
  },
  {
   "cell_type": "markdown",
   "metadata": {},
   "source": [
    "このクエリでは、`AVG(daily_total) OVER (ORDER BY sale_date ROWS BETWEEN 2 PRECEDING AND CURRENT ROW)`の部分でウィンドウ関数が使用されており、以下の処理が行われています。\n",
    "\n",
    "- `ORDER BY sale_date`：日付順にデータを並べる\n",
    "- `ROWS BETWEEN 2 PRECEDING AND CURRENT ROW`：現在の行と、その前の2行（合計3行）をウィンドウフレームとして定義する\n",
    "- `AVG(daily_total)`：このフレーム内の日次売上の平均を計算する\n",
    "\n",
    "たとえば、1月15日の行を処理する場合、1月5日、1月10日、1月15日の3日間の売上平均が計算されます。データの初期部分（最初の行など）では、前の行が足りない場合、利用可能な行だけで平均を計算します。この移動平均により、日々の短期的な変動の影響を緩和して、売上の全体的な傾向を把握できます。特に季節変動や週末効果がある小売データで有用です。"
   ]
  },
  {
   "cell_type": "code",
   "execution_count": null,
   "metadata": {},
   "outputs": [],
   "source": [
    "cur.execute(\"\"\"\n",
    "WITH daily_sales AS (\n",
    "    SELECT\n",
    "        sale_date,\n",
    "        SUM(total_price) AS daily_total\n",
    "    FROM iceberg.retail.detailed_sales\n",
    "    GROUP BY sale_date\n",
    ")\n",
    "SELECT\n",
    "    sale_date,\n",
    "    daily_total,\n",
    "    AVG(daily_total) OVER (\n",
    "        ORDER BY sale_date\n",
    "        ROWS BETWEEN 2 PRECEDING AND CURRENT ROW\n",
    "    ) AS moving_avg_3day\n",
    "FROM daily_sales\n",
    "ORDER BY sale_date\n",
    "\"\"\")\n",
    "\n",
    "data = cur.fetchall()\n",
    "trend_columns = [desc[0] for desc in cur.description]\n",
    "trend_df = pd.DataFrame(data, columns=trend_columns)\n",
    "print(\"\\n移動平均:\")\n",
    "print(trend_df)"
   ]
  },
  {
   "cell_type": "markdown",
   "metadata": {},
   "source": [
    "製品ごとの累積売上を追跡するために、ウィンドウ関数を使用して各カテゴリの売上を日付ごとに累積してみましょう。これにより、特定の期間における各カテゴリの売上成長を把握できます。"
   ]
  },
  {
   "cell_type": "markdown",
   "metadata": {},
   "source": [
    "このクエリのウィンドウ関数`SUM(daily_sales) OVER (PARTITION BY product_category ORDER BY sale_date ROWS UNBOUNDED PRECEDING)`は以下のようになっています。\n",
    "\n",
    "- `PARTITION BY product_category`：カテゴリごとに独立して累積を計算する\n",
    "- `ORDER BY sale_date`：日付順にデータを並べる\n",
    "- `ROWS UNBOUNDED PRECEDING`：「パーティションの先頭から現在の行まで」をフレームとして定義する\n",
    "- `SUM(daily_sales)`：このフレーム内の売上合計を計算する\n",
    "\n",
    "たとえば、「Electronics」カテゴリの2月5日の行では、1月5日から2月5日までのElectronics製品の総売上が表示されます。これにより、各カテゴリの売上成長を時系列で追跡できます。"
   ]
  },
  {
   "cell_type": "markdown",
   "metadata": {},
   "source": [
    "製品ごとの累積売上を追跡するために、ウィンドウ関数を使用して各カテゴリの売上を日付ごとに累積してみましょう。これにより、特定の期間における各カテゴリの売上成長を把握できます。"
   ]
  },
  {
   "cell_type": "code",
   "execution_count": null,
   "metadata": {},
   "outputs": [],
   "source": [
    "cur.execute(\"\"\"\n",
    "WITH date_sales AS (\n",
    "    SELECT\n",
    "        sale_date,\n",
    "        product_category,\n",
    "        SUM(total_price) AS daily_sales\n",
    "    FROM iceberg.retail.detailed_sales\n",
    "    GROUP BY sale_date, product_category\n",
    ")\n",
    "SELECT\n",
    "    sale_date,\n",
    "    product_category,\n",
    "    daily_sales,\n",
    "    SUM(daily_sales) OVER (\n",
    "        PARTITION BY product_category\n",
    "        ORDER BY sale_date\n",
    "        ROWS UNBOUNDED PRECEDING\n",
    "    ) AS cumulative_sales\n",
    "FROM date_sales\n",
    "ORDER BY product_category, sale_date\n",
    "\"\"\")\n",
    "\n",
    "data = cur.fetchall()\n",
    "category_sales_columns = [desc[0] for desc in cur.description]\n",
    "category_sales_df = pd.DataFrame(data, columns=rank_columns)\n",
    "print(\"\\n製品ごとの累積売り上げ:\")\n",
    "print(category_sales_df)"
   ]
  },
  {
   "cell_type": "markdown",
   "metadata": {},
   "source": [
    "最後に、製品ごとの価格変動を分析してみましょう。これは価格戦略の効果を評価するのに役立ちます。"
   ]
  },
  {
   "cell_type": "markdown",
   "metadata": {},
   "source": [
    "このクエリでは、`LAG(unit_price, 1) OVER (PARTITION BY product_id ORDER BY sale_date)`というウィンドウ関数を使用しています。\n",
    "\n",
    "- `PARTITION BY product_id`：製品ごとに独立して計算する\n",
    "- `ORDER BY sale_date`：日付順にデータを並べる\n",
    "- `LAG(unit_price, 1)`：現在の行より1行前の`unit_price`値を取得する\n",
    "\n",
    "たとえば、製品P-101の2月5日の行では、前回の販売日（1月15日）の価格が`previous_price`列に表示され、その差額が`price_change`列に計算されます。これにより、時間経過に伴う価格変動を簡単に追跡できます。"
   ]
  },
  {
   "cell_type": "markdown",
   "metadata": {},
   "source": [
    "最後に、製品ごとの価格変動を分析してみましょう。これは価格戦略の効果を評価するのに役立ちます。"
   ]
  },
  {
   "cell_type": "code",
   "execution_count": null,
   "metadata": {},
   "outputs": [],
   "source": [
    "cur.execute(\"\"\"\n",
    "SELECT\n",
    "    sale_date,\n",
    "    product_id,\n",
    "    unit_price,\n",
    "    LAG(unit_price, 1) OVER (PARTITION BY product_id ORDER BY sale_date) AS previous_price,\n",
    "    unit_price - LAG(unit_price, 1) OVER (PARTITION BY product_id ORDER BY sale_date) AS price_change\n",
    "FROM iceberg.retail.detailed_sales\n",
    "ORDER BY product_id, sale_date\n",
    "\"\"\")\n",
    "\n",
    "data = cur.fetchall()\n",
    "price_columns = [desc[0] for desc in cur.description]\n",
    "price_df = pd.DataFrame(data, columns=price_columns)\n",
    "print(\"\\n製品ごとの累積売り上げ:\")\n",
    "print(price_df)"
   ]
  },
  {
   "cell_type": "markdown",
   "metadata": {},
   "source": [
    "### 4. メタデータテーブルの探索\n",
    "\n",
    "Iceberg はテーブルに関する多くのメタデータを提供しており、これを参照することでテーブルの状態や履歴を把握できます。以下の例では、Iceberg テーブルのメタデータテーブルをクエリして、テーブルの内部構造、履歴、ファイル情報などを表示しています。これらのメタデータは、テーブル管理やトラブルシューティングに役立ちます。メタデータテーブルにアクセスする際は、テーブル名に特殊なサフィックスを付けてクエリします。例えば、`table_name$properties` や `table_name$snapshots` などです。"
   ]
  },
  {
   "cell_type": "code",
   "execution_count": null,
   "metadata": {},
   "outputs": [],
   "source": [
    "# Properties メタデータテーブル\n",
    "print(\"Properties メタデータテーブル:\")\n",
    "print(\"=\" * 50)\n",
    "try:\n",
    "    cur.execute(\"SELECT * FROM iceberg.retail.\\\"sales_by_date$properties\\\" LIMIT 10\")\n",
    "    data = cur.fetchall()\n",
    "    if data:\n",
    "        columns = [desc[0] for desc in cur.description]\n",
    "        df = pd.DataFrame(data, columns=columns)\n",
    "        display(df)\n",
    "    else:\n",
    "        print(\"データがありません\")\n",
    "except Exception as e:\n",
    "    print(f\"エラー: {e}\")"
   ]
  },
  {
   "cell_type": "code",
   "execution_count": null,
   "metadata": {},
   "outputs": [],
   "source": [
    "# History メタデータテーブル\n",
    "print(\"History メタデータテーブル:\")\n",
    "print(\"=\" * 50)\n",
    "try:\n",
    "    cur.execute(\"SELECT * FROM iceberg.retail.\\\"sales_by_date$history\\\" LIMIT 10\")\n",
    "    data = cur.fetchall()\n",
    "    if data:\n",
    "        columns = [desc[0] for desc in cur.description]\n",
    "        df = pd.DataFrame(data, columns=columns)\n",
    "        display(df)\n",
    "    else:\n",
    "        print(\"データがありません\")\n",
    "except Exception as e:\n",
    "    print(f\"エラー: {e}\")"
   ]
  },
  {
   "cell_type": "code",
   "execution_count": null,
   "metadata": {},
   "outputs": [],
   "source": [
    "# Metadata Log Entries メタデータテーブル\n",
    "print(\"Metadata Log Entries メタデータテーブル:\")\n",
    "print(\"=\" * 50)\n",
    "try:\n",
    "    cur.execute(\"SELECT * FROM iceberg.retail.\\\"sales_by_date$metadata_log_entries\\\" LIMIT 10\")\n",
    "    data = cur.fetchall()\n",
    "    if data:\n",
    "        columns = [desc[0] for desc in cur.description]\n",
    "        df = pd.DataFrame(data, columns=columns)\n",
    "        display(df)\n",
    "    else:\n",
    "        print(\"データがありません\")\n",
    "except Exception as e:\n",
    "    print(f\"エラー: {e}\")"
   ]
  },
  {
   "cell_type": "code",
   "execution_count": null,
   "metadata": {},
   "outputs": [],
   "source": [
    "# Snapshots メタデータテーブル\n",
    "print(\"Snapshots メタデータテーブル:\")\n",
    "print(\"=\" * 50)\n",
    "try:\n",
    "    cur.execute(\"SELECT * FROM iceberg.retail.\\\"sales_by_date$snapshots\\\" LIMIT 10\")\n",
    "    data = cur.fetchall()\n",
    "    if data:\n",
    "        columns = [desc[0] for desc in cur.description]\n",
    "        df = pd.DataFrame(data, columns=columns)\n",
    "        display(df)\n",
    "        \n",
    "        # スナップショットの詳細情報を見やすく表示\n",
    "        print(\"\\nスナップショットの概要:\")\n",
    "        print(f\"総スナップショット数: {len(data)}\")\n",
    "        if len(data) > 0:\n",
    "            print(f\"最新スナップショット ID: {df['committed_at'].max()}\")\n",
    "    else:\n",
    "        print(\"データがありません\")\n",
    "except Exception as e:\n",
    "    print(f\"エラー: {e}\")"
   ]
  },
  {
   "cell_type": "code",
   "execution_count": null,
   "metadata": {},
   "outputs": [],
   "source": [
    "# Manifests メタデータテーブル\n",
    "print(\"Manifests メタデータテーブル:\")\n",
    "print(\"=\" * 50)\n",
    "try:\n",
    "    cur.execute(\"SELECT * FROM iceberg.retail.\\\"sales_by_date$manifests\\\" LIMIT 10\")\n",
    "    data = cur.fetchall()\n",
    "    if data:\n",
    "        columns = [desc[0] for desc in cur.description]\n",
    "        df = pd.DataFrame(data, columns=columns)\n",
    "        display(df)\n",
    "    else:\n",
    "        print(\"データがありません\")\n",
    "except Exception as e:\n",
    "    print(f\"エラー: {e}\")"
   ]
  },
  {
   "cell_type": "code",
   "execution_count": null,
   "metadata": {},
   "outputs": [],
   "source": [
    "# All Manifests メタデータテーブル\n",
    "print(\"All Manifests メタデータテーブル:\")\n",
    "print(\"=\" * 50)\n",
    "try:\n",
    "    cur.execute(\"SELECT * FROM iceberg.retail.\\\"sales_by_date$all_manifests\\\" LIMIT 10\")\n",
    "    data = cur.fetchall()\n",
    "    if data:\n",
    "        columns = [desc[0] for desc in cur.description]\n",
    "        df = pd.DataFrame(data, columns=columns)\n",
    "        display(df)\n",
    "    else:\n",
    "        print(\"データがありません\")\n",
    "except Exception as e:\n",
    "    print(f\"エラー: {e}\")"
   ]
  },
  {
   "cell_type": "code",
   "execution_count": null,
   "metadata": {},
   "outputs": [],
   "source": [
    "# Partitions メタデータテーブル\n",
    "print(\"Partitions メタデータテーブル:\")\n",
    "print(\"=\" * 50)\n",
    "try:\n",
    "    cur.execute(\"SELECT * FROM iceberg.retail.\\\"sales_by_date$partitions\\\" LIMIT 10\")\n",
    "    data = cur.fetchall()\n",
    "    if data:\n",
    "        columns = [desc[0] for desc in cur.description]\n",
    "        df = pd.DataFrame(data, columns=columns)\n",
    "        display(df)\n",
    "        \n",
    "        # パーティションの統計情報\n",
    "        print(\"\\nパーティション統計:\")\n",
    "        print(f\"総パーティション数: {len(data)}\")\n",
    "    else:\n",
    "        print(\"データがありません\")\n",
    "except Exception as e:\n",
    "    print(f\"エラー: {e}\")"
   ]
  },
  {
   "cell_type": "code",
   "execution_count": null,
   "metadata": {},
   "outputs": [],
   "source": [
    "# Files メタデータテーブル\n",
    "print(\"Files メタデータテーブル:\")\n",
    "print(\"=\" * 50)\n",
    "try:\n",
    "    cur.execute(\"SELECT * FROM iceberg.retail.\\\"sales_by_date$files\\\" LIMIT 10\")\n",
    "    data = cur.fetchall()\n",
    "    if data:\n",
    "        columns = [desc[0] for desc in cur.description]\n",
    "        df = pd.DataFrame(data, columns=columns)\n",
    "        display(df)\n",
    "        \n",
    "        # ファイルサイズの統計\n",
    "        if 'file_size_in_bytes' in columns:\n",
    "            print(\"\\nファイルサイズ統計:\")\n",
    "            print(f\"総ファイル数: {len(data)}\")\n",
    "            print(f\"平均ファイルサイズ: {df['file_size_in_bytes'].mean():.2f} bytes\")\n",
    "    else:\n",
    "        print(\"データがありません\")\n",
    "except Exception as e:\n",
    "    print(f\"エラー: {e}\")"
   ]
  },
  {
   "cell_type": "code",
   "execution_count": null,
   "metadata": {},
   "outputs": [],
   "source": [
    "# Entries メタデータテーブル\n",
    "print(\"Entries メタデータテーブル:\")\n",
    "print(\"=\" * 50)\n",
    "try:\n",
    "    cur.execute(\"SELECT * FROM iceberg.retail.\\\"sales_by_date$entries\\\" LIMIT 10\")\n",
    "    data = cur.fetchall()\n",
    "    if data:\n",
    "        columns = [desc[0] for desc in cur.description]\n",
    "        df = pd.DataFrame(data, columns=columns)\n",
    "        display(df)\n",
    "    else:\n",
    "        print(\"データがありません\")\n",
    "except Exception as e:\n",
    "    print(f\"エラー: {e}\")"
   ]
  },
  {
   "cell_type": "code",
   "execution_count": null,
   "metadata": {},
   "outputs": [],
   "source": [
    "# All Entries メタデータテーブル\n",
    "print(\"All Entries メタデータテーブル:\")\n",
    "print(\"=\" * 50)\n",
    "try:\n",
    "    cur.execute(\"SELECT * FROM iceberg.retail.\\\"sales_by_date$all_entries\\\" LIMIT 10\")\n",
    "    data = cur.fetchall()\n",
    "    if data:\n",
    "        columns = [desc[0] for desc in cur.description]\n",
    "        df = pd.DataFrame(data, columns=columns)\n",
    "        display(df)\n",
    "    else:\n",
    "        print(\"データがありません\")\n",
    "except Exception as e:\n",
    "    print(f\"エラー: {e}\")"
   ]
  },
  {
   "cell_type": "code",
   "execution_count": null,
   "metadata": {},
   "outputs": [],
   "source": [
    "# Refs メタデータテーブル\n",
    "print(\"Refs メタデータテーブル:\")\n",
    "print(\"=\" * 50)\n",
    "try:\n",
    "    cur.execute(\"SELECT * FROM iceberg.retail.\\\"sales_by_date$refs\\\" LIMIT 10\")\n",
    "    data = cur.fetchall()\n",
    "    if data:\n",
    "        columns = [desc[0] for desc in cur.description]\n",
    "        df = pd.DataFrame(data, columns=columns)\n",
    "        display(df)\n",
    "        \n",
    "        # 参照の種類を表示\n",
    "        if 'type' in columns:\n",
    "            print(\"\\n参照タイプ:\")\n",
    "            print(df['type'].value_counts())\n",
    "    else:\n",
    "        print(\"データがありません\")\n",
    "except Exception as e:\n",
    "    print(f\"エラー: {e}\")"
   ]
  },
  {
   "cell_type": "markdown",
   "metadata": {},
   "source": [
    "## 書き込みオペレーション"
   ]
  },
  {
   "cell_type": "markdown",
   "metadata": {},
   "source": [
    "### 1. データの更新と削除\n",
    "\n",
    "Iceberg テーブルのデータを更新・削除する例を見てみましょう。ここでは、`INSERT INTO` ステートメントを使用して新しいデータを追加し、`UPDATE` と `DELETE` ステートメントを使用して既存のデータを変更します。  "
   ]
  },
  {
   "cell_type": "code",
   "execution_count": null,
   "metadata": {},
   "outputs": [],
   "source": [
    "cur.execute(\"\"\"\n",
    "CREATE OR REPLACE TABLE iceberg.retail.inventory (\n",
    "    product_id VARCHAR,\n",
    "    name VARCHAR,\n",
    "    category VARCHAR,\n",
    "    stock INTEGER,\n",
    "    unit_price DECIMAL(10, 2),\n",
    "    last_updated TIMESTAMP\n",
    ")\n",
    "\"\"\")\n",
    "\n",
    "# サンプルデータの挿入\n",
    "cur.execute(\"\"\"\n",
    "INSERT INTO iceberg.retail.inventory VALUES\n",
    "    ('P001', 'Laptop', 'Electronics', 50, 999.99, TIMESTAMP '2023-01-01 00:00:00'),\n",
    "    ('P002', 'Smartphone', 'Electronics', 100, 499.99, TIMESTAMP '2023-01-01 00:00:00'),\n",
    "    ('P003', 'Headphones', 'Electronics', 200, 99.99, TIMESTAMP '2023-01-01 00:00:00'),\n",
    "    ('P004', 'Coffee Maker', 'Kitchen', 30, 79.99, TIMESTAMP '2023-01-01 00:00:00'),\n",
    "    ('P005', 'Blender', 'Kitchen', 45, 49.99, TIMESTAMP '2023-01-01 00:00:00')\n",
    "\"\"\")\n",
    "\n",
    "# 初期データの確認\n",
    "cur.execute(\"SELECT * FROM iceberg.retail.inventory ORDER BY product_id\")\n",
    "initial_data = cur.fetchall()\n",
    "columns = [desc[0] for desc in cur.description]\n",
    "pd.DataFrame(initial_data, columns=columns)"
   ]
  },
  {
   "cell_type": "code",
   "execution_count": null,
   "metadata": {},
   "outputs": [],
   "source": [
    "# データの更新: 価格の調整と在庫の更新\n",
    "cur.execute(\"\"\"\n",
    "UPDATE iceberg.retail.inventory\n",
    "SET \n",
    "    stock = stock - 10,\n",
    "    unit_price = unit_price * 0.9,  -- 10%割引\n",
    "    last_updated = current_timestamp\n",
    "WHERE category = 'Electronics'\n",
    "\"\"\")"
   ]
  },
  {
   "cell_type": "code",
   "execution_count": null,
   "metadata": {},
   "outputs": [],
   "source": [
    "# 特定の製品の削除\n",
    "cur.execute(\"\"\"\n",
    "DELETE FROM iceberg.retail.inventory\n",
    "WHERE product_id = 'P005'\n",
    "\"\"\")"
   ]
  },
  {
   "cell_type": "code",
   "execution_count": null,
   "metadata": {},
   "outputs": [],
   "source": [
    "# 更新後のデータを確認\n",
    "cur.execute(\"SELECT * FROM iceberg.retail.inventory ORDER BY product_id\")\n",
    "updated_data = cur.fetchall()\n",
    "pd.DataFrame(updated_data, columns=columns)"
   ]
  },
  {
   "cell_type": "code",
   "execution_count": null,
   "metadata": {},
   "outputs": [],
   "source": [
    "# テーブル履歴の確認\n",
    "cur.execute(\"SELECT * FROM iceberg.retail.\\\"inventory$history\\\"\")\n",
    "history = cur.fetchall()\n",
    "history_columns = [desc[0] for desc in cur.description]\n",
    "history_df = pd.DataFrame(history, columns=history_columns)\n",
    "print(\"\\nテーブル変更履歴:\")\n",
    "print(history_df)"
   ]
  },
  {
   "cell_type": "markdown",
   "metadata": {},
   "source": [
    "### 2. MERGEによるUpsert操作\n",
    "\n",
    "MERGEステートメントは、条件に基づいてデータの更新と挿入を一度に行う強力な機能です。典型的なETLパイプラインでよく使用されます。"
   ]
  },
  {
   "cell_type": "code",
   "execution_count": null,
   "metadata": {},
   "outputs": [],
   "source": [
    "# 顧客データテーブルの作成\n",
    "cur.execute(\"\"\"\n",
    "CREATE OR REPLACE TABLE iceberg.retail.customers (\n",
    "    customer_id BIGINT,\n",
    "    name VARCHAR,\n",
    "    email VARCHAR,\n",
    "    status VARCHAR,\n",
    "    last_update TIMESTAMP\n",
    ")\n",
    "\"\"\")\n",
    "\n",
    "# 初期データの挿入\n",
    "cur.execute(\"\"\"\n",
    "INSERT INTO iceberg.retail.customers VALUES\n",
    "    (101, '田中 太郎', 'tanaka@example.com', 'ACTIVE', TIMESTAMP '2023-01-01 10:00:00'),\n",
    "    (102, '佐藤 花子', 'sato@example.com', 'ACTIVE', TIMESTAMP '2023-01-01 10:00:00'),\n",
    "    (103, '鈴木 一郎', 'suzuki@example.com', 'INACTIVE', TIMESTAMP '2023-01-01 10:00:00')\n",
    "\"\"\")\n",
    "\n",
    "# 更新用テーブルの作成\n",
    "cur.execute(\"\"\"\n",
    "CREATE OR REPLACE TABLE iceberg.retail.customer_updates (\n",
    "    customer_id BIGINT,\n",
    "    name VARCHAR,\n",
    "    email VARCHAR,\n",
    "    status VARCHAR\n",
    ")\n",
    "\"\"\")\n",
    "\n",
    "# 更新データの挿入（既存顧客の更新と新規顧客）\n",
    "cur.execute(\"\"\"\n",
    "INSERT INTO iceberg.retail.customer_updates VALUES\n",
    "    (102, '佐藤 花子', 'sato.new@example.com', 'ACTIVE'),  -- メールアドレス更新\n",
    "    (103, '鈴木 一郎', 'suzuki@example.com', 'ACTIVE'),    -- ステータス更新\n",
    "    (104, '伊藤 誠', 'ito@example.com', 'ACTIVE')          -- 新規顧客\n",
    "\"\"\")\n",
    "\n",
    "# 元のデータを確認\n",
    "cur.execute(\"SELECT customer_id, name, email, status FROM iceberg.retail.customers ORDER BY customer_id\")\n",
    "original_data = cur.fetchall()\n",
    "original_columns = [desc[0] for desc in cur.description]\n",
    "original_df = pd.DataFrame(original_data, columns=original_columns)\n",
    "print(\"元の顧客データ:\")\n",
    "print(original_df)\n",
    "\n",
    "# 更新データを確認\n",
    "cur.execute(\"SELECT * FROM iceberg.retail.customer_updates ORDER BY customer_id\")\n",
    "updates = cur.fetchall()\n",
    "update_columns = [desc[0] for desc in cur.description]\n",
    "updates_df = pd.DataFrame(updates, columns=update_columns)\n",
    "print(\"\\n更新用データセット:\")\n",
    "print(updates_df)\n",
    "\n",
    "# MERGE操作を実行\n",
    "cur.execute(\"\"\"\n",
    "MERGE INTO iceberg.retail.customers c\n",
    "USING iceberg.retail.customer_updates u\n",
    "ON c.customer_id = u.customer_id\n",
    "WHEN MATCHED THEN\n",
    "    UPDATE SET \n",
    "        email = u.email,\n",
    "        status = u.status,\n",
    "        last_update = TIMESTAMP '2023-03-30 10:30:45.123'\n",
    "WHEN NOT MATCHED THEN\n",
    "    INSERT (customer_id, name, email, status, last_update)\n",
    "    VALUES (u.customer_id, u.name, u.email, u.status, TIMESTAMP '2023-03-30 10:30:45.123')\n",
    "\"\"\")\n",
    "\n",
    "# MERGE後のデータを確認\n",
    "cur.execute(\"SELECT * FROM iceberg.retail.customers ORDER BY customer_id\")\n",
    "merged_data = cur.fetchall()\n",
    "merged_columns = [desc[0] for desc in cur.description]\n",
    "merged_df = pd.DataFrame(merged_data, columns=merged_columns)\n",
    "print(\"\\nMERGE実行後の顧客データ:\")\n",
    "print(merged_df)"
   ]
  }
 ],
 "metadata": {
  "kernelspec": {
   "display_name": "Python 3 (ipykernel)",
   "language": "python",
   "name": "python3"
  },
  "language_info": {
   "codemirror_mode": {
    "name": "ipython",
    "version": 3
   },
   "file_extension": ".py",
   "mimetype": "text/x-python",
   "name": "python",
   "nbconvert_exporter": "python",
   "pygments_lexer": "ipython3",
   "version": "3.11.10"
  }
 },
 "nbformat": 4,
 "nbformat_minor": 4
}
