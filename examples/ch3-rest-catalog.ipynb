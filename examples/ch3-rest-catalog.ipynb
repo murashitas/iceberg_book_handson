{
 "cells": [
  {
   "cell_type": "markdown",
   "id": "bdad7b44-dd65-47f0-a4c4-36ace001eea3",
   "metadata": {},
   "source": [
    "# 第 3 章: Icebergカタログとストレージ"
   ]
  },
  {
   "cell_type": "markdown",
   "id": "e99be879-942a-4402-a7a8-991949b42bde",
   "metadata": {},
   "source": [
    "## REST カタログを利用する\n",
    "### HTTP ベースでのデータベース、テーブルの作成\n",
    "データベース (namespace) `db`の作成"
   ]
  },
  {
   "cell_type": "code",
   "execution_count": null,
   "id": "d8648c39-9185-4bc3-8657-34ee9227424a",
   "metadata": {},
   "outputs": [],
   "source": [
    "!curl -X POST http://server:8181/v1/namespaces --json '{\"namespace\": [\"db\"]}' "
   ]
  },
  {
   "cell_type": "markdown",
   "id": "61f6786e-5433-444f-ae09-2855ac8b21be",
   "metadata": {},
   "source": [
    "テーブル `users`の作成"
   ]
  },
  {
   "cell_type": "code",
   "execution_count": null,
   "id": "8b5c9fb7-e777-4e76-bf97-fe0f2286dcba",
   "metadata": {},
   "outputs": [],
   "source": [
    "%%bash\n",
    "curl -X POST http://server:8181/v1/namespaces/db/tables \\\n",
    "  --json '{ \n",
    "    \"name\": \"users\",\n",
    "    \"schema\": {\n",
    "      \"type\": \"struct\",\n",
    "      \"fields\": [\n",
    "        {\"id\": 1, \"name\": \"id\", \"type\": \"int\", \"required\": true},\n",
    "        {\"id\": 2, \"name\": \"name\", \"type\": \"string\", \"required\": true}\n",
    "      ]\n",
    "    }\n",
    "  }' | python -m json.tool"
   ]
  },
  {
   "cell_type": "markdown",
   "id": "24a1d8fc-e777-4e1b-a3d5-414b3c54a839",
   "metadata": {},
   "source": [
    "テーブルメタデータ情報の確認"
   ]
  },
  {
   "cell_type": "code",
   "execution_count": null,
   "id": "77bb04f9-d60c-4b7a-8291-b649b59e7221",
   "metadata": {},
   "outputs": [],
   "source": [
    "!curl -X GET http://server:8181/v1/namespaces/db/tables/users | python -m json.tool"
   ]
  },
  {
   "cell_type": "code",
   "execution_count": null,
   "id": "706ee308-3c7e-4da2-bdb4-582b2d06630a",
   "metadata": {},
   "outputs": [],
   "source": []
  }
 ],
 "metadata": {
  "kernelspec": {
   "display_name": "Python 3 (ipykernel)",
   "language": "python",
   "name": "python3"
  },
  "language_info": {
   "codemirror_mode": {
    "name": "ipython",
    "version": 3
   },
   "file_extension": ".py",
   "mimetype": "text/x-python",
   "name": "python",
   "nbconvert_exporter": "python",
   "pygments_lexer": "ipython3",
   "version": "3.11.10"
  }
 },
 "nbformat": 4,
 "nbformat_minor": 5
}
