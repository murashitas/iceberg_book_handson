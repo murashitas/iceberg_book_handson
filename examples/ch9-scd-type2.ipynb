{
 "cells": [
  {
   "cell_type": "markdown",
   "id": "5b0b2a1c",
   "metadata": {},
   "source": [
    "# 第 9 章： SCD Type 2 による履歴管理\n",
    "\n",
    "データ分析基盤に蓄積されるデータは常に変化し続けています。企業の取引データや注文情報は日々更新され、その過程でテーブルの履歴情報は失われがちです。</br>\n",
    "しかし、「過去のある時点でのデータがどうだったか」を知ることは、様々なビジネスシーンで重要な要素となります。例えば、ECサイトの注文データを分析する際、過去の注文履歴を正確に把握することは、顧客満足度や売上分析において不可欠です。  \n",
    "\n",
    "通常、ソースデータをテーブルに取り込む際、データは最新の状態に更新されます。例えば、注文ステータスが変更された場合、データベース内の該当レコードは新しい値に上書きされます。このような設計では、過去のデータは失われてしまいます。この問題に対処するために、「Slowly Changing Dimensions（SCD）」という概念が発展してきました。特に SCD Type 2 は、データの変更履歴を保持するための効果的な手法として広く採用されています。  \n",
    "\n",
    "このハンズオンでは、Apache Iceberg の変更ログビュー（Change Log View）機能を活用して、SCD Type 2 パターンを効率的に実装する方法を学びます。これにより、データの変更履歴を完全に保持し、時間軸に沿った精度の高いデータ分析が可能になります。"
   ]
  },
  {
   "cell_type": "markdown",
   "id": "f4673dac",
   "metadata": {},
   "source": [
    "## SCD Type 2 の基礎知識\n",
    "\n",
    "SCD Type 2 は、「Slowly Changing Dimensions（緩やかに変化するディメンション）」の一種で、データの変更履歴を保持するための効果的な手法です。このモデルでは、ソースデータのレコードが変更された場合に、既存レコードを上書きする代わりに、変更前のレコードを履歴として保持したまま新しいレコードを追加します。\n",
    "\n",
    "各レコードには以下のような時間軸に関する属性が追加されます：\n",
    "\n",
    "1. **有効開始日（effective_start_date）**：そのレコードが有効になった日時\n",
    "2. **有効終了日（effective_end_date）**：そのレコードが無効になった（次のバージョンに置き換えられた）日時\n",
    "3. **現行フラグ（current_flag）**：そのレコードが現在有効かどうかを示すフラグ\n",
    "\n",
    "例えば、注文ステータスと金額の変更をSCD Type 2で表現すると次のようになります：\n",
    "\n",
    "| order_id | customer_id | amount | status | order_date | effective_start_date | effective_end_date | current_flag |\n",
    "|----------|-------------|--------|--------|------------|----------------------|---------------------|------------|\n",
    "| ORD-1001 | CUST-101 | 12000 | Pending | 2024-05-01 | 2024-05-01 09:15:00 | 2024-05-01 14:30:00 | FALSE |\n",
    "| ORD-1001 | CUST-101 | 10800 | Pending | 2024-05-01 | 2024-05-01 14:30:00 | 2024-05-02 10:45:00 | FALSE |\n",
    "| ORD-1001 | CUST-101 | 15000 | Processing | 2024-05-01 | 2024-05-02 10:45:00 | 2024-05-03 16:20:00 | FALSE |\n",
    "| ORD-1001 | CUST-101 | 15000 | Cancelled | 2024-05-01 | 2024-05-03 16:20:00 | NULL | TRUE |\n",
    "\n",
    "このモデルにより、「過去の任意の時点でのデータ状態を正確に再現する」ことが可能になります。"
   ]
  },
  {
   "cell_type": "markdown",
   "id": "5f4df2a2",
   "metadata": {},
   "source": [
    "## Apache Iceberg による SCD Type 2 の実装\n",
    "\n",
    "Apache Iceberg では、変更ログビュー（Change Log View）を活用することで、SCD Type 2 を効率的に実装できます。変更ログビューは、Iceberg テーブルに対するすべての変更操作（挿入、更新、削除）の履歴を自動的に記録し、クエリ可能なビューとして提供する機能です。\n",
    "\n",
    "このアプローチでは、ソースデータの変更を取り込む際は、対象の Iceberg テーブルに対して通常の更新操作を行うだけで済みます。テーブルの作成時点で SCD Type 2 専用のスキーマを設計する必要はなく、標準的なデータ操作のみでテーブルを管理できます。"
   ]
  },
  {
   "cell_type": "markdown",
   "id": "cd834046-3968-4497-8d74-b0b6226da202",
   "metadata": {},
   "source": [
    "### 事前準備"
   ]
  },
  {
   "cell_type": "markdown",
   "id": "54e5b123",
   "metadata": {},
   "source": [
    "## Spark　セッションの初期化\n",
    "まず、Spark　セッションを初期化します。"
   ]
  },
  {
   "cell_type": "code",
   "execution_count": null,
   "id": "40d3d1b4-f55b-4840-82d0-306c01d8460f",
   "metadata": {},
   "outputs": [],
   "source": [
    "import pyspark\n",
    "from pyspark.conf import SparkConf\n",
    "from pyspark.sql import SparkSession\n",
    "import pandas as pd\n",
    "CATALOG = \"my_catalog\"\n",
    "CATALOG_URL = \"http://server:8181/\"\n",
    "S3_ENDPOINT = \"http://minio:9000\"\n",
    "SPARK_VERSION = pyspark.__version__\n",
    "SPARK_MINOR_VERSION = '.'.join(SPARK_VERSION.split('.')[:2])\n",
    "ICEBERG_VERSION = \"1.7.1\""
   ]
  },
  {
   "cell_type": "code",
   "execution_count": null,
   "id": "60c8354c",
   "metadata": {},
   "outputs": [],
   "source": [
    "spark = (\n",
    "    SparkSession.builder\n",
    "        .config(\"spark.jars.packages\", f\"org.apache.iceberg:iceberg-spark-runtime-{SPARK_MINOR_VERSION}_2.12:{ICEBERG_VERSION},org.apache.iceberg:iceberg-aws-bundle:{ICEBERG_VERSION}\")\n",
    "        .config(f\"spark.sql.catalog.{CATALOG}\", \"org.apache.iceberg.spark.SparkCatalog\")\n",
    "        .config(f\"spark.sql.catalog.{CATALOG}.type\", \"rest\")\n",
    "        .config(f\"spark.sql.catalog.{CATALOG}.uri\", CATALOG_URL)\n",
    "        .config(f\"spark.sql.catalog.{CATALOG}.s3.endpoint\", S3_ENDPOINT)\n",
    "        .config(f\"spark.sql.catalog.{CATALOG}.view-endpoints-supported\", \"true\")\n",
    "        .config(\"spark.sql.extensions\", \"org.apache.iceberg.spark.extensions.IcebergSparkSessionExtensions\")\n",
    "        .config(\"spark.sql.defaultCatalog\", \"my_catalog\")\n",
    "        .getOrCreate()\n",
    ")"
   ]
  },
  {
   "cell_type": "code",
   "execution_count": null,
   "id": "51f09802-926b-4c10-af85-4699324a43a3",
   "metadata": {},
   "outputs": [],
   "source": [
    "%sql spark"
   ]
  },
  {
   "cell_type": "code",
   "execution_count": null,
   "id": "10ee3bd3-2449-41a0-83a6-b42f74e0b0f4",
   "metadata": {},
   "outputs": [],
   "source": [
    "%%sql\n",
    "CREATE DATABASE IF NOT EXISTS scdtype2 --  ハンズオン用データベースを作成"
   ]
  },
  {
   "cell_type": "markdown",
   "id": "5ffb0bbd",
   "metadata": {},
   "source": [
    "## 注文テーブルの作成\n",
    "\n",
    "次に、ECサイトの注文データを想定したサンプルデータを使用して注文テーブルを作成します。"
   ]
  },
  {
   "cell_type": "code",
   "execution_count": null,
   "id": "4e4fc76a",
   "metadata": {},
   "outputs": [],
   "source": [
    "from pyspark.sql import Row\n",
    "from datetime import datetime\n",
    "\n",
    "# 現在のタイムスタンプを取得\n",
    "current_time = datetime.now()\n",
    "\n",
    "# 注文データセットの作成\n",
    "orders_data = [\n",
    "    {\"order_id\": \"ORD-1001\", \"customer_id\": \"CUST-101\", \"amount\": 12000, \"status\": \"Pending\", \"order_date\": \"2024-05-01\", \"shipping_fee\": 0, \"discount\": 0},\n",
    "    {\"order_id\": \"ORD-1002\", \"customer_id\": \"CUST-102\", \"amount\": 8500, \"status\": \"Pending\", \"order_date\": \"2024-05-01\", \"shipping_fee\": 500, \"discount\": 0},\n",
    "    {\"order_id\": \"ORD-1003\", \"customer_id\": \"CUST-103\", \"amount\": 23000, \"status\": \"Pending\", \"order_date\": \"2024-05-02\", \"shipping_fee\": 0, \"discount\": 2000},\n",
    "    {\"order_id\": \"ORD-1004\", \"customer_id\": \"CUST-101\", \"amount\": 15700, \"status\": \"Pending\", \"order_date\": \"2024-05-02\", \"shipping_fee\": 700, \"discount\": 0},\n",
    "    {\"order_id\": \"ORD-1005\", \"customer_id\": \"CUST-104\", \"amount\": 7200, \"status\": \"Pending\", \"order_date\": \"2024-05-03\", \"shipping_fee\": 0, \"discount\": 800}\n",
    "]\n",
    "\n",
    "# DataFrameの作成\n",
    "df_orders = spark.createDataFrame([Row(**x) for x in orders_data])\n",
    "\n",
    "# Icebergテーブルの作成 - 一時ビューを使わずに直接DataFrameからテーブルを作成\n",
    "spark.sql(\"DROP TABLE IF EXISTS scdtype2.orders PURGE\")\n",
    "df_orders.write.format(\"iceberg\").mode(\"overwrite\").saveAsTable(\"scdtype2.orders\")\n",
    "\n",
    "# テーブルの確認\n",
    "spark.sql(\"SELECT * FROM scdtype2.orders\").show()"
   ]
  },
  {
   "cell_type": "markdown",
   "id": "a1c54e3c",
   "metadata": {},
   "source": [
    "## テーブルデータの更新（変更履歴の作成）\n",
    "注文テーブルを更新し、変更履歴を作成します。例として、ここでは以下の変更を行うことにします。\n",
    "\n",
    "1. 注文ORD-1001に割引を適用し、金額を変更\n",
    "2. 注文のステータスを「Processing」に変更し、配送料を追加\n",
    "3. 注文のキャンセル処理\n",
    "4. 他の注文ORD-1002, ORD-1004の更新\n",
    "5. 新規注文ORD-1006の追加"
   ]
  },
  {
   "cell_type": "markdown",
   "id": "0407e4d4-f025-4295-afeb-1763f2e2c5c7",
   "metadata": {},
   "source": [
    "最初に、注文ORD-1001に割引を適用し、金額を変更します。この更新により、注文ORD-1001の金額が12000円から10800円に変更され、1200円の割引が記録されます。"
   ]
  },
  {
   "cell_type": "code",
   "execution_count": null,
   "id": "13a36250-44d7-4d13-a973-ac8a7462e7da",
   "metadata": {},
   "outputs": [],
   "source": [
    "# 注文ORD-1001に割引を適用（金額変更）\n",
    "spark.sql(\"\"\"\n",
    "UPDATE scdtype2.orders\n",
    "SET amount = 10800, discount = 1200\n",
    "WHERE order_id = 'ORD-1001'\n",
    "\"\"\")"
   ]
  },
  {
   "cell_type": "markdown",
   "id": "9f9510c2-233a-47a3-be5d-2f0fa1329b4b",
   "metadata": {},
   "source": [
    "次に、注文の処理が進み、配送オプションが追加されたため、金額とステータスを更新します。この更新では、配送料4200円が追加されて合計金額が15000円となり、ステータスが「Processing」に変更されています。"
   ]
  },
  {
   "cell_type": "code",
   "execution_count": null,
   "id": "ff0bfe37-6398-487d-a4cb-e667d1471122",
   "metadata": {},
   "outputs": [],
   "source": [
    "spark.sql(\"\"\"\n",
    "UPDATE scdtype2.orders\n",
    "SET amount = 15000, status = 'Processing', shipping_fee = 4200\n",
    "WHERE order_id = 'ORD-1001'\n",
    "\"\"\")"
   ]
  },
  {
   "cell_type": "markdown",
   "id": "4798272b-adf7-4902-b26a-f7f6fdab256b",
   "metadata": {},
   "source": [
    "顧客からのキャンセル要求を受けて、注文ステータスを更新します。"
   ]
  },
  {
   "cell_type": "code",
   "execution_count": null,
   "id": "67089fea-26f2-44a9-acf5-ee313ba705a4",
   "metadata": {},
   "outputs": [],
   "source": [
    "spark.sql(\"\"\"\n",
    "UPDATE scdtype2.orders\n",
    "SET status = 'Cancelled'\n",
    "WHERE order_id = 'ORD-1001'\n",
    "\"\"\")"
   ]
  },
  {
   "cell_type": "markdown",
   "id": "b94c9a72-cf9b-46d7-bc1d-c9e135f598a1",
   "metadata": {},
   "source": [
    "ORD-1001以外の注文についても、いくつかの更新を行います。"
   ]
  },
  {
   "cell_type": "code",
   "execution_count": null,
   "id": "3e56dfe1-fff2-409e-b98c-6835a5a5f406",
   "metadata": {},
   "outputs": [],
   "source": [
    "spark.sql(\"\"\"\n",
    "UPDATE scdtype2.orders\n",
    "SET status = 'Processing'\n",
    "WHERE order_id = 'ORD-1002'\n",
    "\"\"\")"
   ]
  },
  {
   "cell_type": "code",
   "execution_count": null,
   "id": "c620904b-ee8f-43cc-82c3-bb92d056eb12",
   "metadata": {},
   "outputs": [],
   "source": [
    "# 注文ORD-1004の配送オプションを変更（配送料変更）\n",
    "spark.sql(\"\"\"\n",
    "UPDATE scdtype2.orders\n",
    "SET shipping_fee = 1500, amount = 16500\n",
    "WHERE order_id = 'ORD-1004'\n",
    "\"\"\")"
   ]
  },
  {
   "cell_type": "markdown",
   "id": "eceda756-ab78-4ddb-aacc-9589e6b2eef5",
   "metadata": {},
   "source": [
    "最後に、新しい注文を追加します。"
   ]
  },
  {
   "cell_type": "code",
   "execution_count": null,
   "id": "30ff7dd8-b9e6-4aae-97f3-d77103f42054",
   "metadata": {},
   "outputs": [],
   "source": [
    "spark.sql(\"\"\"\n",
    "INSERT INTO scdtype2.orders VALUES\n",
    "('ORD-1006', 'CUST-105', 9800, 'Pending', '2024-05-03', 0, 1200)\n",
    "\"\"\")"
   ]
  },
  {
   "cell_type": "code",
   "execution_count": null,
   "id": "c51ea6aa",
   "metadata": {},
   "outputs": [],
   "source": [
    "# 更新後のテーブルを確認\n",
    "spark.sql(\"SELECT * FROM scdtype2.orders\").show()"
   ]
  },
  {
   "cell_type": "markdown",
   "id": "a8496740-2e83-4dfa-8d9d-8eb3e7820262",
   "metadata": {},
   "source": [
    "この時点では、テーブルには最新の状態のみが表示されており、過去の変更履歴は見えません。しかし、Icebergは内部的にすべての変更を記録しています。"
   ]
  },
  {
   "cell_type": "markdown",
   "id": "49cf0c0a",
   "metadata": {},
   "source": [
    "## 変更ログビューの作成\n",
    "\n",
    "Iceberg の プロシージャを使用して、変更ログビュー（Change Log View）を作成します。これにより、テーブルに対する全ての変更操作（INSERT, UPDATE, DELETE）の履歴が記録されたビューが得られます。"
   ]
  },
  {
   "cell_type": "code",
   "execution_count": null,
   "id": "c5e3bb4a",
   "metadata": {},
   "outputs": [],
   "source": [
    "# 変更ログビューの作成\n",
    "spark.sql(\"\"\"\n",
    "CALL system.create_changelog_view('scdtype2.orders', 'orders_changelog')\n",
    "\"\"\")"
   ]
  },
  {
   "cell_type": "markdown",
   "id": "32ff81bc",
   "metadata": {},
   "source": [
    "## 変更履歴の確認\n",
    "\n",
    "作成した変更ログビューを使用して、注文テーブルの変更履歴を確認します。"
   ]
  },
  {
   "cell_type": "code",
   "execution_count": null,
   "id": "07eb5deb-01c4-4ddf-8c42-59c1492b23aa",
   "metadata": {},
   "outputs": [],
   "source": [
    "# 変更ログビューの確認\n",
    "spark.sql(\"\"\"\n",
    "SELECT *\n",
    "FROM orders_changelog\n",
    "ORDER BY order_id, _change_ordinal, _change_type\n",
    "\"\"\").show(truncate=False)"
   ]
  },
  {
   "cell_type": "markdown",
   "id": "9bb1acb0-a56d-4fa1-8f7a-54f6be8ee28c",
   "metadata": {},
   "source": [
    "特定の注文の履歴だけを確認することもできます："
   ]
  },
  {
   "cell_type": "code",
   "execution_count": null,
   "id": "c48fa97e",
   "metadata": {},
   "outputs": [],
   "source": [
    "# 注文ORD-1001の変更履歴を確認\n",
    "spark.sql(\"\"\"\n",
    "SELECT order_id, status, amount, shipping_fee, discount, _change_type, _change_ordinal\n",
    "FROM orders_changelog\n",
    "WHERE order_id = 'ORD-1001'\n",
    "ORDER BY _change_ordinal, _change_type\n",
    "\"\"\").show()"
   ]
  },
  {
   "cell_type": "markdown",
   "id": "a26bcaf1",
   "metadata": {},
   "source": [
    "変更ログビューでは、注文ORD-1001の状態がどのように変化したかを時系列で確認できます：\n",
    "1. 初期注文：Pending状態で12000円\n",
    "2. 割引適用：金額が10800円に変更（1200円の割引）\n",
    "3. 配送オプション追加とステータス変更：金額が15000円に増加、ステータスがProcessingに変更、配送料が4200円追加\n",
    "4. キャンセル処理：ステータスがCancelledに変更"
   ]
  },
  {
   "cell_type": "markdown",
   "id": "4b1ec6ed",
   "metadata": {},
   "source": [
    "## SCD Type 2のデータ構造を持った一時テーブルの作成\n",
    "\n",
    "変更ログビューとスナップショット情報を結合して、SCD Type 2のデータ構造を持った一時テーブルを作成します。ここでは、注文ORD-1001のレコードを対象にします。"
   ]
  },
  {
   "cell_type": "markdown",
   "id": "97aa9723",
   "metadata": {},
   "source": [
    "このクエリでは、以下の処理を行っています：\n",
    "\n",
    "1. 変更ログビューとスナップショット情報を結合して、各変更のコミット時間を取得\n",
    "2. 各レコードの有効開始日をコミット時間に設定\n",
    "3. 各レコードの有効終了日を次の変更の有効開始日に設定（最新レコードの場合はnull）\n",
    "4. 現行フラグを設定（最新レコードかつ削除されていない場合はtrue）\n",
    "\n",
    "これにより、有効開始日、有効終了日、現行フラグを持つ履歴テーブルが生成されます。"
   ]
  },
  {
   "cell_type": "code",
   "execution_count": null,
   "id": "4a4b5cc7",
   "metadata": {},
   "outputs": [],
   "source": [
    "# 変更ログビューとスナップショット情報を結合して、SCD Type 2ビューを作成\n",
    "spark.sql(\"\"\"\n",
    "WITH changelog_with_timestamps AS (\n",
    "    SELECT\n",
    "        cl.*,\n",
    "        s.snapshot_id,\n",
    "        s.committed_at,\n",
    "        s.committed_at AS effective_start_date\n",
    "    FROM orders_changelog cl\n",
    "    JOIN scdtype2.orders.snapshots s\n",
    "    ON cl._commit_snapshot_id = s.snapshot_id\n",
    ")\n",
    "SELECT\n",
    "    order_id, \n",
    "    customer_id, \n",
    "    amount, \n",
    "    status, \n",
    "    order_date,\n",
    "    shipping_fee,\n",
    "    discount,\n",
    "    effective_start_date,\n",
    "    LEAD(effective_start_date) OVER (\n",
    "        PARTITION BY order_id \n",
    "        ORDER BY effective_start_date\n",
    "    ) AS effective_end_date,\n",
    "    CASE WHEN LEAD(effective_start_date) OVER (\n",
    "        PARTITION BY order_id \n",
    "        ORDER BY effective_start_date\n",
    "    ) IS NULL AND _change_type != 'DELETE' THEN true\n",
    "    ELSE false\n",
    "    END AS current_flag\n",
    "FROM changelog_with_timestamps\n",
    "WHERE _change_type IN ('INSERT', 'UPDATE_AFTER')\n",
    "ORDER BY order_id, effective_start_date\n",
    "\"\"\").createOrReplaceTempView('orders_scd2')\n",
    "\n",
    "# SCD Type 2ビューの確認\n",
    "spark.sql(\"\"\"\n",
    "SELECT \n",
    "    order_id, \n",
    "    customer_id, \n",
    "    amount, \n",
    "    status, \n",
    "    shipping_fee,\n",
    "    discount,\n",
    "    effective_start_date, \n",
    "    effective_end_date, \n",
    "    current_flag\n",
    "FROM orders_scd2\n",
    "WHERE order_id = 'ORD-1001'\n",
    "ORDER BY effective_start_date\n",
    "\"\"\").show(truncate=False)"
   ]
  },
  {
   "cell_type": "markdown",
   "id": "2c18ef48-8ec4-4986-baee-514243a74d81",
   "metadata": {},
   "source": [
    "これにより、SCD Type 2の構造が自動的に生成されました。注文ORD-1001の変更履歴が時系列で明確に表示され、いつどのような変更があったかを簡単に追跡できます。"
   ]
  },
  {
   "cell_type": "markdown",
   "id": "8f5a99d2",
   "metadata": {},
   "source": [
    "## SCD Type 2ビューの活用\n",
    "\n",
    "SCD Type 2ビューを使用した分析例をいくつか紹介します。"
   ]
  },
  {
   "cell_type": "markdown",
   "id": "55b69cca",
   "metadata": {},
   "source": [
    "### 特定状態のデータ確認\n",
    "\n",
    "有効期間を使って特定ステータスの注文情報を確認する方法を示します。例えば、処理中（Processing）状態の注文のみを表示するクエリです："
   ]
  },
  {
   "cell_type": "code",
   "execution_count": null,
   "id": "91c5a8ed",
   "metadata": {},
   "outputs": [],
   "source": [
    "# Processing状態だった注文情報\n",
    "spark.sql(\"\"\"\n",
    "SELECT \n",
    "    order_id, \n",
    "    customer_id, \n",
    "    amount, \n",
    "    status,\n",
    "    shipping_fee, \n",
    "    discount\n",
    "FROM orders_scd2\n",
    "WHERE status = 'Processing'\n",
    "ORDER BY order_id\n",
    "\"\"\").show()"
   ]
  },
  {
   "cell_type": "markdown",
   "id": "da06b731",
   "metadata": {},
   "source": [
    "### 現在有効なデータのみの取得\n",
    "\n",
    "現在有効な注文データのみを取得します。"
   ]
  },
  {
   "cell_type": "code",
   "execution_count": null,
   "id": "d2a18b4a",
   "metadata": {},
   "outputs": [],
   "source": [
    "# 現在有効な注文データ\n",
    "spark.sql(\"\"\"\n",
    "SELECT \n",
    "    order_id, \n",
    "    customer_id, \n",
    "    amount, \n",
    "    status,\n",
    "    shipping_fee,\n",
    "    discount\n",
    "FROM orders_scd2\n",
    "WHERE current_flag = true\n",
    "ORDER BY order_id\n",
    "\"\"\").show()"
   ]
  },
  {
   "cell_type": "markdown",
   "id": "2d1456d7",
   "metadata": {},
   "source": [
    "### 注文ステータスの変更回数分析"
   ]
  },
  {
   "cell_type": "code",
   "execution_count": null,
   "id": "ea0cbc67",
   "metadata": {},
   "outputs": [],
   "source": [
    "# 注文ごとのステータス変更回数\n",
    "spark.sql(\"\"\"\n",
    "SELECT \n",
    "    order_id,\n",
    "    COUNT(*) - 1 AS status_change_count\n",
    "FROM orders_scd2\n",
    "GROUP BY order_id\n",
    "ORDER BY status_change_count DESC\n",
    "\"\"\").show()"
   ]
  },
  {
   "cell_type": "markdown",
   "id": "8ffdb84e-8aa4-4a9c-a94c-5b90af6ed37e",
   "metadata": {},
   "source": [
    "### SCD Type 2ビューの永続化\n",
    "\n",
    "必要に応じて、SCD Type 2ビューを永続化することも可能です。これにより、SCD Type 2形式のデータが永続的なテーブルとして保存され、後続の分析で使用できるようになります。特に定期的に履歴分析を行う場合や、複数のシステムから履歴データにアクセスする必要がある場合に有用です："
   ]
  },
  {
   "cell_type": "code",
   "execution_count": null,
   "id": "18f93498-57d6-4f56-8763-6e13717bd049",
   "metadata": {},
   "outputs": [],
   "source": [
    "# SCD Type 2ビューの永続化\n",
    "spark.sql(\"\"\"\n",
    "CREATE TABLE IF NOT EXISTS scdtype2.orders_history\n",
    "USING iceberg\n",
    "AS SELECT * FROM orders_scd2\n",
    "\"\"\")"
   ]
  },
  {
   "cell_type": "code",
   "execution_count": null,
   "id": "1d2e7299-f41a-4a6f-ac56-13f82a1af8ee",
   "metadata": {},
   "outputs": [],
   "source": [
    "spark.sql(\"\"\"\n",
    "SELECT * FROM scdtype2.orders_history\n",
    "\"\"\").show()"
   ]
  },
  {
   "cell_type": "markdown",
   "id": "ba9fe6cd",
   "metadata": {},
   "source": [
    "## SCD Type 2パターンのまとめ\n",
    "\n",
    "このハンズオンでは、Apache Icebergの変更ログビュー機能を活用してSCD Type 2パターンを実装しました。このアプローチには以下のような利点があります：\n",
    "\n",
    "1. **シンプルなデータ操作**: 通常のINSERT/UPDATE操作だけでデータを管理できます。複雑なETLプロセスを構築する必要がありません。\n",
    "2. **自動的な変更履歴の記録**: Icebergが変更履歴を自動的に記録するため、変更追跡のための追加コードを書く必要がありません。\n",
    "3. **スナップショット管理**: Icebergのスナップショット機能により、データの一貫性が保証されます。\n",
    "4. **時間軸に沿った分析の容易さ**: 任意の時点でのデータの状態を簡単に再現できます。\n",
    "\n",
    "SCD Type 2パターンは、コンプライアンス要件、監査対応、時系列分析などが必要な多くの業界で重要な役割を果たします。Icebergを使用することで、このパターンをより効率的かつ信頼性高く実装できるようになります。"
   ]
  },
  {
   "cell_type": "code",
   "execution_count": null,
   "id": "c1704fdf-9c3b-4472-948b-65ddd4008901",
   "metadata": {},
   "outputs": [],
   "source": []
  }
 ],
 "metadata": {
  "kernelspec": {
   "display_name": "Python 3 (ipykernel)",
   "language": "python",
   "name": "python3"
  },
  "language_info": {
   "codemirror_mode": {
    "name": "ipython",
    "version": 3
   },
   "file_extension": ".py",
   "mimetype": "text/x-python",
   "name": "python",
   "nbconvert_exporter": "python",
   "pygments_lexer": "ipython3",
   "version": "3.11.10"
  }
 },
 "nbformat": 4,
 "nbformat_minor": 5
}
