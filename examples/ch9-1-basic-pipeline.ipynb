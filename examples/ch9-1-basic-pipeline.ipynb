{
 "cells": [
  {
   "cell_type": "markdown",
   "metadata": {},
   "source": [
    "# 第9章: 基本的なデータ分析パイプラインの構築\n",
    "\n",
    "このノートブックでは、NYC Taxiデータを使用して、Apache Icebergを中心としたデータ分析パイプラインを構築します。"
   ]
  },
  {
   "cell_type": "markdown",
   "metadata": {},
   "source": [
    "## 1. 環境のセットアップ"
   ]
  },
  {
   "cell_type": "code",
   "execution_count": null,
   "metadata": {},
   "outputs": [],
   "source": [
    "import pyspark\n",
    "from pyspark.conf import SparkConf\n",
    "from pyspark.sql import SparkSession\n",
    "from pyspark.sql.functions import col, avg, sum, count, hour, dayofweek, month, year, date_format, to_date\n",
    "from datetime import datetime\n",
    "import pandas as pd\n",
    "\n",
    "CATALOG = \"demo\"\n",
    "CATALOG_URL = \"http://server:8181/\"\n",
    "S3_ENDPOINT = \"http://minio:9000\"\n",
    "SPARK_VERSION = pyspark.__version__\n",
    "SPARK_MINOR_VERSION = '.'.join(SPARK_VERSION.split('.')[:2])\n",
    "ICEBERG_VERSION = \"1.8.1\""
   ]
  },
  {
   "cell_type": "code",
   "execution_count": null,
   "metadata": {},
   "outputs": [],
   "source": [
    "# SparkSessionの作成\n",
    "spark = (\n",
    "    SparkSession.builder\n",
    "        .appName(\"NYC Taxi Data Pipeline\")\n",
    "        .config(\"spark.jars.packages\", f\"org.apache.iceberg:iceberg-spark-runtime-{SPARK_MINOR_VERSION}_2.12:{ICEBERG_VERSION},org.apache.iceberg:iceberg-aws-bundle:{ICEBERG_VERSION}\")\n",
    "        .config(f\"spark.sql.catalog.{CATALOG}\", \"org.apache.iceberg.spark.SparkCatalog\")\n",
    "        .config(f\"spark.sql.catalog.{CATALOG}.type\", \"rest\")\n",
    "        .config(f\"spark.sql.catalog.{CATALOG}.uri\", CATALOG_URL)\n",
    "        .config(f\"spark.sql.catalog.{CATALOG}.s3.endpoint\", S3_ENDPOINT)\n",
    "        .config(f\"spark.sql.catalog.{CATALOG}.view-endpoints-supported\", \"true\")\n",
    "        .config(\"spark.sql.extensions\", \"org.apache.iceberg.spark.extensions.IcebergSparkSessionExtensions\")\n",
    "        .config(\"spark.sql.defaultCatalog\", CATALOG)\n",
    "        .getOrCreate()\n",
    ")"
   ]
  },
  {
   "cell_type": "code",
   "execution_count": null,
   "metadata": {},
   "outputs": [],
   "source": [
    "%sql spark"
   ]
  },
  {
   "cell_type": "code",
   "execution_count": null,
   "metadata": {},
   "outputs": [],
   "source": [
    "# カタログとデータベースの作成\n",
    "spark.sql(\"CREATE DATABASE IF NOT EXISTS nyc_taxi\")"
   ]
  },
  {
   "cell_type": "markdown",
   "metadata": {},
   "source": [
    "## 2. NYC Taxiデータの取得と初期探索"
   ]
  },
  {
   "cell_type": "code",
   "execution_count": null,
   "metadata": {},
   "outputs": [],
   "source": [
    "# NYC Taxiデータの読み込み（既にDockerイメージ内に配置済み）\n",
    "df_taxi = spark.read.parquet(\"/home/jovyan/data/yellow_tripdata_2022-01.parquet\")"
   ]
  },
  {
   "cell_type": "markdown",
   "metadata": {},
   "source": [
    "### データの概要を確認"
   ]
  },
  {
   "cell_type": "code",
   "execution_count": null,
   "metadata": {},
   "outputs": [],
   "source": [
    "print(f\"レコード数: {df_taxi.count():,}\")\n",
    "print(f\"カラム数: {len(df_taxi.columns)}\")\n",
    "df_taxi.printSchema()"
   ]
  },
  {
   "cell_type": "code",
   "execution_count": null,
   "metadata": {},
   "outputs": [],
   "source": [
    "df_taxi.show(5, truncate=False)"
   ]
  },
  {
   "cell_type": "code",
   "execution_count": null,
   "metadata": {},
   "outputs": [],
   "source": [
    "df_taxi.select(\"trip_distance\", \"fare_amount\", \"tip_amount\", \"total_amount\") \\\n",
    "    .summary(\"count\", \"mean\", \"stddev\", \"min\", \"max\") \\\n",
    "    .show()"
   ]
  },
  {
   "cell_type": "markdown",
   "metadata": {},
   "source": [
    "## 3. Icebergテーブルへのデータ保存"
   ]
  },
  {
   "cell_type": "code",
   "execution_count": null,
   "metadata": {},
   "outputs": [],
   "source": [
    "%%sql\n",
    "CREATE OR REPLACE TABLE demo.nyc_taxi.yellow_trips_raw (\n",
    "    VendorID BIGINT,\n",
    "    tpep_pickup_datetime TIMESTAMP_NTZ,\n",
    "    tpep_dropoff_datetime TIMESTAMP_NTZ,\n",
    "    passenger_count DOUBLE,\n",
    "    trip_distance DOUBLE,\n",
    "    RatecodeID DOUBLE,\n",
    "    store_and_fwd_flag STRING,\n",
    "    PULocationID BIGINT,\n",
    "    DOLocationID BIGINT,\n",
    "    payment_type BIGINT,\n",
    "    fare_amount DOUBLE,\n",
    "    extra DOUBLE,\n",
    "    mta_tax DOUBLE,\n",
    "    tip_amount DOUBLE,\n",
    "    tolls_amount DOUBLE,\n",
    "    improvement_surcharge DOUBLE,\n",
    "    total_amount DOUBLE,\n",
    "    congestion_surcharge DOUBLE,\n",
    "    airport_fee DOUBLE\n",
    ")\n",
    "USING iceberg\n",
    "PARTITIONED BY (month(tpep_pickup_datetime))"
   ]
  },
  {
   "cell_type": "code",
   "execution_count": null,
   "metadata": {},
   "outputs": [],
   "source": [
    "%%sql\n",
    "DESCRIBE TABLE demo.nyc_taxi.yellow_trips_raw"
   ]
  },
  {
   "cell_type": "code",
   "execution_count": null,
   "metadata": {},
   "outputs": [],
   "source": [
    "df_taxi.writeTo(\"demo.nyc_taxi.yellow_trips_raw\").append()"
   ]
  },
  {
   "cell_type": "code",
   "execution_count": null,
   "metadata": {},
   "outputs": [],
   "source": [
    "%%sql\n",
    "SELECT * FROM demo.nyc_taxi.yellow_trips_raw limit 10;"
   ]
  },
  {
   "cell_type": "markdown",
   "metadata": {},
   "source": [
    "## 4. データ変換と集計テーブルの作成"
   ]
  },
  {
   "cell_type": "markdown",
   "metadata": {},
   "source": [
    "### 時間別集計テーブル（hourly_stats）"
   ]
  },
  {
   "cell_type": "code",
   "execution_count": null,
   "metadata": {},
   "outputs": [],
   "source": [
    "%%sql\n",
    "CREATE OR REPLACE TABLE demo.nyc_taxi.hourly_stats\n",
    "USING iceberg\n",
    "PARTITIONED BY (pickup_date)\n",
    "AS\n",
    "SELECT \n",
    "    date(tpep_pickup_datetime) as pickup_date,\n",
    "    hour(tpep_pickup_datetime) as pickup_hour,\n",
    "    PULocationID as pickup_location_id,\n",
    "    COUNT(*) as trip_count,\n",
    "    AVG(trip_distance) as avg_distance,\n",
    "    AVG(fare_amount) as avg_fare,\n",
    "    AVG(tip_amount) as avg_tip,\n",
    "    SUM(total_amount) as total_revenue\n",
    "FROM demo.nyc_taxi.yellow_trips_raw\n",
    "WHERE tpep_pickup_datetime IS NOT NULL\n",
    "    AND trip_distance > 0\n",
    "    AND fare_amount > 0\n",
    "GROUP BY date(tpep_pickup_datetime), hour(tpep_pickup_datetime), PULocationID"
   ]
  },
  {
   "cell_type": "markdown",
   "metadata": {},
   "source": [
    "### 日別集計テーブル（daily_stats）"
   ]
  },
  {
   "cell_type": "code",
   "execution_count": null,
   "metadata": {},
   "outputs": [],
   "source": [
    "%%sql\n",
    "CREATE OR REPLACE TABLE demo.nyc_taxi.daily_stats\n",
    "USING iceberg\n",
    "AS\n",
    "SELECT \n",
    "    date(tpep_pickup_datetime) as pickup_date,\n",
    "    dayofweek(date(tpep_pickup_datetime)) as day_of_week,\n",
    "    CASE \n",
    "        WHEN dayofweek(date(tpep_pickup_datetime)) IN (1, 7) THEN 'Weekend'\n",
    "        ELSE 'Weekday'\n",
    "    END as day_type,\n",
    "    COUNT(*) as trip_count,\n",
    "    AVG(trip_distance) as avg_distance,\n",
    "    AVG(fare_amount) as avg_fare,\n",
    "    AVG(CASE WHEN trip_distance > 0 THEN fare_amount / trip_distance END) as avg_fare_per_mile,\n",
    "    SUM(total_amount) as total_revenue\n",
    "FROM demo.nyc_taxi.yellow_trips_raw\n",
    "WHERE tpep_pickup_datetime IS NOT NULL\n",
    "    AND trip_distance > 0\n",
    "    AND fare_amount > 0\n",
    "GROUP BY date(tpep_pickup_datetime)"
   ]
  },
  {
   "cell_type": "code",
   "execution_count": null,
   "metadata": {},
   "outputs": [],
   "source": [
    "%%sql\n",
    "CREATE OR REPLACE TABLE demo.nyc_taxi.daily_stats\n",
    "USING iceberg\n",
    "AS\n",
    "SELECT \n",
    "    date(tpep_pickup_datetime) as pickup_date,\n",
    "    dayofweek(date(tpep_pickup_datetime)) as day_of_week,\n",
    "    CASE \n",
    "        WHEN dayofweek(date(tpep_pickup_datetime)) IN (1, 7) THEN 'Weekend'\n",
    "        ELSE 'Weekday'\n",
    "    END as day_type,\n",
    "    COUNT(*) as trip_count,\n",
    "    AVG(trip_distance) as avg_distance,\n",
    "    AVG(fare_amount) as avg_fare,\n",
    "    AVG(CASE WHEN trip_distance > 0 THEN fare_amount / trip_distance END) as avg_fare_per_mile,\n",
    "    SUM(total_amount) as total_revenue\n",
    "FROM demo.nyc_taxi.yellow_trips_raw\n",
    "WHERE tpep_pickup_datetime IS NOT NULL\n",
    "    AND trip_distance > 0\n",
    "    AND fare_amount > 0\n",
    "GROUP BY date(tpep_pickup_datetime)"
   ]
  },
  {
   "cell_type": "markdown",
   "metadata": {},
   "source": [
    "## 5. 分析クエリの実行"
   ]
  },
  {
   "cell_type": "code",
   "execution_count": null,
   "metadata": {},
   "outputs": [],
   "source": [
    "%%sql\n",
    "SELECT \n",
    "    pickup_hour,\n",
    "    SUM(trip_count) as total_trips,\n",
    "    AVG(avg_fare) as average_fare\n",
    "FROM demo.nyc_taxi.hourly_stats\n",
    "GROUP BY pickup_hour\n",
    "ORDER BY total_trips DESC"
   ]
  },
  {
   "cell_type": "code",
   "execution_count": null,
   "metadata": {},
   "outputs": [],
   "source": [
    "%%sql\n",
    "-- 平日と週末の比較\n",
    "SELECT \n",
    "    day_type,\n",
    "    SUM(trip_count) as total_trips,\n",
    "    AVG(avg_distance) as avg_trip_distance,\n",
    "    AVG(avg_fare) as avg_fare\n",
    "FROM nyc_taxi.daily_stats\n",
    "GROUP BY day_type"
   ]
  },
  {
   "cell_type": "code",
   "execution_count": null,
   "metadata": {},
   "outputs": [],
   "source": [
    "%%sql\n",
    "SELECT \n",
    "    day_type,\n",
    "    SUM(trip_count) as total_trips,\n",
    "    AVG(avg_distance) as avg_trip_distance,\n",
    "    AVG(avg_fare) as avg_fare\n",
    "FROM demo.nyc_taxi.daily_stats\n",
    "GROUP BY day_type"
   ]
  },
  {
   "cell_type": "markdown",
   "metadata": {},
   "source": [
    "## 6. Apache Supersetでの可視化\n",
    "\n",
    "作成したIcebergテーブルは、Apache Supersetから可視化できます。\n",
    "\n",
    "### Supersetへのアクセス\n",
    "- URL: http://localhost:8088\n",
    "- ユーザー名: admin\n",
    "- パスワード: admin\n",
    "\n",
    "### Trinoデータソースの設定手順\n",
    "1. 画面右上の「Settings」 → 「Database Connections」をクリック\n",
    "2. 画面右上の「Database」をクリック\n",
    "3. 「Supported databases」のプルダウンから「Trino」を選択\n",
    "4. 「SQLAlchemy URI」に以下の接続情報を入力：\n",
    "   - `trino://trino@trino:8085/iceberg`\n",
    "5. 「Test Connection」で接続を確認後、「Connect」をクリック\n",
    "\n",
    "接続が完了したら、作成した集計テーブル（`nyc_taxi.hourly_stats`、`nyc_taxi.daily_stats`）をデータセットとして登録します。これにより、ドラッグ＆ドロップで様々なチャートを作成できるようになります。  \n",
    "  \n",
    "1. 画面右上の「+」メニュー → 「Data」→「Create Dataset」をクリック\n",
    "2. Database に「Trino」を選択\n",
    "3. Schema に「nyc_taxi」を選択\n",
    "   - ここで、`nyc_taxi` は Iceberg テーブルを保存したスキーマ名です\n",
    "4. Table に「yellow_trips_raw」を選択\n",
    "5. 「CREATE DATASET AND CREATE CHART」をクリック"
   ]
  },
  {
   "cell_type": "code",
   "execution_count": null,
   "metadata": {},
   "outputs": [],
   "source": []
  }
 ],
 "metadata": {
  "kernelspec": {
   "display_name": "Python 3 (ipykernel)",
   "language": "python",
   "name": "python3"
  },
  "language_info": {
   "codemirror_mode": {
    "name": "ipython",
    "version": 3
   },
   "file_extension": ".py",
   "mimetype": "text/x-python",
   "name": "python",
   "nbconvert_exporter": "python",
   "pygments_lexer": "ipython3",
   "version": "3.11.10"
  }
 },
 "nbformat": 4,
 "nbformat_minor": 4
}
