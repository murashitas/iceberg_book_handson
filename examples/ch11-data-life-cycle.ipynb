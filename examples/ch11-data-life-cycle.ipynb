{
 "cells": [
  {
   "cell_type": "markdown",
   "id": "51d7c84a",
   "metadata": {},
   "source": [
    "# 第 11 章: 運用管理 - データライフサイクル管理\n",
    "\n",
    "本ノートブックでは、「データライフサイクル管理」節で紹介されている、スナップショットの期限設定と期限に基づく削除を実行することができます。具体的には、以下の内容を実行できます:\n",
    "\n",
    "* スナップショット保持期間とスナップショット最小保持数の設定と利用\n",
    "* データ削除要件にもとづいて削除する\n",
    "* ブランチやタグによる詳細なデータの保持管理\n",
    "\n",
    "なお各例における保持期間については、テスト用のため数分など短い時間に設定しています。実運用で利用する際は、会社のポリシーなどに合わせた期間を設定してください。"
   ]
  },
  {
   "cell_type": "markdown",
   "id": "00c7cad0",
   "metadata": {},
   "source": [
    "## 事前準備"
   ]
  },
  {
   "cell_type": "code",
   "execution_count": null,
   "id": "4bf62d89",
   "metadata": {
    "vscode": {
     "languageId": "plaintext"
    }
   },
   "outputs": [],
   "source": [
    "import time\n",
    "import pyspark\n",
    "from pyspark.sql import SparkSession\n",
    "CATALOG = \"my_catalog\"\n",
    "CATALOG_URL = \"http://server:8181/\"\n",
    "S3_ENDPOINT = \"http://minio:9000\"\n",
    "SPARK_VERSION = pyspark.__version__\n",
    "SPARK_MINOR_VERSION = '.'.join(SPARK_VERSION.split('.')[:2])\n",
    "ICEBERG_VERSION = \"1.8.1\""
   ]
  },
  {
   "cell_type": "code",
   "execution_count": null,
   "id": "df29c816",
   "metadata": {
    "vscode": {
     "languageId": "plaintext"
    }
   },
   "outputs": [],
   "source": [
    "spark = (\n",
    "    SparkSession.builder\n",
    "        .config(\"spark.jars.packages\", f\"org.apache.iceberg:iceberg-spark-runtime-{SPARK_MINOR_VERSION}_2.12:{ICEBERG_VERSION},org.apache.iceberg:iceberg-aws-bundle:{ICEBERG_VERSION}\")\n",
    "        .config(f\"spark.sql.catalog.{CATALOG}\", \"org.apache.iceberg.spark.SparkCatalog\")\n",
    "        .config(f\"spark.sql.catalog.{CATALOG}.type\", \"rest\")\n",
    "        .config(f\"spark.sql.catalog.{CATALOG}.uri\", CATALOG_URL)\n",
    "        .config(f\"spark.sql.catalog.{CATALOG}.s3.endpoint\", S3_ENDPOINT)\n",
    "        .config(f\"spark.sql.catalog.{CATALOG}.view-endpoints-supported\", \"true\")\n",
    "        .config(\"spark.sql.extensions\", \"org.apache.iceberg.spark.extensions.IcebergSparkSessionExtensions\")\n",
    "        .config(\"spark.sql.defaultCatalog\", \"my_catalog\")\n",
    "        .getOrCreate()\n",
    ")"
   ]
  },
  {
   "cell_type": "code",
   "execution_count": null,
   "id": "2d31e12e-eb09-4519-8a81-b6c67e75e377",
   "metadata": {},
   "outputs": [],
   "source": [
    "%sql spark"
   ]
  },
  {
   "cell_type": "markdown",
   "id": "9a0c64d3-67b5-42c2-b997-238098f5e9a3",
   "metadata": {},
   "source": [
    "### (Optional) データベースの作成\n",
    "データベースを作成していない場合、以下のセルを実行してください。既にデータベースが存在する場合は、本ステップにつきましてはスキップしてください。"
   ]
  },
  {
   "cell_type": "code",
   "execution_count": null,
   "id": "cd8c486f-f53f-4a39-8179-6577399ad288",
   "metadata": {},
   "outputs": [],
   "source": [
    "%%sql\n",
    "CREATE DATABASE IF NOT EXISTS db"
   ]
  },
  {
   "cell_type": "markdown",
   "id": "a0c8e05c",
   "metadata": {},
   "source": [
    "## スナップショット保持期間とスナップショット最小保持数の設定と利用\n",
    "まずは、データ保持期間を設定するための基本テーブルプロパティである `history.expire.max-snapshot-age-ms` (デフォルト: 5 日間)と `history.expire.min-snapshots-to-keep` (デフォルト: 1) の設定方法について紹介します。またこれらの設定に基づいて、データを削除するための Spark プロシージャ `expire_snapshots` の実行方法についても確認します。\n",
    "なお、本ノートブックではテスト目的で、スナップショットの保持期間を 1 分に設定しています。実際のユースケースでは、会社のポリシーなどに従って期限を設定します。\n",
    "\n",
    "### スナップショット保持期間を設定する"
   ]
  },
  {
   "cell_type": "code",
   "execution_count": null,
   "id": "6db48309",
   "metadata": {
    "vscode": {
     "languageId": "plaintext"
    }
   },
   "outputs": [],
   "source": [
    "%%sql\n",
    "CREATE OR REPLACE TABLE db.sales_iceberg_practice (\n",
    "    product_name string,\n",
    "    price decimal(10, 2),\n",
    "    customer_id bigint,\n",
    "    order_id string,\n",
    "    datetime timestamp,\n",
    "    category string) \n",
    "USING iceberg\n",
    "TBLPROPERTIES ('history.expire.max-snapshot-age-ms'='60000') -- 1 min に設定"
   ]
  },
  {
   "cell_type": "code",
   "execution_count": null,
   "id": "e16cd732-6b33-4a72-b35d-60858770ce7b",
   "metadata": {},
   "outputs": [],
   "source": [
    "records = [\n",
    "    \"('tomato juice', 2.00, 1698, 'DRE8DLTFNX0MLCE8DLTFNX0MLC', TIMESTAMP '2023-07-18T02:20:58Z', 'drink')\",\n",
    "    \"('cocoa', 2.00, 1652, 'DR1UNFHET81UNFHET8', TIMESTAMP '2024-08-26T11:36:48Z', 'drink')\",\n",
    "    \"('espresso', 2.00, 1037, 'DRBFZUJWPZ9SRABFZUJWPZ9SRA', TIMESTAMP '2024-04-19T12:17:22Z', 'drink')\",\n",
    "    \"('broccoli', 1.00, 3092, 'GRK0L8ZQK0L8ZQ', TIMESTAMP '2023-03-22T18:48:04Z', 'grocery')\",\n",
    "    \"('nutmeg', 1.00, 3512, 'GR15U0LKA15U0LKA', TIMESTAMP '2024-02-27T15:13:31Z', 'grocery')\"\n",
    "]\n",
    "\n",
    "for record in records:\n",
    "    spark.sql(f\"INSERT INTO db.sales_iceberg_practice VALUES {record}\")\n",
    "    time.sleep(20) # 20 秒ごとにテーブルに書き込む"
   ]
  },
  {
   "cell_type": "markdown",
   "id": "33578464-2ec7-4966-8ffe-2b495d0bc0cf",
   "metadata": {},
   "source": [
    "以下のメタデータクエリを実行し、この時点における Iceberg テーブルの各スナップショットの作成時間とスナップショット数を確認します。"
   ]
  },
  {
   "cell_type": "code",
   "execution_count": null,
   "id": "d4b911a2-fe88-474e-9613-55767823e1b1",
   "metadata": {},
   "outputs": [],
   "source": [
    "%%sql\n",
    "SELECT * FROM db.sales_iceberg_practice.history"
   ]
  },
  {
   "cell_type": "markdown",
   "id": "30952a36-b3c4-4d99-91c1-2e070f8b0c0e",
   "metadata": {},
   "source": [
    "`expire_snapshots` プロシージャを実行し、保持期間を超過したスナップショット (今回は**作成後から 1 分**を超過したもの)を削除します。"
   ]
  },
  {
   "cell_type": "code",
   "execution_count": null,
   "id": "b68785c4-a095-4b29-89df-3166eab97607",
   "metadata": {},
   "outputs": [],
   "source": [
    "%%sql\n",
    "CALL system.expire_snapshots (\n",
    "    table => 'db.sales_iceberg_practice'\n",
    ")"
   ]
  },
  {
   "cell_type": "markdown",
   "id": "f42857e2-4aea-46b4-bb5e-65463acbfaed",
   "metadata": {},
   "source": [
    "以下のメタデータクエリを実行し、先ほどのメタデータクエリと比較してみましょう。スナップショット作成から 1 分間が経過したものが全て削除されることを確認できます。"
   ]
  },
  {
   "cell_type": "code",
   "execution_count": null,
   "id": "9e6b1489-0523-4fc3-a9d1-de31d4c8be31",
   "metadata": {},
   "outputs": [],
   "source": [
    "%%sql\n",
    "SELECT * FROM db.sales_iceberg_practice.history"
   ]
  },
  {
   "cell_type": "markdown",
   "id": "2b00d97c-3948-407d-a5b7-babb28f0e422",
   "metadata": {},
   "source": [
    "### スナップショット最小保持数を設定する\n",
    "\n",
    "次に、`history.expire.min-snapshots-to-keep` (デフォルト: 1)を変更し、スナップショット保持期間を超えた場合でも、スナップショットが保持されることを確認してみましょう。まずは保持期間を 5 に設定します。"
   ]
  },
  {
   "cell_type": "code",
   "execution_count": null,
   "id": "a4e7aa81-daec-4b21-90b0-bbe32e19c98e",
   "metadata": {},
   "outputs": [],
   "source": [
    "%%sql\n",
    "ALTER TABLE db.sales_iceberg_practice SET TBLPROPERTIES ('history.expire.min-snapshots-to-keep'='5')"
   ]
  },
  {
   "cell_type": "markdown",
   "id": "71720a5f-0a8e-4780-857f-4f24ad95a0e3",
   "metadata": {},
   "source": [
    "追加で 2 レコード書き込みます。ここでは、各書き込みで作成されるスナップショットがその保持期間を超過するように 1 分 10 秒待つようにしています。"
   ]
  },
  {
   "cell_type": "code",
   "execution_count": null,
   "id": "8ae61db6-020a-48a3-9556-67b5c1887631",
   "metadata": {},
   "outputs": [],
   "source": [
    "records = [\n",
    "    \"('mocha', 4.00, 1652, 'DR1UNFHET81UNFHET8', TIMESTAMP '2013-11-26T12:49:43Z', 'drink')\",\n",
    "    \"('egg', 1.00, 3176, 'GRVQARCD6COVQARCD6CO', TIMESTAMP '2025-02-10 11:15:31', 'grocery')\",\n",
    "]\n",
    "\n",
    "for record in records:\n",
    "    spark.sql(f\"INSERT INTO db.sales_iceberg_practice VALUES {record}\")\n",
    "    time.sleep(70) # 70 秒ごとにテーブルに書き込む"
   ]
  },
  {
   "cell_type": "code",
   "execution_count": null,
   "id": "fa632825-af24-4c9f-8cf1-4c55e6e7fa41",
   "metadata": {},
   "outputs": [],
   "source": [
    "%%sql\n",
    "SELECT * FROM db.sales_iceberg_practice.history"
   ]
  },
  {
   "cell_type": "markdown",
   "id": "2e23967e-b7c3-4094-b20d-f95d805274f4",
   "metadata": {},
   "source": [
    "`expire_snapshots` をもう一度実行して、保持期間を超過したスナップショットが保持されるか確認しましょう。"
   ]
  },
  {
   "cell_type": "code",
   "execution_count": null,
   "id": "50c79ff5-e5a0-4da3-be6c-b4f9fd1437b5",
   "metadata": {},
   "outputs": [],
   "source": [
    "%%sql\n",
    "CALL system.expire_snapshots (\n",
    "    table => 'db.sales_iceberg_practice'\n",
    ")"
   ]
  },
  {
   "cell_type": "markdown",
   "id": "a4492770-ec2f-4e72-b7b3-83d1cedc3458",
   "metadata": {},
   "source": [
    "以下のメタデータクエリを実行すると、新たに作成されたスナップショットが、その保持期間を超過した場合でも、削除されずに保持されることを確認できます。"
   ]
  },
  {
   "cell_type": "code",
   "execution_count": null,
   "id": "a9097e2a-c004-4e9e-894c-d0fdb77ab529",
   "metadata": {},
   "outputs": [],
   "source": [
    "%%sql\n",
    "SELECT * FROM db.sales_iceberg_practice.history"
   ]
  },
  {
   "cell_type": "markdown",
   "id": "a0bffd47-77fb-413e-856e-f2918bcf7e2b",
   "metadata": {},
   "source": [
    "## データ削除要件にもとづいて削除する\n",
    "\n",
    "より実際のユースケースについて確認してみましょう。例えば、ある会社で削除したレコードを一定期間保持し、その後データ自体を削除するポリシーがあるとします。ここでは、テストとしてその期間を**5 分**とし、実際にどのような手順で削除が可能か確認します。まずはテーブルを作成し、最初にデータをロードします。"
   ]
  },
  {
   "cell_type": "code",
   "execution_count": null,
   "id": "053b4582-d49e-4ef2-a7dd-ccbba8553e82",
   "metadata": {},
   "outputs": [],
   "source": [
    "%%sql\n",
    "CREATE OR REPLACE TABLE db.sales_iceberg (\n",
    "    product_name string,\n",
    "    price decimal(10, 2),\n",
    "    customer_id bigint,\n",
    "    order_id string,\n",
    "    datetime timestamp,\n",
    "    category string) \n",
    "USING iceberg\n",
    "TBLPROPERTIES (\n",
    "    'history.expire.max-snapshot-age-ms'='300000' -- スナップショット保持期間を 5 min に設定\n",
    ")"
   ]
  },
  {
   "cell_type": "code",
   "execution_count": null,
   "id": "262056cf-8058-4dc2-8811-6cee04e092d3",
   "metadata": {},
   "outputs": [],
   "source": [
    "%%sql\n",
    "INSERT INTO db.sales_iceberg VALUES\n",
    "    ('tomato juice', 2.00, 1698, 'DRE8DLTFNX0MLCE8DLTFNX0MLC', TIMESTAMP '2023-07-18T02:20:58Z', 'drink'),\n",
    "    ('cocoa', 2.00, 1652, 'DR1UNFHET81UNFHET8', TIMESTAMP '2024-08-26T11:36:48Z', 'drink'),\n",
    "    ('espresso', 2.00, 1037, 'DRBFZUJWPZ9SRABFZUJWPZ9SRA', TIMESTAMP '2024-04-19T12:17:22Z', 'drink'),\n",
    "    ('broccoli', 1.00, 3092, 'GRK0L8ZQK0L8ZQ', TIMESTAMP '2023-03-22T18:48:04Z', 'grocery'),\n",
    "    ('nutmeg', 1.00, 3512, 'GR15U0LKA15U0LKA', TIMESTAMP '2024-02-27T15:13:31Z', 'grocery')"
   ]
  },
  {
   "cell_type": "code",
   "execution_count": null,
   "id": "c3c0a542-b1c2-4a5a-a591-150bbab82f1a",
   "metadata": {},
   "outputs": [],
   "source": [
    "%%sql\n",
    "SELECT * FROM db.sales_iceberg"
   ]
  },
  {
   "cell_type": "markdown",
   "id": "62ba9ed8-394a-411e-afd9-f23a75f661de",
   "metadata": {},
   "source": [
    "実際にデータを削除まで行ってみましょう。以下のセルでは、2 分ごとにレコードを削除し、`expire_snapshots`を実行します。"
   ]
  },
  {
   "cell_type": "code",
   "execution_count": null,
   "id": "79e345ff-8ba4-4d36-84fc-91e6fd8c3fef",
   "metadata": {},
   "outputs": [],
   "source": [
    "deleted_products = [\n",
    "    \"DRE8DLTFNX0MLCE8DLTFNX0MLC\", # tomato juice\n",
    "    \"DR1UNFHET81UNFHET8\", # cocoa\n",
    "    \"GRK0L8ZQK0L8ZQ\", # broccoli\n",
    "]\n",
    "\n",
    "# レコードの削除 (データファイル自体は削除されない)\n",
    "for deleted_product in deleted_products:\n",
    "    time.sleep(120) # 2 分ごとにレコードを削除する\n",
    "    spark.sql(f\"DELETE FROM db.sales_iceberg WHERE order_id = '{deleted_product}'\")\n",
    "\n",
    "# データの削除 (データファイルが削除される)\n",
    "print(\"Running expire_snapshots...\")\n",
    "spark.sql(\"\"\"\n",
    "CALL system.expire_snapshots (\n",
    "    table => 'db.sales_iceberg'\n",
    ")\n",
    "\"\"\").show(truncate=False)"
   ]
  },
  {
   "cell_type": "markdown",
   "id": "38440d0f-dc0c-4e91-9297-2ca4ed60fc16",
   "metadata": {},
   "source": [
    "削除後のテーブルレコードを確認してみましょう。2 レコード (`espresso`, `nutmeg`)のみ出力されます。"
   ]
  },
  {
   "cell_type": "code",
   "execution_count": null,
   "id": "0dd40fc1-bb91-443e-afc2-84bbc12d4ebd",
   "metadata": {},
   "outputs": [],
   "source": [
    "%%sql\n",
    "SELECT * FROM db.sales_iceberg"
   ]
  },
  {
   "cell_type": "markdown",
   "id": "56508262-3f32-4e99-9fcf-e51c60816074",
   "metadata": {},
   "source": [
    "テーブルの履歴の確認と、各スナップショットに対するタイムトラベルクエリを実行してみましょう。2 スナップショット表示され、最初に 5 レコード書き込まれた際のスナップショットと、削除された `tomato juice`に関するスナップショットが削除されていることを確認できます。"
   ]
  },
  {
   "cell_type": "code",
   "execution_count": null,
   "id": "588457a8-042c-4aa8-9e93-8fce3964eec0",
   "metadata": {},
   "outputs": [],
   "source": [
    "%%sql\n",
    "SELECT * FROM db.sales_iceberg.history"
   ]
  },
  {
   "cell_type": "code",
   "execution_count": null,
   "id": "85dc0fbb-15d2-4832-a09a-17c6386062ba",
   "metadata": {},
   "outputs": [],
   "source": [
    "%%sql\n",
    "SELECT * FROM db.sales_iceberg VERSION AS OF <一番古い snapshot_id>\n",
    "-- tomato juice を削除した後のスナップショットにアクセスできます"
   ]
  },
  {
   "cell_type": "code",
   "execution_count": null,
   "id": "ad0ae14e-9553-43ea-9d32-f92e56d3fa9d",
   "metadata": {},
   "outputs": [],
   "source": [
    "%%sql\n",
    "SELECT * FROM db.sales_iceberg VERSION AS OF <二番目に古い snapshot_id>\n",
    "-- tomato juice, cocoa を削除した後のスナップショットにアクセスできます"
   ]
  },
  {
   "cell_type": "markdown",
   "id": "85e0f776-b289-4b45-b519-c0c18ac820e8",
   "metadata": {},
   "source": [
    "## ブランチやタグによる詳細なデータの保持管理\n",
    "\n",
    "本節ではブランチ・タグを利用し、さらに詳細なデータ保持管理を行います。具体的には以下の内容を実施します:\n",
    "\n",
    "* `main` ブランチに加え `dev` ブランチを作成\n",
    "* `main` ブランチのスナップショット保持期間を 10 分に設定 (テストのため短く設定しています)\n",
    "* `main` ブランチを除く、ブランチ全体の参照期間を 8 分に設定\n",
    "* `main` ブランチにおけるテーブルの初期状態に `initial_state` タグを付与する。このタグの期間を 1 時間に設定\n",
    "* `dev` ブランチのスナップショット保持期間を 4 分に設定\n",
    "\n",
    "まずは事前準備としてテーブルを作成し、3 レコードを追加します。"
   ]
  },
  {
   "cell_type": "code",
   "execution_count": null,
   "id": "631a2fde-29a7-41ff-a012-dbcd49fbd6c3",
   "metadata": {},
   "outputs": [],
   "source": [
    "%%sql\n",
    "CREATE OR REPLACE TABLE db.sales_iceberg_adv (\n",
    "    product_name string,\n",
    "    price decimal(10, 2),\n",
    "    customer_id bigint,\n",
    "    order_id string,\n",
    "    datetime timestamp,\n",
    "    category string) \n",
    "USING iceberg\n",
    "TBLPROPERTIES (\n",
    "    'history.expire.max-snapshot-age-ms'='600000', -- 10 分に設定\n",
    "    'history.expire.max-ref-age-ms' = '480000' -- ブランチの参照期間を 8 分に設定\n",
    ")"
   ]
  },
  {
   "cell_type": "code",
   "execution_count": null,
   "id": "91b5f22d-a0ba-4d47-88f5-0ed0d448aa26",
   "metadata": {},
   "outputs": [],
   "source": [
    "%%sql\n",
    "INSERT INTO db.sales_iceberg_adv VALUES\n",
    "    ('tomato juice', 2.00, 1698, 'DRE8DLTFNX0MLCE8DLTFNX0MLC', TIMESTAMP '2023-07-18T02:20:58Z', 'drink'),\n",
    "    ('cocoa', 2.00, 1652, 'DR1UNFHET81UNFHET8', TIMESTAMP '2024-08-26T11:36:48Z', 'drink'),\n",
    "    ('espresso', 2.00, 1037, 'DRBFZUJWPZ9SRABFZUJWPZ9SRA', TIMESTAMP '2024-04-19T12:17:22Z', 'drink')"
   ]
  },
  {
   "cell_type": "markdown",
   "id": "b04538e6-babf-4449-98e0-d4b28f14db85",
   "metadata": {},
   "source": [
    "この時点でのテーブルレコードを確認します。3 レコード出力されます。"
   ]
  },
  {
   "cell_type": "code",
   "execution_count": null,
   "id": "4127f1e6-4fe7-43fa-be0c-a36d35859508",
   "metadata": {},
   "outputs": [],
   "source": [
    "%%sql\n",
    "SELECT * FROM db.sales_iceberg_adv"
   ]
  },
  {
   "cell_type": "markdown",
   "id": "688f6c6e-e110-493c-be27-2b6970a27a4d",
   "metadata": {},
   "source": [
    "### タグの付与\n",
    "初期のテーブル時点を削除しないように、保持するため、タグを付与します。このタグは 1 時間保持するよう設定します。"
   ]
  },
  {
   "cell_type": "code",
   "execution_count": null,
   "id": "f7631f1f-e58d-4152-9eb8-f1672d2a70a6",
   "metadata": {},
   "outputs": [],
   "source": [
    "%%sql\n",
    "ALTER TABLE db.sales_iceberg_adv CREATE TAG initial_state RETAIN 1 HOURS"
   ]
  },
  {
   "cell_type": "markdown",
   "id": "3db8654b-710f-453e-8b40-6a3f3812165c",
   "metadata": {},
   "source": [
    "### さらにテーブルにデータを書き込む\n",
    "さらにこの後テーブルにデータが一定間隔で書き込まれたことをシミュレートするため、以下のセルを実行してください。"
   ]
  },
  {
   "cell_type": "code",
   "execution_count": null,
   "id": "0fe3390a-dfc1-4424-8a9e-c11a7ada0818",
   "metadata": {},
   "outputs": [],
   "source": [
    "records = [\n",
    "    \"('broccoli', 1.00, 3092, 'GRK0L8ZQK0L8ZQ', TIMESTAMP '2023-03-22T18:48:04Z', 'grocery')\",\n",
    "    \"('nutmeg', 1.00, 3512, 'GR15U0LKA15U0LKA', TIMESTAMP '2024-02-27T15:13:31Z', 'grocery')\",\n",
    "]\n",
    "\n",
    "for record in records:\n",
    "    time.sleep(150) # 2 分 30 秒ごとにテーブルに書き込む\n",
    "    spark.sql(f\"INSERT INTO db.sales_iceberg_adv VALUES {record}\")"
   ]
  },
  {
   "cell_type": "markdown",
   "id": "df0f05d6-13d7-4ffc-9802-28a5cf548a26",
   "metadata": {},
   "source": [
    "この時点でのテーブルレコードとスナップショット履歴を確認しておきましょう。"
   ]
  },
  {
   "cell_type": "code",
   "execution_count": null,
   "id": "debf33f9-b836-457e-9fbb-a0a915e5234a",
   "metadata": {},
   "outputs": [],
   "source": [
    "%%sql\n",
    "SELECT * FROM db.sales_iceberg_adv"
   ]
  },
  {
   "cell_type": "code",
   "execution_count": null,
   "id": "6e68072f-05b5-48f3-955a-30c28308adee",
   "metadata": {},
   "outputs": [],
   "source": [
    "%%sql\n",
    "SELECT * FROM db.sales_iceberg_adv.history"
   ]
  },
  {
   "cell_type": "markdown",
   "id": "d4fe86d0-00c5-43f7-bdf4-6e9389788b6d",
   "metadata": {},
   "source": [
    "この時点における Iceberg テーブルのスナップショットと各期限を確認しておきましょう。\n",
    "\n",
    "```\n",
    "[main branch: スナップショット保持期間 10 分]\n",
    "snap_0 (3 レコード追加, initial_state TAG 付与) \n",
    "         ↓\n",
    "snap_1 (1 レコード - broccoli 追加) \n",
    "         ↓\n",
    "snap_2 (1 レコード - nutmeg 追加)\n",
    "```"
   ]
  },
  {
   "cell_type": "markdown",
   "id": "a2a2f202-5876-47c4-ba63-bc9735e53972",
   "metadata": {},
   "source": [
    "### ブランチの作成"
   ]
  },
  {
   "cell_type": "markdown",
   "id": "4694bb76-06eb-4837-9f54-711b61cfdc3e",
   "metadata": {},
   "source": [
    "`dev`ブランチを作成します。ここでは`dev`ブランチにおけるスナップショットの保持期間を 4 分に設定しています。"
   ]
  },
  {
   "cell_type": "code",
   "execution_count": null,
   "id": "0a47ed87-7eda-46d0-a7aa-e9f64adb8a60",
   "metadata": {},
   "outputs": [],
   "source": [
    "%%sql\n",
    "ALTER TABLE db.sales_iceberg_adv CREATE BRANCH dev WITH SNAPSHOT RETENTION 4 MINUTES"
   ]
  },
  {
   "cell_type": "markdown",
   "id": "c18d2307-a8b6-4d96-917e-0bc74a24ea98",
   "metadata": {},
   "source": [
    "`refs`メタデータテーブルに対してクエリを実行しブランチ・タグ一覧を取得します。`initial_state`タグが付与されていることと、最初のスナップショットに付与されていることと、`dev`ブランチが作成されていることを確認できます。"
   ]
  },
  {
   "cell_type": "code",
   "execution_count": null,
   "id": "28d4c576-be09-425c-9a1a-f2e6f530e1b8",
   "metadata": {},
   "outputs": [],
   "source": [
    "%%sql\n",
    "SELECT * FROM db.sales_iceberg_adv.refs"
   ]
  },
  {
   "cell_type": "markdown",
   "id": "a6fe3f14-caae-44bb-a39b-a180c94606b3",
   "metadata": {},
   "source": [
    "### 各ブランチにおけるデータ保持期間に基づくスナップショット削除\n",
    "\n",
    "作成した`dev`ブランチにデータを書き込むことを想定します。データは 3 分ごとに書かれ、書き込みが完了した後に`expire_snapshots`を実行し、スナップショットを削除します。"
   ]
  },
  {
   "cell_type": "code",
   "execution_count": null,
   "id": "31c705cf-ab82-421d-a943-b0d41196521e",
   "metadata": {},
   "outputs": [],
   "source": [
    "records = [\n",
    "    \"('mocha', 4.00, 1652, 'DR1UNFHET81UNFHET8', TIMESTAMP '2013-11-26T12:49:43Z', 'drink')\",\n",
    "    \"('egg', 1.00, 3176, 'GRVQARCD6COVQARCD6CO', TIMESTAMP '2025-02-10 11:15:31', 'grocery')\",\n",
    "]\n",
    "\n",
    "for record in records:\n",
    "    spark.sql(f\"INSERT INTO db.sales_iceberg_adv.branch_dev VALUES {record}\")\n",
    "    time.sleep(180) # 3 分ごとにテーブルに書き込む\n",
    "\n",
    "print(\"Running expire_snapshots...\")\n",
    "spark.sql(\"\"\"\n",
    "CALL system.expire_snapshots (\n",
    "    table => 'db.sales_iceberg_adv'\n",
    ")\n",
    "\"\"\").show(truncate=False)"
   ]
  },
  {
   "cell_type": "markdown",
   "id": "401b6036-8148-498e-89a8-2a6f59f55666",
   "metadata": {},
   "source": [
    "この時点におけるスナップショット一覧を取得します。ブランチも含めたスナップショット一覧は `snapshots` メタデータテーブルに対してクエリを実行することで取得できます。以下のスナップショットが保持されます:\n",
    "* `main` ブランチで最初に 3 レコードを追加した際のスナップショット (`initial_state` タグを付与しており、保持期間を 1 時間に設定しているため削除されません)\n",
    "* `main` ブランチの最新とその 1 つ前のスナップショット (10 分間の保持期間内であるため削除されません)\n",
    "* `dev` ブランチでで最新のスナップショット (4 分間の保持期間内であるため削除されません)"
   ]
  },
  {
   "cell_type": "code",
   "execution_count": null,
   "id": "253f9703-fbbb-4be1-bc8c-d237d97d0a80",
   "metadata": {},
   "outputs": [],
   "source": [
    "%%sql\n",
    "SELECT * FROM db.sales_iceberg_adv.snapshots"
   ]
  },
  {
   "cell_type": "markdown",
   "id": "4080d2a5-da8e-4697-ac64-2dee30dd37c8",
   "metadata": {},
   "source": [
    "`refs` メタデータテーブルにクエリし、各ブランチの最新の snapshot_id と、タグが付与されている snapshot_id を取得します (合計で 3 snapshot_id 確認できます)。"
   ]
  },
  {
   "cell_type": "code",
   "execution_count": null,
   "id": "2c5a80cb-8b78-4cfa-b39f-ebafb47f5753",
   "metadata": {},
   "outputs": [],
   "source": [
    "%%sql\n",
    "SELECT * FROM db.sales_iceberg_adv.refs"
   ]
  },
  {
   "cell_type": "markdown",
   "id": "2bd9add1-8e62-4395-a30a-4ea7bea30813",
   "metadata": {},
   "source": [
    "最後にもう一度 `expire_snapshots` を実行します。以下では、事前に 2 分ほど待機時間を設けています。これはブランチ参照期間として設定した 8 分を超過した際に `refs` メタデータテーブルから、作成して `dev` ブランチへの参照がなくなっていることを確認するためです。"
   ]
  },
  {
   "cell_type": "code",
   "execution_count": null,
   "id": "4d311e9b-6960-4e57-9f57-8771ccb007a2",
   "metadata": {},
   "outputs": [],
   "source": [
    "time.sleep(120) # ブランチ参照期間 8 分を超過させるため、2 分間おきます\n",
    "spark.sql(\"\"\"\n",
    "CALL system.expire_snapshots (\n",
    "    table => 'db.sales_iceberg_adv'\n",
    ")\n",
    "\"\"\").show(truncate=False)"
   ]
  },
  {
   "cell_type": "markdown",
   "id": "2866d2cf-56a1-4e8d-81d8-bddc8f743ef3",
   "metadata": {},
   "source": [
    "最後に現時点でのスナップショットの状態を確認します。タグが付与された最初のテーブルの状態を表すスナップショットと、`main` ブランチの最新のスナップショットが保持されていることを確認できます。"
   ]
  },
  {
   "cell_type": "code",
   "execution_count": null,
   "id": "77d1b596-0476-4e07-befa-e2ccd48a953c",
   "metadata": {},
   "outputs": [],
   "source": [
    "%%sql\n",
    "SELECT * FROM db.sales_iceberg_adv.snapshots"
   ]
  },
  {
   "cell_type": "markdown",
   "id": "4f37ad85-b4e5-4c78-890c-4ac29770d00e",
   "metadata": {},
   "source": [
    "`refs` メタデータテーブルにクエリし、各ブランチの最新の snapshot_id と、タグが付与されている snapshot_id も取得してみましょう。`dev` ブランチが削除されていることと、タグが付与されたスナップショットが保持されていることを確認できます。"
   ]
  },
  {
   "cell_type": "code",
   "execution_count": null,
   "id": "6c1340ab-6fa1-4a45-a7ea-5dc373070622",
   "metadata": {},
   "outputs": [],
   "source": [
    "%%sql\n",
    "SELECT * FROM db.sales_iceberg_adv.refs"
   ]
  }
 ],
 "metadata": {
  "kernelspec": {
   "display_name": "Python 3 (ipykernel)",
   "language": "python",
   "name": "python3"
  },
  "language_info": {
   "codemirror_mode": {
    "name": "ipython",
    "version": 3
   },
   "file_extension": ".py",
   "mimetype": "text/x-python",
   "name": "python",
   "nbconvert_exporter": "python",
   "pygments_lexer": "ipython3",
   "version": "3.11.10"
  }
 },
 "nbformat": 4,
 "nbformat_minor": 5
}
