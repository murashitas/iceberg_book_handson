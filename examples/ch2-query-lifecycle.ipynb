{
 "cells": [
  {
   "cell_type": "markdown",
   "id": "2dad309f-2d3f-46e0-a79b-5b155818383c",
   "metadata": {},
   "source": [
    "# 第 2 章: Apache Icebergの仕組みと機能"
   ]
  },
  {
   "cell_type": "markdown",
   "id": "cc177e9f-c29d-47e2-a15b-4e5f23532926",
   "metadata": {},
   "source": [
    "## 代表的なクエリのライフサイクル"
   ]
  },
  {
   "cell_type": "markdown",
   "id": "265d569e-e90d-4a74-9b35-fc1dfce366ae",
   "metadata": {},
   "source": [
    "### Spark Sessionと依存関係, utility関数の準備"
   ]
  },
  {
   "cell_type": "code",
   "execution_count": 38,
   "id": "c5e419a2-19d5-4b84-aa1f-cd7982ca3018",
   "metadata": {},
   "outputs": [],
   "source": [
    "import io\n",
    "import struct\n",
    "from pprint import pprint\n",
    "\n",
    "import pandas as pd\n",
    "from avro.datafile import DataFileReader\n",
    "from avro.io import DatumReader\n",
    "\n",
    "import pyspark\n",
    "from pyspark.conf import SparkConf\n",
    "from pyspark.sql import SparkSession\n",
    "\n",
    "CATALOG = \"spark_catalog\"\n",
    "CATALOG_URL = \"http://server:8181/\"\n",
    "WAREHOUSE = \"s3://amzn-s3-demo-bucket\"\n",
    "S3_ENDPOINT = \"http://minio:9000\"\n",
    "SPARK_VERSION = pyspark.__version__\n",
    "SPARK_MINOR_VERSION = '.'.join(SPARK_VERSION.split('.')[:2])\n",
    "ICEBERG_VERSION = \"1.7.1\""
   ]
  },
  {
   "cell_type": "code",
   "execution_count": 39,
   "id": "71598687-427f-4a6d-8cf6-aef3847fa8a7",
   "metadata": {},
   "outputs": [],
   "source": [
    "spark = (\n",
    "    SparkSession.builder\n",
    "        .config(\"spark.jars.packages\", f\"org.apache.iceberg:iceberg-spark-runtime-{SPARK_MINOR_VERSION}_2.12:{ICEBERG_VERSION},org.apache.iceberg:iceberg-aws-bundle:{ICEBERG_VERSION}\")\n",
    "        .config(f\"spark.sql.catalog.{CATALOG}\", \"org.apache.iceberg.spark.SparkCatalog\")\n",
    "        .config(f\"spark.sql.catalog.{CATALOG}.type\", \"rest\")\n",
    "        .config(f\"spark.sql.catalog.{CATALOG}.uri\", CATALOG_URL)\n",
    "        .config(f\"spark.sql.catalog.{CATALOG}.warehouse\", WAREHOUSE)\n",
    "        .config(f\"spark.sql.catalog.{CATALOG}.s3.endpoint\", S3_ENDPOINT)\n",
    "        .config(f\"spark.sql.catalog.{CATALOG}.view-endpoints-supported\", \"true\")\n",
    "        .config(\"spark.sql.extensions\", \"org.apache.iceberg.spark.extensions.IcebergSparkSessionExtensions\")\n",
    "        .config(\"spark.sql.defaultCatalog\", CATALOG)\n",
    "        .getOrCreate()\n",
    ")"
   ]
  },
  {
   "cell_type": "code",
   "execution_count": 40,
   "id": "23cba94c-c3a8-4144-88b7-c041554bd53a",
   "metadata": {},
   "outputs": [],
   "source": [
    "%sql spark"
   ]
  },
  {
   "cell_type": "code",
   "execution_count": 41,
   "id": "986888dd-ce20-407b-87a0-46808107a6de",
   "metadata": {},
   "outputs": [],
   "source": [
    "def list_objects(bucket_name: str, prefix: str) -> None:\n",
    "    \"\"\"\n",
    "    指定されたバケットとプレフィックスに基づいてオブジェクト一覧を表示\n",
    "    \"\"\"\n",
    "    try:\n",
    "        response = s3.list_objects_v2(Bucket=bucket_name, Prefix=prefix)\n",
    "        \n",
    "        if 'Contents' in response:\n",
    "            for obj in response['Contents']:\n",
    "                last_modified_str = obj['LastModified'].strftime(\"%Y-%m-%d %H:%M:%S\")\n",
    "                print(f\"Key:          {obj['Key']}\")\n",
    "                print(f\"LastModified: {last_modified_str}\")\n",
    "                print(f\"Size:         {obj['Size']} bytes\")\n",
    "                print(\"-\" * 40)\n",
    "        else:\n",
    "            print(\"オブジェクトが見つかりませんでした。\")\n",
    "            \n",
    "    except Exception as e:\n",
    "        print(f\"エラーが発生しました: {str(e)}\")"
   ]
  },
  {
   "cell_type": "markdown",
   "id": "938863d4-9202-46ab-9a9b-8133e11f68ec",
   "metadata": {},
   "source": [
    "## boto3 クライアントの準備"
   ]
  },
  {
   "cell_type": "markdown",
   "id": "331206c7-dd15-4667-831e-127572b3f724",
   "metadata": {},
   "source": [
    "以降の手順でminIO上のファイルを参照するため、boto3のS3クライアントを用意します。  \n",
    "(手順をJupyter内で完結させるためにS3クライアントで操作しますが、適宜minIOの管理GUI`http://localhost:9001/browser`から参照しても構いません)  \n",
    "  \n",
    "＊実際にはS3を使用せず、ローカル上のminIOにアクセスしている点に注意してください。minIOはS3互換のオブジェクトストレージであるため、以下のようにboto3から操作できるのです) \n",
    "  \n",
    "＊コード内にminIOのクレデンシャルをハードコードしていますが、**これを本番環境で真似しないでください。**  \n",
    "これはローカルのハンズオン環境に接続するための簡易的な措置であり、コード内へのクレデンシャルのハードコードは非常にバッドなプラクティスです。本番向けには最低限環境変数に保持するか、適切なシークレットマネージャを使用してください。"
   ]
  },
  {
   "cell_type": "code",
   "execution_count": 42,
   "id": "208e4838-1e24-45e3-847a-fc853c20f5df",
   "metadata": {},
   "outputs": [
    {
     "name": "stdout",
     "output_type": "stream",
     "text": [
      "Buckets:\n",
      "- amzn-s3-demo-bucket\n"
     ]
    }
   ],
   "source": [
    "import boto3\n",
    "import json\n",
    "\n",
    "# Minioサーバーの設定\n",
    "minio_endpoint = 'http://minio:9000'\n",
    "minio_access_key = 'admin'\n",
    "minio_secret_key = 'password'\n",
    "bucket_name = 'amzn-s3-demo-bucket'\n",
    "\n",
    "# S3クライアントを作成\n",
    "s3 = boto3.client('s3',\n",
    "                  endpoint_url=minio_endpoint,\n",
    "                  aws_access_key_id=minio_access_key,\n",
    "                  aws_secret_access_key=minio_secret_key,\n",
    "                  verify=False)\n",
    "\n",
    "# バケットのリストを取得\n",
    "response = s3.list_buckets()\n",
    "print(\"Buckets:\")\n",
    "for bucket in response['Buckets']:\n",
    "    print(f\"- {bucket['Name']}\")"
   ]
  },
  {
   "cell_type": "markdown",
   "id": "6b6af33c-c7b4-4930-a380-b97b02974936",
   "metadata": {},
   "source": [
    "### ネームスペース作成"
   ]
  },
  {
   "cell_type": "markdown",
   "id": "5b2141ce-8149-4d15-a921-e290d98dc203",
   "metadata": {},
   "source": [
    "Icebergは「カタログ」「データベース（名前空間）」「テーブル」という論理コンポーネントを単位としてデータを管理します。<br/>\n",
    "単一のカタログには複数のデータベースが存在し、各データベースには複数のテーブルが存在します。データベースは、名前空間(ネームスペース)と呼ばれることもあります。"
   ]
  },
  {
   "cell_type": "code",
   "execution_count": 43,
   "id": "71048a17-d487-4f4c-8f6d-6db90b97bfa3",
   "metadata": {},
   "outputs": [
    {
     "data": {
      "text/html": [
       "<span style=\"None\">Running query in &#x27;SparkSession&#x27;</span>"
      ],
      "text/plain": [
       "Running query in 'SparkSession'"
      ]
     },
     "metadata": {},
     "output_type": "display_data"
    },
    {
     "data": {
      "text/html": [
       "<div>\n",
       "<style scoped>\n",
       "    .dataframe tbody tr th:only-of-type {\n",
       "        vertical-align: middle;\n",
       "    }\n",
       "\n",
       "    .dataframe tbody tr th {\n",
       "        vertical-align: top;\n",
       "    }\n",
       "\n",
       "    .dataframe thead th {\n",
       "        text-align: right;\n",
       "    }\n",
       "</style>\n",
       "<table border=\"1\" class=\"dataframe\">\n",
       "  <thead>\n",
       "    <tr style=\"text-align: right;\">\n",
       "      <th></th>\n",
       "    </tr>\n",
       "  </thead>\n",
       "  <tbody>\n",
       "  </tbody>\n",
       "</table>\n",
       "</div>"
      ],
      "text/plain": [
       "Empty DataFrame\n",
       "Columns: []\n",
       "Index: []"
      ]
     },
     "execution_count": 43,
     "metadata": {},
     "output_type": "execute_result"
    }
   ],
   "source": [
    "%%sql\n",
    "\n",
    "CREATE NAMESPACE IF NOT EXISTS demo"
   ]
  },
  {
   "cell_type": "markdown",
   "id": "e2af85a8-6bf9-4eb9-9804-b47144db1627",
   "metadata": {},
   "source": [
    "### テーブル作成"
   ]
  },
  {
   "cell_type": "markdown",
   "id": "717414cb-0ca7-4d79-a7ef-276c7fc79120",
   "metadata": {},
   "source": [
    "続いて、先ほど作成したネームスペースに紐づくテーブルを作成してみましょう。`USING iceberg`の部分がポイントで、これによってIcebergテーブルを指定しています。"
   ]
  },
  {
   "cell_type": "code",
   "execution_count": 44,
   "id": "8df2e9ea-1fa7-4abd-a80c-c99350b33c97",
   "metadata": {},
   "outputs": [
    {
     "data": {
      "text/html": [
       "<span style=\"None\">Running query in &#x27;SparkSession&#x27;</span>"
      ],
      "text/plain": [
       "Running query in 'SparkSession'"
      ]
     },
     "metadata": {},
     "output_type": "display_data"
    },
    {
     "data": {
      "text/html": [
       "<div>\n",
       "<style scoped>\n",
       "    .dataframe tbody tr th:only-of-type {\n",
       "        vertical-align: middle;\n",
       "    }\n",
       "\n",
       "    .dataframe tbody tr th {\n",
       "        vertical-align: top;\n",
       "    }\n",
       "\n",
       "    .dataframe thead th {\n",
       "        text-align: right;\n",
       "    }\n",
       "</style>\n",
       "<table border=\"1\" class=\"dataframe\">\n",
       "  <thead>\n",
       "    <tr style=\"text-align: right;\">\n",
       "      <th></th>\n",
       "    </tr>\n",
       "  </thead>\n",
       "  <tbody>\n",
       "  </tbody>\n",
       "</table>\n",
       "</div>"
      ],
      "text/plain": [
       "Empty DataFrame\n",
       "Columns: []\n",
       "Index: []"
      ]
     },
     "execution_count": 44,
     "metadata": {},
     "output_type": "execute_result"
    }
   ],
   "source": [
    "%%sql\n",
    "\n",
    "-- 既にテーブルが存在する場合はDROP\n",
    "-- テーブル作成時にCREATE OR REPLACEする形でもOK\n",
    "DROP TABLE IF EXISTS demo.simple_table PURGE"
   ]
  },
  {
   "cell_type": "code",
   "execution_count": 46,
   "id": "f340612a-9af4-4759-9275-035fbf65955d",
   "metadata": {},
   "outputs": [
    {
     "data": {
      "text/html": [
       "<span style=\"None\">Running query in &#x27;SparkSession&#x27;</span>"
      ],
      "text/plain": [
       "Running query in 'SparkSession'"
      ]
     },
     "metadata": {},
     "output_type": "display_data"
    },
    {
     "data": {
      "text/html": [
       "<div>\n",
       "<style scoped>\n",
       "    .dataframe tbody tr th:only-of-type {\n",
       "        vertical-align: middle;\n",
       "    }\n",
       "\n",
       "    .dataframe tbody tr th {\n",
       "        vertical-align: top;\n",
       "    }\n",
       "\n",
       "    .dataframe thead th {\n",
       "        text-align: right;\n",
       "    }\n",
       "</style>\n",
       "<table border=\"1\" class=\"dataframe\">\n",
       "  <thead>\n",
       "    <tr style=\"text-align: right;\">\n",
       "      <th></th>\n",
       "    </tr>\n",
       "  </thead>\n",
       "  <tbody>\n",
       "  </tbody>\n",
       "</table>\n",
       "</div>"
      ],
      "text/plain": [
       "Empty DataFrame\n",
       "Columns: []\n",
       "Index: []"
      ]
     },
     "execution_count": 46,
     "metadata": {},
     "output_type": "execute_result"
    }
   ],
   "source": [
    "%%sql\n",
    "\n",
    "CREATE TABLE IF NOT EXISTS demo.simple_table (\n",
    "      id BIGINT,\n",
    "      name STRING,\n",
    "      score DOUBLE\n",
    "    )\n",
    "    USING iceberg\n",
    "    LOCATION \"s3://amzn-s3-demo-bucket/demo/simple_table\""
   ]
  },
  {
   "cell_type": "markdown",
   "id": "d9580c9c-2c55-4984-a8d8-65db7126acc8",
   "metadata": {},
   "source": [
    "Icebergテーブルができました。`SHOW TABLES IN`で、ネームスペースのテーブルの一覧が確認できます。"
   ]
  },
  {
   "cell_type": "code",
   "execution_count": 48,
   "id": "303f6608-d58c-4672-bd88-9c636c8b02e2",
   "metadata": {},
   "outputs": [
    {
     "data": {
      "text/html": [
       "<span style=\"None\">Running query in &#x27;SparkSession&#x27;</span>"
      ],
      "text/plain": [
       "Running query in 'SparkSession'"
      ]
     },
     "metadata": {},
     "output_type": "display_data"
    },
    {
     "data": {
      "text/html": [
       "<span style=\"color: green\">1 rows affected.</span>"
      ],
      "text/plain": [
       "1 rows affected."
      ]
     },
     "metadata": {},
     "output_type": "display_data"
    },
    {
     "data": {
      "text/html": [
       "<div>\n",
       "<style scoped>\n",
       "    .dataframe tbody tr th:only-of-type {\n",
       "        vertical-align: middle;\n",
       "    }\n",
       "\n",
       "    .dataframe tbody tr th {\n",
       "        vertical-align: top;\n",
       "    }\n",
       "\n",
       "    .dataframe thead th {\n",
       "        text-align: right;\n",
       "    }\n",
       "</style>\n",
       "<table border=\"1\" class=\"dataframe\">\n",
       "  <thead>\n",
       "    <tr style=\"text-align: right;\">\n",
       "      <th></th>\n",
       "      <th>namespace</th>\n",
       "      <th>tableName</th>\n",
       "      <th>isTemporary</th>\n",
       "    </tr>\n",
       "  </thead>\n",
       "  <tbody>\n",
       "    <tr>\n",
       "      <th>0</th>\n",
       "      <td>demo</td>\n",
       "      <td>simple_table</td>\n",
       "      <td>False</td>\n",
       "    </tr>\n",
       "  </tbody>\n",
       "</table>\n",
       "</div>"
      ],
      "text/plain": [
       "  namespace     tableName  isTemporary\n",
       "0      demo  simple_table        False"
      ]
     },
     "execution_count": 48,
     "metadata": {},
     "output_type": "execute_result"
    }
   ],
   "source": [
    "%%sql\n",
    "\n",
    "SHOW TABLES IN demo"
   ]
  },
  {
   "cell_type": "markdown",
   "id": "bc6592a4-4897-4a2f-9268-05ed9a5b9761",
   "metadata": {},
   "source": [
    "テーブルのスキーマを確認したい時は`DESCRIBE`を使います。"
   ]
  },
  {
   "cell_type": "markdown",
   "id": "5b9318db-c3c4-4539-bf96-b06c6d687a78",
   "metadata": {},
   "source": [
    "Icebergでは、「テーブル識別子（Table Identifier）」を使用してテーブルを一意に識別します。<br/>\n",
    "テーブル識別子（Table Identifier）は、`<カタログ名>.<データベース名>.<テーブル名>` の形式で指定します。<br/>\n",
    "たとえば、カタログ名が`spark_catalog`、データベース名が`demo`、テーブル名が`simple_table`の場合、以下のようになります。<br/>\n",
    "`spark_catalog.demo.simple_table`<br/><br/>\n",
    "このノートブックでは、デフォルトで使用するカタログが指定済なので、カタログ名を省略して、`<データベース名>.<テーブル名>`(`demo.simple_table`)の形式で指定できます。"
   ]
  },
  {
   "cell_type": "code",
   "execution_count": 50,
   "id": "ff9b742c-e53d-475a-a783-c470c96f5b92",
   "metadata": {},
   "outputs": [
    {
     "data": {
      "text/html": [
       "<span style=\"None\">Running query in &#x27;SparkSession&#x27;</span>"
      ],
      "text/plain": [
       "Running query in 'SparkSession'"
      ]
     },
     "metadata": {},
     "output_type": "display_data"
    },
    {
     "data": {
      "text/html": [
       "<span style=\"color: green\">3 rows affected.</span>"
      ],
      "text/plain": [
       "3 rows affected."
      ]
     },
     "metadata": {},
     "output_type": "display_data"
    },
    {
     "data": {
      "text/html": [
       "<div>\n",
       "<style scoped>\n",
       "    .dataframe tbody tr th:only-of-type {\n",
       "        vertical-align: middle;\n",
       "    }\n",
       "\n",
       "    .dataframe tbody tr th {\n",
       "        vertical-align: top;\n",
       "    }\n",
       "\n",
       "    .dataframe thead th {\n",
       "        text-align: right;\n",
       "    }\n",
       "</style>\n",
       "<table border=\"1\" class=\"dataframe\">\n",
       "  <thead>\n",
       "    <tr style=\"text-align: right;\">\n",
       "      <th></th>\n",
       "      <th>col_name</th>\n",
       "      <th>data_type</th>\n",
       "      <th>comment</th>\n",
       "    </tr>\n",
       "  </thead>\n",
       "  <tbody>\n",
       "    <tr>\n",
       "      <th>0</th>\n",
       "      <td>id</td>\n",
       "      <td>bigint</td>\n",
       "      <td>None</td>\n",
       "    </tr>\n",
       "    <tr>\n",
       "      <th>1</th>\n",
       "      <td>name</td>\n",
       "      <td>string</td>\n",
       "      <td>None</td>\n",
       "    </tr>\n",
       "    <tr>\n",
       "      <th>2</th>\n",
       "      <td>score</td>\n",
       "      <td>double</td>\n",
       "      <td>None</td>\n",
       "    </tr>\n",
       "  </tbody>\n",
       "</table>\n",
       "</div>"
      ],
      "text/plain": [
       "  col_name data_type comment\n",
       "0       id    bigint    None\n",
       "1     name    string    None\n",
       "2    score    double    None"
      ]
     },
     "execution_count": 50,
     "metadata": {},
     "output_type": "execute_result"
    }
   ],
   "source": [
    "%%sql\n",
    "\n",
    "DESCRIBE demo.simple_table"
   ]
  },
  {
   "cell_type": "markdown",
   "id": "2953d24d-dd23-4bfc-bf29-07d56ebe3ab7",
   "metadata": {},
   "source": [
    "`EXTENDED`オプションを付与することで、より詳細なスキーマ情報の確認も可能です。"
   ]
  },
  {
   "cell_type": "code",
   "execution_count": 8,
   "id": "33abf7d9-8b28-4829-8783-3fd1b34ce3fd",
   "metadata": {},
   "outputs": [
    {
     "data": {
      "text/html": [
       "<span style=\"None\">Running query in &#x27;SparkSession&#x27;</span>"
      ],
      "text/plain": [
       "Running query in 'SparkSession'"
      ]
     },
     "metadata": {},
     "output_type": "display_data"
    },
    {
     "data": {
      "text/html": [
       "<span style=\"color: green\">18 rows affected.</span>"
      ],
      "text/plain": [
       "18 rows affected."
      ]
     },
     "metadata": {},
     "output_type": "display_data"
    },
    {
     "data": {
      "text/html": [
       "<div>\n",
       "<style scoped>\n",
       "    .dataframe tbody tr th:only-of-type {\n",
       "        vertical-align: middle;\n",
       "    }\n",
       "\n",
       "    .dataframe tbody tr th {\n",
       "        vertical-align: top;\n",
       "    }\n",
       "\n",
       "    .dataframe thead th {\n",
       "        text-align: right;\n",
       "    }\n",
       "</style>\n",
       "<table border=\"1\" class=\"dataframe\">\n",
       "  <thead>\n",
       "    <tr style=\"text-align: right;\">\n",
       "      <th></th>\n",
       "      <th>col_name</th>\n",
       "      <th>data_type</th>\n",
       "      <th>comment</th>\n",
       "    </tr>\n",
       "  </thead>\n",
       "  <tbody>\n",
       "    <tr>\n",
       "      <th>0</th>\n",
       "      <td>id</td>\n",
       "      <td>bigint</td>\n",
       "      <td>None</td>\n",
       "    </tr>\n",
       "    <tr>\n",
       "      <th>1</th>\n",
       "      <td>name</td>\n",
       "      <td>string</td>\n",
       "      <td>None</td>\n",
       "    </tr>\n",
       "    <tr>\n",
       "      <th>2</th>\n",
       "      <td>score</td>\n",
       "      <td>double</td>\n",
       "      <td>None</td>\n",
       "    </tr>\n",
       "    <tr>\n",
       "      <th>3</th>\n",
       "      <td></td>\n",
       "      <td></td>\n",
       "      <td></td>\n",
       "    </tr>\n",
       "    <tr>\n",
       "      <th>4</th>\n",
       "      <td># Metadata Columns</td>\n",
       "      <td></td>\n",
       "      <td></td>\n",
       "    </tr>\n",
       "    <tr>\n",
       "      <th>5</th>\n",
       "      <td>_spec_id</td>\n",
       "      <td>int</td>\n",
       "      <td></td>\n",
       "    </tr>\n",
       "    <tr>\n",
       "      <th>6</th>\n",
       "      <td>_partition</td>\n",
       "      <td>struct&lt;&gt;</td>\n",
       "      <td></td>\n",
       "    </tr>\n",
       "    <tr>\n",
       "      <th>7</th>\n",
       "      <td>_file</td>\n",
       "      <td>string</td>\n",
       "      <td></td>\n",
       "    </tr>\n",
       "    <tr>\n",
       "      <th>8</th>\n",
       "      <td>_pos</td>\n",
       "      <td>bigint</td>\n",
       "      <td></td>\n",
       "    </tr>\n",
       "    <tr>\n",
       "      <th>9</th>\n",
       "      <td>_deleted</td>\n",
       "      <td>boolean</td>\n",
       "      <td></td>\n",
       "    </tr>\n",
       "    <tr>\n",
       "      <th>10</th>\n",
       "      <td></td>\n",
       "      <td></td>\n",
       "      <td></td>\n",
       "    </tr>\n",
       "    <tr>\n",
       "      <th>11</th>\n",
       "      <td># Detailed Table Information</td>\n",
       "      <td></td>\n",
       "      <td></td>\n",
       "    </tr>\n",
       "    <tr>\n",
       "      <th>12</th>\n",
       "      <td>Name</td>\n",
       "      <td>spark_catalog.demo.simple_table</td>\n",
       "      <td></td>\n",
       "    </tr>\n",
       "    <tr>\n",
       "      <th>13</th>\n",
       "      <td>Type</td>\n",
       "      <td>MANAGED</td>\n",
       "      <td></td>\n",
       "    </tr>\n",
       "    <tr>\n",
       "      <th>14</th>\n",
       "      <td>Location</td>\n",
       "      <td>s3://amzn-s3-demo-bucket/demo/simple_table</td>\n",
       "      <td></td>\n",
       "    </tr>\n",
       "    <tr>\n",
       "      <th>15</th>\n",
       "      <td>Provider</td>\n",
       "      <td>iceberg</td>\n",
       "      <td></td>\n",
       "    </tr>\n",
       "    <tr>\n",
       "      <th>16</th>\n",
       "      <td>Owner</td>\n",
       "      <td>jovyan</td>\n",
       "      <td></td>\n",
       "    </tr>\n",
       "    <tr>\n",
       "      <th>17</th>\n",
       "      <td>Table Properties</td>\n",
       "      <td>[current-snapshot-id=none,format=iceberg/parqu...</td>\n",
       "      <td></td>\n",
       "    </tr>\n",
       "  </tbody>\n",
       "</table>\n",
       "</div>"
      ],
      "text/plain": [
       "                        col_name  \\\n",
       "0                             id   \n",
       "1                           name   \n",
       "2                          score   \n",
       "3                                  \n",
       "4             # Metadata Columns   \n",
       "5                       _spec_id   \n",
       "6                     _partition   \n",
       "7                          _file   \n",
       "8                           _pos   \n",
       "9                       _deleted   \n",
       "10                                 \n",
       "11  # Detailed Table Information   \n",
       "12                          Name   \n",
       "13                          Type   \n",
       "14                      Location   \n",
       "15                      Provider   \n",
       "16                         Owner   \n",
       "17              Table Properties   \n",
       "\n",
       "                                            data_type comment  \n",
       "0                                              bigint    None  \n",
       "1                                              string    None  \n",
       "2                                              double    None  \n",
       "3                                                              \n",
       "4                                                              \n",
       "5                                                 int          \n",
       "6                                            struct<>          \n",
       "7                                              string          \n",
       "8                                              bigint          \n",
       "9                                             boolean          \n",
       "10                                                             \n",
       "11                                                             \n",
       "12                    spark_catalog.demo.simple_table          \n",
       "13                                            MANAGED          \n",
       "14         s3://amzn-s3-demo-bucket/demo/simple_table          \n",
       "15                                            iceberg          \n",
       "16                                             jovyan          \n",
       "17  [current-snapshot-id=none,format=iceberg/parqu...          "
      ]
     },
     "execution_count": 8,
     "metadata": {},
     "output_type": "execute_result"
    }
   ],
   "source": [
    "%%sql\n",
    "\n",
    "DESCRIBE EXTENDED demo.simple_table"
   ]
  },
  {
   "cell_type": "markdown",
   "id": "9dd77211-f3af-4632-a530-6069b72a98b7",
   "metadata": {},
   "source": [
    "Icebergテーブルは、Icebergカタログが指し示すメタデータのロケーション情報を除く、ほぼ全てのメタデータ、実データをストレージに保持します。</br>\n",
    "一般のユーザーがIcebergを利用する上で、ストレージ上のファイルを意識する必要は全くありませんが、中身の挙動を把握しておくことで、仕組みの理解が深まるほか、トラブルシュートにも役立ちます。"
   ]
  },
  {
   "cell_type": "markdown",
   "id": "3aadd870-045c-4afb-8b17-a741e946d801",
   "metadata": {},
   "source": [
    "`CREATE TABLE`を通じて、Sどのようなデータが作られたかを確認してみましょう。</br>\n",
    "テーブルのデータを配置先として指定したMinIOのパス（`s3://amzn-s3-demo-bucket/demo/simple_table`）を確認すると、`***.metadata.json`というJSONファイルが作られていることがわかります。これがメタデータファイルです。</br>\n",
    "このJSONには、Icebergテーブルのある時点の状態に関するメタデータが保管されています。"
   ]
  },
  {
   "cell_type": "code",
   "execution_count": 51,
   "id": "033e613b-82d1-4081-b5a5-208cb945f65c",
   "metadata": {},
   "outputs": [
    {
     "name": "stdout",
     "output_type": "stream",
     "text": [
      "Key:          demo/simple_table/metadata/00000-14072a13-f42c-497c-9f16-154bb732b0fe.metadata.json\n",
      "LastModified: 2025-08-15 22:10:58\n",
      "Size:         1158 bytes\n",
      "----------------------------------------\n"
     ]
    }
   ],
   "source": [
    "prefix = 'demo/simple_table/metadata/'\n",
    "list_objects(bucket_name, prefix)"
   ]
  },
  {
   "cell_type": "markdown",
   "id": "65b89481-6d0d-42ec-b901-5ff8b01ebef7",
   "metadata": {},
   "source": [
    "メタデータファイルの中身を確認します。"
   ]
  },
  {
   "cell_type": "code",
   "execution_count": 10,
   "id": "239c2245-095e-4ebe-a699-b274d0cd4340",
   "metadata": {},
   "outputs": [
    {
     "name": "stdout",
     "output_type": "stream",
     "text": [
      "最新のメタデータファイル: demo/simple_table/metadata/00000-d982f5e7-77d3-435f-b76a-0f0debcd60e8.metadata.json\n",
      "{\n",
      "  \"format-version\": 2,\n",
      "  \"table-uuid\": \"f5da540a-4f4b-48af-aa7e-31b1a10e8022\",\n",
      "  \"location\": \"s3://amzn-s3-demo-bucket/demo/simple_table\",\n",
      "  \"last-sequence-number\": 0,\n",
      "  \"last-updated-ms\": 1755256698623,\n",
      "  \"last-column-id\": 3,\n",
      "  \"current-schema-id\": 0,\n",
      "  \"schemas\": [\n",
      "    {\n",
      "      \"type\": \"struct\",\n",
      "      \"schema-id\": 0,\n",
      "      \"fields\": [\n",
      "        {\n",
      "          \"id\": 1,\n",
      "          \"name\": \"id\",\n",
      "          \"required\": false,\n",
      "          \"type\": \"long\"\n",
      "        },\n",
      "        {\n",
      "          \"id\": 2,\n",
      "          \"name\": \"name\",\n",
      "          \"required\": false,\n",
      "          \"type\": \"string\"\n",
      "        },\n",
      "        {\n",
      "          \"id\": 3,\n",
      "          \"name\": \"score\",\n",
      "          \"required\": false,\n",
      "          \"type\": \"double\"\n",
      "        }\n",
      "      ]\n",
      "    }\n",
      "  ],\n",
      "  \"default-spec-id\": 0,\n",
      "  \"partition-specs\": [\n",
      "    {\n",
      "      \"spec-id\": 0,\n",
      "      \"fields\": []\n",
      "    }\n",
      "  ],\n",
      "  \"last-partition-id\": 999,\n",
      "  \"default-sort-order-id\": 0,\n",
      "  \"sort-orders\": [\n",
      "    {\n",
      "      \"order-id\": 0,\n",
      "      \"fields\": []\n",
      "    }\n",
      "  ],\n",
      "  \"properties\": {\n",
      "    \"owner\": \"jovyan\",\n",
      "    \"write.parquet.compression-codec\": \"zstd\",\n",
      "    \"table_type\": \"ICEBERG\"\n",
      "  },\n",
      "  \"current-snapshot-id\": -1,\n",
      "  \"refs\": {},\n",
      "  \"snapshots\": [],\n",
      "  \"statistics\": [],\n",
      "  \"partition-statistics\": [],\n",
      "  \"snapshot-log\": [],\n",
      "  \"metadata-log\": []\n",
      "}\n"
     ]
    }
   ],
   "source": [
    "prefix = 'demo/simple_table/metadata/'\n",
    "response = s3.list_objects_v2(Bucket=bucket_name, Prefix=prefix)\n",
    "\n",
    "if 'Contents' in response:\n",
    "    metadata_files = [\n",
    "        obj for obj in response['Contents'] \n",
    "        if obj['Key'].endswith('.metadata.json')\n",
    "    ]\n",
    "    \n",
    "    if len(metadata_files) == 0:\n",
    "        print(\"メタデータファイル(.metadata.json)が見つかりませんでした。\")\n",
    "    else:\n",
    "        # LastModified が最新のファイルを選択\n",
    "        metadata_files.sort(key=lambda x: x['LastModified'], reverse=True)\n",
    "        latest_metadata_key = metadata_files[0]['Key']\n",
    "\n",
    "        print(f\"最新のメタデータファイル: {latest_metadata_key}\")\n",
    "\n",
    "        resp = s3.get_object(Bucket=bucket_name, Key=latest_metadata_key)\n",
    "        content = resp['Body'].read().decode('utf-8')\n",
    "        data = json.loads(content)\n",
    "\n",
    "        print(json.dumps(data, indent=2))\n",
    "else:\n",
    "    print(\"指定したパスにオブジェクトが存在しませんでした。\")"
   ]
  },
  {
   "cell_type": "markdown",
   "id": "521bae75-dfc8-4b9f-81a2-ea27f2522026",
   "metadata": {},
   "source": [
    "## INSERT"
   ]
  },
  {
   "cell_type": "markdown",
   "id": "1824bd97-2c5c-4260-9fdc-ec89209b393a",
   "metadata": {},
   "source": [
    "先ほど作成したテーブルにレコードを挿入してみましょう。"
   ]
  },
  {
   "cell_type": "code",
   "execution_count": 11,
   "id": "087be866-05ce-4401-85ef-91a1da828de1",
   "metadata": {},
   "outputs": [
    {
     "data": {
      "text/html": [
       "<span style=\"None\">Running query in &#x27;SparkSession&#x27;</span>"
      ],
      "text/plain": [
       "Running query in 'SparkSession'"
      ]
     },
     "metadata": {},
     "output_type": "display_data"
    },
    {
     "data": {
      "text/html": [
       "<div>\n",
       "<style scoped>\n",
       "    .dataframe tbody tr th:only-of-type {\n",
       "        vertical-align: middle;\n",
       "    }\n",
       "\n",
       "    .dataframe tbody tr th {\n",
       "        vertical-align: top;\n",
       "    }\n",
       "\n",
       "    .dataframe thead th {\n",
       "        text-align: right;\n",
       "    }\n",
       "</style>\n",
       "<table border=\"1\" class=\"dataframe\">\n",
       "  <thead>\n",
       "    <tr style=\"text-align: right;\">\n",
       "      <th></th>\n",
       "    </tr>\n",
       "  </thead>\n",
       "  <tbody>\n",
       "  </tbody>\n",
       "</table>\n",
       "</div>"
      ],
      "text/plain": [
       "Empty DataFrame\n",
       "Columns: []\n",
       "Index: []"
      ]
     },
     "execution_count": 11,
     "metadata": {},
     "output_type": "execute_result"
    }
   ],
   "source": [
    "%%sql\n",
    "    \n",
    "INSERT INTO demo.simple_table VALUES\n",
    "    (1, 'Alice', 85.5),\n",
    "    (2, 'Bob', 90.0),\n",
    "    (3, 'Charlie', 78.0);"
   ]
  },
  {
   "cell_type": "markdown",
   "id": "483f2a0a-c472-43b8-a367-582185f10d20",
   "metadata": {},
   "source": [
    "データの挿入が完了すると、Iceberg は新しいスナップショットを作成し、メタデータリスト、マニフェストファイル、データファイルを作成します。その上で、メタデータファイルを更新し、カタログにその情報を登録します。  \n",
    "まずは、以下の SQL コマンドで挿入したデータが正しくテーブルに反映されていることを確認してください。"
   ]
  },
  {
   "cell_type": "code",
   "execution_count": 12,
   "id": "3e9a6089-63c5-4abc-9602-6cced2e5931a",
   "metadata": {},
   "outputs": [
    {
     "data": {
      "text/html": [
       "<span style=\"None\">Running query in &#x27;SparkSession&#x27;</span>"
      ],
      "text/plain": [
       "Running query in 'SparkSession'"
      ]
     },
     "metadata": {},
     "output_type": "display_data"
    },
    {
     "data": {
      "text/html": [
       "<span style=\"color: green\">3 rows affected.</span>"
      ],
      "text/plain": [
       "3 rows affected."
      ]
     },
     "metadata": {},
     "output_type": "display_data"
    },
    {
     "data": {
      "text/html": [
       "<div>\n",
       "<style scoped>\n",
       "    .dataframe tbody tr th:only-of-type {\n",
       "        vertical-align: middle;\n",
       "    }\n",
       "\n",
       "    .dataframe tbody tr th {\n",
       "        vertical-align: top;\n",
       "    }\n",
       "\n",
       "    .dataframe thead th {\n",
       "        text-align: right;\n",
       "    }\n",
       "</style>\n",
       "<table border=\"1\" class=\"dataframe\">\n",
       "  <thead>\n",
       "    <tr style=\"text-align: right;\">\n",
       "      <th></th>\n",
       "      <th>id</th>\n",
       "      <th>name</th>\n",
       "      <th>score</th>\n",
       "    </tr>\n",
       "  </thead>\n",
       "  <tbody>\n",
       "    <tr>\n",
       "      <th>0</th>\n",
       "      <td>1</td>\n",
       "      <td>Alice</td>\n",
       "      <td>85.5</td>\n",
       "    </tr>\n",
       "    <tr>\n",
       "      <th>1</th>\n",
       "      <td>2</td>\n",
       "      <td>Bob</td>\n",
       "      <td>90.0</td>\n",
       "    </tr>\n",
       "    <tr>\n",
       "      <th>2</th>\n",
       "      <td>3</td>\n",
       "      <td>Charlie</td>\n",
       "      <td>78.0</td>\n",
       "    </tr>\n",
       "  </tbody>\n",
       "</table>\n",
       "</div>"
      ],
      "text/plain": [
       "   id     name  score\n",
       "0   1    Alice   85.5\n",
       "1   2      Bob   90.0\n",
       "2   3  Charlie   78.0"
      ]
     },
     "execution_count": 12,
     "metadata": {},
     "output_type": "execute_result"
    }
   ],
   "source": [
    "%%sql\n",
    "\n",
    "SELECT * FROM demo.simple_table;"
   ]
  },
  {
   "cell_type": "markdown",
   "id": "17d994e9-7e5f-40b3-ac82-a5ba873eba64",
   "metadata": {},
   "source": [
    "次に、ストレージ上のファイルを観察してみましょう。`metadata`ディレクトリに新しいメタデータファイル、メタデータリスト、マニフェストファイルが作成されていることが分かります。それぞれを順に見ていきます。"
   ]
  },
  {
   "cell_type": "code",
   "execution_count": 13,
   "id": "2ba56891-3111-452e-8672-0e982fa9bddd",
   "metadata": {},
   "outputs": [
    {
     "name": "stdout",
     "output_type": "stream",
     "text": [
      "Key:          demo/simple_table/metadata/00000-d982f5e7-77d3-435f-b76a-0f0debcd60e8.metadata.json\n",
      "LastModified: 2025-08-15 11:18:18\n",
      "Size:         1158 bytes\n",
      "----------------------------------------\n",
      "Key:          demo/simple_table/metadata/00001-1786454a-6079-464d-82dd-236aa67f522b.metadata.json\n",
      "LastModified: 2025-08-15 11:18:21\n",
      "Size:         2444 bytes\n",
      "----------------------------------------\n",
      "Key:          demo/simple_table/metadata/5e8fd1a6-c4c2-4f4a-aaee-aa100f1efe5c-m0.avro\n",
      "LastModified: 2025-08-15 11:18:21\n",
      "Size:         6822 bytes\n",
      "----------------------------------------\n",
      "Key:          demo/simple_table/metadata/snap-4214241916683902793-1-5e8fd1a6-c4c2-4f4a-aaee-aa100f1efe5c.avro\n",
      "LastModified: 2025-08-15 11:18:21\n",
      "Size:         4452 bytes\n",
      "----------------------------------------\n"
     ]
    }
   ],
   "source": [
    "prefix = 'demo/simple_table/metadata/'\n",
    "list_objects(bucket_name, prefix)"
   ]
  },
  {
   "cell_type": "markdown",
   "id": "745b322e-8e35-4165-8344-f3ff1ecc6aa6",
   "metadata": {},
   "source": [
    "まずは最新のメタデータファイルを確認します。先ほどテーブルを作成した際に確認したメタデータファイルに比べて、INSERT時に作成されたsnapshotの情報が追加されていることが分かります。"
   ]
  },
  {
   "cell_type": "code",
   "execution_count": 14,
   "id": "48aaed31-78df-49c8-a566-b7321db4dc2b",
   "metadata": {},
   "outputs": [
    {
     "name": "stdout",
     "output_type": "stream",
     "text": [
      "最新のメタデータファイル: demo/simple_table/metadata/00001-1786454a-6079-464d-82dd-236aa67f522b.metadata.json\n",
      "{\n",
      "  \"format-version\": 2,\n",
      "  \"table-uuid\": \"f5da540a-4f4b-48af-aa7e-31b1a10e8022\",\n",
      "  \"location\": \"s3://amzn-s3-demo-bucket/demo/simple_table\",\n",
      "  \"last-sequence-number\": 1,\n",
      "  \"last-updated-ms\": 1755256701319,\n",
      "  \"last-column-id\": 3,\n",
      "  \"current-schema-id\": 0,\n",
      "  \"schemas\": [\n",
      "    {\n",
      "      \"type\": \"struct\",\n",
      "      \"schema-id\": 0,\n",
      "      \"fields\": [\n",
      "        {\n",
      "          \"id\": 1,\n",
      "          \"name\": \"id\",\n",
      "          \"required\": false,\n",
      "          \"type\": \"long\"\n",
      "        },\n",
      "        {\n",
      "          \"id\": 2,\n",
      "          \"name\": \"name\",\n",
      "          \"required\": false,\n",
      "          \"type\": \"string\"\n",
      "        },\n",
      "        {\n",
      "          \"id\": 3,\n",
      "          \"name\": \"score\",\n",
      "          \"required\": false,\n",
      "          \"type\": \"double\"\n",
      "        }\n",
      "      ]\n",
      "    }\n",
      "  ],\n",
      "  \"default-spec-id\": 0,\n",
      "  \"partition-specs\": [\n",
      "    {\n",
      "      \"spec-id\": 0,\n",
      "      \"fields\": []\n",
      "    }\n",
      "  ],\n",
      "  \"last-partition-id\": 999,\n",
      "  \"default-sort-order-id\": 0,\n",
      "  \"sort-orders\": [\n",
      "    {\n",
      "      \"order-id\": 0,\n",
      "      \"fields\": []\n",
      "    }\n",
      "  ],\n",
      "  \"properties\": {\n",
      "    \"owner\": \"jovyan\",\n",
      "    \"write.parquet.compression-codec\": \"zstd\",\n",
      "    \"table_type\": \"ICEBERG\"\n",
      "  },\n",
      "  \"current-snapshot-id\": 4214241916683902793,\n",
      "  \"refs\": {\n",
      "    \"main\": {\n",
      "      \"snapshot-id\": 4214241916683902793,\n",
      "      \"type\": \"branch\"\n",
      "    }\n",
      "  },\n",
      "  \"snapshots\": [\n",
      "    {\n",
      "      \"sequence-number\": 1,\n",
      "      \"snapshot-id\": 4214241916683902793,\n",
      "      \"timestamp-ms\": 1755256701319,\n",
      "      \"summary\": {\n",
      "        \"operation\": \"append\",\n",
      "        \"spark.app.id\": \"local-1755256674534\",\n",
      "        \"added-data-files\": \"3\",\n",
      "        \"added-records\": \"3\",\n",
      "        \"added-files-size\": \"2710\",\n",
      "        \"changed-partition-count\": \"1\",\n",
      "        \"total-records\": \"3\",\n",
      "        \"total-files-size\": \"2710\",\n",
      "        \"total-data-files\": \"3\",\n",
      "        \"total-delete-files\": \"0\",\n",
      "        \"total-position-deletes\": \"0\",\n",
      "        \"total-equality-deletes\": \"0\",\n",
      "        \"engine-version\": \"3.5.3\",\n",
      "        \"app-id\": \"local-1755256674534\",\n",
      "        \"engine-name\": \"spark\",\n",
      "        \"iceberg-version\": \"Apache Iceberg 1.7.1 (commit 4a432839233f2343a9eae8255532f911f06358ef)\"\n",
      "      },\n",
      "      \"manifest-list\": \"s3://amzn-s3-demo-bucket/demo/simple_table/metadata/snap-4214241916683902793-1-5e8fd1a6-c4c2-4f4a-aaee-aa100f1efe5c.avro\",\n",
      "      \"schema-id\": 0\n",
      "    }\n",
      "  ],\n",
      "  \"statistics\": [],\n",
      "  \"partition-statistics\": [],\n",
      "  \"snapshot-log\": [\n",
      "    {\n",
      "      \"timestamp-ms\": 1755256701319,\n",
      "      \"snapshot-id\": 4214241916683902793\n",
      "    }\n",
      "  ],\n",
      "  \"metadata-log\": [\n",
      "    {\n",
      "      \"timestamp-ms\": 1755256698623,\n",
      "      \"metadata-file\": \"s3://amzn-s3-demo-bucket/demo/simple_table/metadata/00000-d982f5e7-77d3-435f-b76a-0f0debcd60e8.metadata.json\"\n",
      "    }\n",
      "  ]\n",
      "}\n"
     ]
    }
   ],
   "source": [
    "prefix = 'demo/simple_table/metadata/'\n",
    "response = s3.list_objects_v2(Bucket=bucket_name, Prefix=prefix)\n",
    "\n",
    "if 'Contents' in response:\n",
    "    metadata_files = [\n",
    "        obj for obj in response['Contents'] \n",
    "        if obj['Key'].endswith('.metadata.json')\n",
    "    ]\n",
    "    \n",
    "    if len(metadata_files) == 0:\n",
    "        print(\"メタデータファイル(.metadata.json)が見つかりませんでした。\")\n",
    "    else:\n",
    "        # LastModified が最新のファイルを選択\n",
    "        metadata_files.sort(key=lambda x: x['LastModified'], reverse=True)\n",
    "        latest_metadata_key = metadata_files[0]['Key']\n",
    "\n",
    "        print(f\"最新のメタデータファイル: {latest_metadata_key}\")\n",
    "\n",
    "        resp = s3.get_object(Bucket=bucket_name, Key=latest_metadata_key)\n",
    "        content = resp['Body'].read().decode('utf-8')\n",
    "        data = json.loads(content)\n",
    "\n",
    "        print(json.dumps(data, indent=2))\n",
    "else:\n",
    "    print(\"指定したパスにオブジェクトが存在しませんでした。\")"
   ]
  },
  {
   "cell_type": "markdown",
   "id": "d1749ce2-3a66-47c2-bf83-454286e91dcf",
   "metadata": {},
   "source": [
    "それでは、スナップショットリストを確認します。"
   ]
  },
  {
   "cell_type": "code",
   "execution_count": 15,
   "id": "e3ee4d01-51cc-4c8b-9318-05e52f4edcba",
   "metadata": {},
   "outputs": [
    {
     "name": "stdout",
     "output_type": "stream",
     "text": [
      "最新の Snapshot AVRO ファイル: demo/simple_table/metadata/snap-4214241916683902793-1-5e8fd1a6-c4c2-4f4a-aaee-aa100f1efe5c.avro\n",
      "AVRO ファイルのレコード:\n",
      "{'added_files_count': 3,\n",
      " 'added_rows_count': 3,\n",
      " 'added_snapshot_id': 4214241916683902793,\n",
      " 'content': 0,\n",
      " 'deleted_files_count': 0,\n",
      " 'deleted_rows_count': 0,\n",
      " 'existing_files_count': 0,\n",
      " 'existing_rows_count': 0,\n",
      " 'key_metadata': None,\n",
      " 'manifest_length': 6822,\n",
      " 'manifest_path': 's3://amzn-s3-demo-bucket/demo/simple_table/metadata/5e8fd1a6-c4c2-4f4a-aaee-aa100f1efe5c-m0.avro',\n",
      " 'min_sequence_number': 1,\n",
      " 'partition_spec_id': 0,\n",
      " 'partitions': [],\n",
      " 'sequence_number': 1}\n",
      "\n"
     ]
    }
   ],
   "source": [
    "prefix = 'demo/simple_table/metadata/'\n",
    "response = s3.list_objects_v2(Bucket=bucket_name, Prefix=prefix)\n",
    "\n",
    "if 'Contents' in response:\n",
    "    snap_avro_files = [\n",
    "        obj for obj in response['Contents']\n",
    "        if obj['Key'].startswith('demo/simple_table/metadata/snap-') and obj['Key'].endswith('.avro')\n",
    "    ]\n",
    "    if snap_avro_files:\n",
    "        snap_avro_files.sort(key=lambda x: x['LastModified'], reverse=True)\n",
    "        latest_snap_key = snap_avro_files[0]['Key']\n",
    "        print(f\"最新の Snapshot AVRO ファイル: {latest_snap_key}\")\n",
    "\n",
    "        resp = s3.get_object(Bucket=bucket_name, Key=latest_snap_key)\n",
    "        content = resp['Body'].read()\n",
    "\n",
    "        bytes_stream = io.BytesIO(content)\n",
    "        reader = DataFileReader(bytes_stream, DatumReader())\n",
    "\n",
    "        print(\"AVRO ファイルのレコード:\")\n",
    "        with DataFileReader(bytes_stream, DatumReader()) as reader:\n",
    "            for record in reader:\n",
    "                pprint(record)\n",
    "                print()\n",
    "    else:\n",
    "        print(\"snap-***.avro ファイルが見つかりませんでした。\")\n",
    "else:\n",
    "    print(\"オブジェクトが見つかりませんでした。\")"
   ]
  },
  {
   "cell_type": "markdown",
   "id": "9599fdee-29f7-4bff-8510-addd922b2409",
   "metadata": {},
   "source": [
    "続いて、マニフェストファイルを確認します。マニフェストファイルには、データファイルのパスや統計情報が含まれています。"
   ]
  },
  {
   "cell_type": "code",
   "execution_count": 16,
   "id": "472a5fa7-957c-46c7-a22e-7c08bca1374d",
   "metadata": {},
   "outputs": [
    {
     "name": "stdout",
     "output_type": "stream",
     "text": [
      "最新のマニフェストファイル: demo/simple_table/metadata/5e8fd1a6-c4c2-4f4a-aaee-aa100f1efe5c-m0.avro\n",
      "\n",
      "マニフェストファイルのレコード:\n",
      "{'data_file': {'column_sizes': [{'key': 1, 'value': 40},\n",
      "                                {'key': 2, 'value': 41},\n",
      "                                {'key': 3, 'value': 39}],\n",
      "               'content': 0,\n",
      "               'equality_ids': None,\n",
      "               'file_format': 'PARQUET',\n",
      "               'file_path': 's3://amzn-s3-demo-bucket/demo/simple_table/data/00000-216-66bbb96a-60ad-4743-b836-69f7ce1d06db-0-00001.parquet',\n",
      "               'file_size_in_bytes': 903,\n",
      "               'key_metadata': None,\n",
      "               'lower_bounds': [{'key': 1, 'value': 1},\n",
      "                                {'key': 2, 'value': 'Alice'},\n",
      "                                {'key': 3, 'value': 85.5}],\n",
      "               'nan_value_counts': [{'key': 3, 'value': 0}],\n",
      "               'null_value_counts': [{'key': 1, 'value': 0},\n",
      "                                     {'key': 2, 'value': 0},\n",
      "                                     {'key': 3, 'value': 0}],\n",
      "               'partition': {},\n",
      "               'record_count': 1,\n",
      "               'sort_order_id': 0,\n",
      "               'split_offsets': [4],\n",
      "               'upper_bounds': [{'key': 1, 'value': 1},\n",
      "                                {'key': 2, 'value': 'Alice'},\n",
      "                                {'key': 3, 'value': 85.5}],\n",
      "               'value_counts': [{'key': 1, 'value': 1},\n",
      "                                {'key': 2, 'value': 1},\n",
      "                                {'key': 3, 'value': 1}]},\n",
      " 'file_sequence_number': None,\n",
      " 'sequence_number': None,\n",
      " 'snapshot_id': 4214241916683902793,\n",
      " 'status': 1}\n",
      "\n",
      "{'data_file': {'column_sizes': [{'key': 1, 'value': 40},\n",
      "                                {'key': 2, 'value': 39},\n",
      "                                {'key': 3, 'value': 40}],\n",
      "               'content': 0,\n",
      "               'equality_ids': None,\n",
      "               'file_format': 'PARQUET',\n",
      "               'file_path': 's3://amzn-s3-demo-bucket/demo/simple_table/data/00001-217-66bbb96a-60ad-4743-b836-69f7ce1d06db-0-00001.parquet',\n",
      "               'file_size_in_bytes': 890,\n",
      "               'key_metadata': None,\n",
      "               'lower_bounds': [{'key': 1, 'value': 2},\n",
      "                                {'key': 2, 'value': 'Bob'},\n",
      "                                {'key': 3, 'value': 90.0}],\n",
      "               'nan_value_counts': [{'key': 3, 'value': 0}],\n",
      "               'null_value_counts': [{'key': 1, 'value': 0},\n",
      "                                     {'key': 2, 'value': 0},\n",
      "                                     {'key': 3, 'value': 0}],\n",
      "               'partition': {},\n",
      "               'record_count': 1,\n",
      "               'sort_order_id': 0,\n",
      "               'split_offsets': [4],\n",
      "               'upper_bounds': [{'key': 1, 'value': 2},\n",
      "                                {'key': 2, 'value': 'Bob'},\n",
      "                                {'key': 3, 'value': 90.0}],\n",
      "               'value_counts': [{'key': 1, 'value': 1},\n",
      "                                {'key': 2, 'value': 1},\n",
      "                                {'key': 3, 'value': 1}]},\n",
      " 'file_sequence_number': None,\n",
      " 'sequence_number': None,\n",
      " 'snapshot_id': 4214241916683902793,\n",
      " 'status': 1}\n",
      "\n",
      "{'data_file': {'column_sizes': [{'key': 1, 'value': 40},\n",
      "                                {'key': 2, 'value': 43},\n",
      "                                {'key': 3, 'value': 39}],\n",
      "               'content': 0,\n",
      "               'equality_ids': None,\n",
      "               'file_format': 'PARQUET',\n",
      "               'file_path': 's3://amzn-s3-demo-bucket/demo/simple_table/data/00002-218-66bbb96a-60ad-4743-b836-69f7ce1d06db-0-00001.parquet',\n",
      "               'file_size_in_bytes': 917,\n",
      "               'key_metadata': None,\n",
      "               'lower_bounds': [{'key': 1, 'value': 3},\n",
      "                                {'key': 2, 'value': 'Charlie'},\n",
      "                                {'key': 3, 'value': 78.0}],\n",
      "               'nan_value_counts': [{'key': 3, 'value': 0}],\n",
      "               'null_value_counts': [{'key': 1, 'value': 0},\n",
      "                                     {'key': 2, 'value': 0},\n",
      "                                     {'key': 3, 'value': 0}],\n",
      "               'partition': {},\n",
      "               'record_count': 1,\n",
      "               'sort_order_id': 0,\n",
      "               'split_offsets': [4],\n",
      "               'upper_bounds': [{'key': 1, 'value': 3},\n",
      "                                {'key': 2, 'value': 'Charlie'},\n",
      "                                {'key': 3, 'value': 78.0}],\n",
      "               'value_counts': [{'key': 1, 'value': 1},\n",
      "                                {'key': 2, 'value': 1},\n",
      "                                {'key': 3, 'value': 1}]},\n",
      " 'file_sequence_number': None,\n",
      " 'sequence_number': None,\n",
      " 'snapshot_id': 4214241916683902793,\n",
      " 'status': 1}\n",
      "\n"
     ]
    },
    {
     "name": "stderr",
     "output_type": "stream",
     "text": [
      "/home/jovyan/.local/lib/python3.11/site-packages/avro/schema.py:1233: IgnoredLogicalType: Unknown map, using array.\n",
      "  warnings.warn(avro.errors.IgnoredLogicalType(f\"Unknown {logical_type}, using {type_}.\"))\n"
     ]
    }
   ],
   "source": [
    "prefix = 'demo/simple_table/metadata/'\n",
    "response = s3.list_objects_v2(Bucket=bucket_name, Prefix=prefix)\n",
    "\n",
    "def interpret_iceberg_bound_bytes(bound_value: bytes, column_id: int):\n",
    "    \"\"\"\n",
    "    Icebergテーブルのマニフェストファイル内のバイナリを解釈する\n",
    "    (coulumn_id ごとの型が事前に把握できている状況を想定したシンプルな実装)\n",
    "      - col1 (id=1): BIGINT → 64bit 整数 (リトルエンディアン)\n",
    "      - col2 (id=2): STRING → UTF-8 デコードを試行\n",
    "      - col3 (id=3): DOUBLE → 64bit 浮動小数 (リトルエンディアン)\n",
    "    \"\"\"\n",
    "    if column_id == 1:\n",
    "        return struct.unpack('<q', bound_value)[0]\n",
    "    elif column_id == 2:\n",
    "        try:\n",
    "            return bound_value.decode('utf-8')\n",
    "        except UnicodeDecodeError:\n",
    "            return bound_value.hex()\n",
    "    elif column_id == 3:\n",
    "        return struct.unpack('<d', bound_value)[0]\n",
    "    else:\n",
    "        return bound_value.hex()\n",
    "\n",
    "def decode_bounds(bound_list: list):\n",
    "    \"\"\"\n",
    "    lower_bounds / upper_bounds のような\n",
    "    [{'key': <column_id>, 'value': <bytes>}, ...] という構造を\n",
    "    interpret_iceberg_bound_bytes() でデコードする。\n",
    "    \"\"\"\n",
    "    for item in bound_list:\n",
    "        if isinstance(item['value'], bytes):\n",
    "            col_id = item['key']\n",
    "            item['value'] = interpret_iceberg_bound_bytes(item['value'], col_id)\n",
    "\n",
    "\n",
    "if 'Contents' in response:\n",
    "    # snap- を含まない .avro → マニフェストファイルを抽出\n",
    "    manifest_avro_files = [\n",
    "        obj for obj in response['Contents']\n",
    "        if obj['Key'].endswith('.avro') and 'snap-' not in obj['Key']\n",
    "    ]\n",
    "    if manifest_avro_files:\n",
    "        manifest_avro_files.sort(key=lambda x: x['LastModified'], reverse=True)\n",
    "        latest_manifest_key = manifest_avro_files[0]['Key']\n",
    "        print(f\"最新のマニフェストファイル: {latest_manifest_key}\\n\")\n",
    "\n",
    "        resp = s3.get_object(Bucket=bucket_name, Key=latest_manifest_key)\n",
    "        content = resp['Body'].read()\n",
    "        bytes_stream = io.BytesIO(content)\n",
    "\n",
    "        print(\"マニフェストファイルのレコード:\")\n",
    "        with DataFileReader(bytes_stream, DatumReader()) as reader:\n",
    "            for record in reader:\n",
    "                df = record.get('data_file', {})\n",
    "                if 'lower_bounds' in df:\n",
    "                    decode_bounds(df['lower_bounds'])\n",
    "                if 'upper_bounds' in df:\n",
    "                    decode_bounds(df['upper_bounds'])\n",
    "\n",
    "                pprint(record)\n",
    "                print()\n",
    "    else:\n",
    "        print(\"マニフェストファイル (.avro かつ snap- 以外) が見つかりませんでした。\")\n",
    "else:\n",
    "    print(\"オブジェクトが見つかりませんでした。\")"
   ]
  },
  {
   "cell_type": "markdown",
   "id": "fc8bcee5-142f-4f7b-868a-393501525b18",
   "metadata": {},
   "source": [
    "最後にデータファイルを観察します。Icebergのデータファイルの形式は Parquet, ORC, Avro から選択可能ですが、今回はデフォルトの Parquet でデータファイルが作成されていることがわかります。"
   ]
  },
  {
   "cell_type": "code",
   "execution_count": 17,
   "id": "75d57548-0d45-4601-a580-e9d7bbb8e46b",
   "metadata": {},
   "outputs": [
    {
     "name": "stdout",
     "output_type": "stream",
     "text": [
      "Key:          demo/simple_table/data/00000-216-66bbb96a-60ad-4743-b836-69f7ce1d06db-0-00001.parquet\n",
      "LastModified: 2025-08-15 11:18:20\n",
      "Size:         903 bytes\n",
      "----------------------------------------\n",
      "Key:          demo/simple_table/data/00001-217-66bbb96a-60ad-4743-b836-69f7ce1d06db-0-00001.parquet\n",
      "LastModified: 2025-08-15 11:18:20\n",
      "Size:         890 bytes\n",
      "----------------------------------------\n",
      "Key:          demo/simple_table/data/00002-218-66bbb96a-60ad-4743-b836-69f7ce1d06db-0-00001.parquet\n",
      "LastModified: 2025-08-15 11:18:20\n",
      "Size:         917 bytes\n",
      "----------------------------------------\n"
     ]
    }
   ],
   "source": [
    "prefix = 'demo/simple_table/data/'\n",
    "list_objects(bucket_name, prefix)"
   ]
  },
  {
   "cell_type": "markdown",
   "id": "c6747518-16ff-40c5-a6e5-1e11d50082a9",
   "metadata": {},
   "source": [
    "## UPDATE"
   ]
  },
  {
   "cell_type": "markdown",
   "id": "5434e46c-eb0e-40e7-8784-3ef382781fd1",
   "metadata": {},
   "source": [
    "次に、レコードをアップデートしてみましょう。以下の例では、id=2 のレコードの `score` を 100.0 に更新しています。  "
   ]
  },
  {
   "cell_type": "code",
   "execution_count": 18,
   "id": "a72fefe0-2525-437a-b962-81f4c715dda0",
   "metadata": {},
   "outputs": [
    {
     "data": {
      "text/html": [
       "<span style=\"None\">Running query in &#x27;SparkSession&#x27;</span>"
      ],
      "text/plain": [
       "Running query in 'SparkSession'"
      ]
     },
     "metadata": {},
     "output_type": "display_data"
    },
    {
     "data": {
      "text/html": [
       "<span style=\"color: green\">3 rows affected.</span>"
      ],
      "text/plain": [
       "3 rows affected."
      ]
     },
     "metadata": {},
     "output_type": "display_data"
    },
    {
     "data": {
      "text/html": [
       "<div>\n",
       "<style scoped>\n",
       "    .dataframe tbody tr th:only-of-type {\n",
       "        vertical-align: middle;\n",
       "    }\n",
       "\n",
       "    .dataframe tbody tr th {\n",
       "        vertical-align: top;\n",
       "    }\n",
       "\n",
       "    .dataframe thead th {\n",
       "        text-align: right;\n",
       "    }\n",
       "</style>\n",
       "<table border=\"1\" class=\"dataframe\">\n",
       "  <thead>\n",
       "    <tr style=\"text-align: right;\">\n",
       "      <th></th>\n",
       "      <th>id</th>\n",
       "      <th>name</th>\n",
       "      <th>score</th>\n",
       "    </tr>\n",
       "  </thead>\n",
       "  <tbody>\n",
       "    <tr>\n",
       "      <th>0</th>\n",
       "      <td>1</td>\n",
       "      <td>Alice</td>\n",
       "      <td>85.5</td>\n",
       "    </tr>\n",
       "    <tr>\n",
       "      <th>1</th>\n",
       "      <td>2</td>\n",
       "      <td>Bob</td>\n",
       "      <td>90.0</td>\n",
       "    </tr>\n",
       "    <tr>\n",
       "      <th>2</th>\n",
       "      <td>3</td>\n",
       "      <td>Charlie</td>\n",
       "      <td>78.0</td>\n",
       "    </tr>\n",
       "  </tbody>\n",
       "</table>\n",
       "</div>"
      ],
      "text/plain": [
       "   id     name  score\n",
       "0   1    Alice   85.5\n",
       "1   2      Bob   90.0\n",
       "2   3  Charlie   78.0"
      ]
     },
     "execution_count": 18,
     "metadata": {},
     "output_type": "execute_result"
    }
   ],
   "source": [
    "%%sql\n",
    "    \n",
    "SELECT * FROM demo.simple_table"
   ]
  },
  {
   "cell_type": "code",
   "execution_count": 19,
   "id": "3b565aad-c5bb-4717-ab70-cddb4cece625",
   "metadata": {},
   "outputs": [
    {
     "data": {
      "text/html": [
       "<span style=\"None\">Running query in &#x27;SparkSession&#x27;</span>"
      ],
      "text/plain": [
       "Running query in 'SparkSession'"
      ]
     },
     "metadata": {},
     "output_type": "display_data"
    },
    {
     "data": {
      "text/html": [
       "<div>\n",
       "<style scoped>\n",
       "    .dataframe tbody tr th:only-of-type {\n",
       "        vertical-align: middle;\n",
       "    }\n",
       "\n",
       "    .dataframe tbody tr th {\n",
       "        vertical-align: top;\n",
       "    }\n",
       "\n",
       "    .dataframe thead th {\n",
       "        text-align: right;\n",
       "    }\n",
       "</style>\n",
       "<table border=\"1\" class=\"dataframe\">\n",
       "  <thead>\n",
       "    <tr style=\"text-align: right;\">\n",
       "      <th></th>\n",
       "    </tr>\n",
       "  </thead>\n",
       "  <tbody>\n",
       "  </tbody>\n",
       "</table>\n",
       "</div>"
      ],
      "text/plain": [
       "Empty DataFrame\n",
       "Columns: []\n",
       "Index: []"
      ]
     },
     "execution_count": 19,
     "metadata": {},
     "output_type": "execute_result"
    }
   ],
   "source": [
    "%%sql\n",
    "    \n",
    "UPDATE demo.simple_table SET score = 100.0 WHERE id = 2;"
   ]
  },
  {
   "cell_type": "code",
   "execution_count": 20,
   "id": "681e66d1-8f8b-4dd6-99c6-8cb42872d218",
   "metadata": {},
   "outputs": [
    {
     "data": {
      "text/html": [
       "<span style=\"None\">Running query in &#x27;SparkSession&#x27;</span>"
      ],
      "text/plain": [
       "Running query in 'SparkSession'"
      ]
     },
     "metadata": {},
     "output_type": "display_data"
    },
    {
     "data": {
      "text/html": [
       "<span style=\"color: green\">3 rows affected.</span>"
      ],
      "text/plain": [
       "3 rows affected."
      ]
     },
     "metadata": {},
     "output_type": "display_data"
    },
    {
     "data": {
      "text/html": [
       "<div>\n",
       "<style scoped>\n",
       "    .dataframe tbody tr th:only-of-type {\n",
       "        vertical-align: middle;\n",
       "    }\n",
       "\n",
       "    .dataframe tbody tr th {\n",
       "        vertical-align: top;\n",
       "    }\n",
       "\n",
       "    .dataframe thead th {\n",
       "        text-align: right;\n",
       "    }\n",
       "</style>\n",
       "<table border=\"1\" class=\"dataframe\">\n",
       "  <thead>\n",
       "    <tr style=\"text-align: right;\">\n",
       "      <th></th>\n",
       "      <th>id</th>\n",
       "      <th>name</th>\n",
       "      <th>score</th>\n",
       "    </tr>\n",
       "  </thead>\n",
       "  <tbody>\n",
       "    <tr>\n",
       "      <th>0</th>\n",
       "      <td>2</td>\n",
       "      <td>Bob</td>\n",
       "      <td>100.0</td>\n",
       "    </tr>\n",
       "    <tr>\n",
       "      <th>1</th>\n",
       "      <td>1</td>\n",
       "      <td>Alice</td>\n",
       "      <td>85.5</td>\n",
       "    </tr>\n",
       "    <tr>\n",
       "      <th>2</th>\n",
       "      <td>3</td>\n",
       "      <td>Charlie</td>\n",
       "      <td>78.0</td>\n",
       "    </tr>\n",
       "  </tbody>\n",
       "</table>\n",
       "</div>"
      ],
      "text/plain": [
       "   id     name  score\n",
       "0   2      Bob  100.0\n",
       "1   1    Alice   85.5\n",
       "2   3  Charlie   78.0"
      ]
     },
     "execution_count": 20,
     "metadata": {},
     "output_type": "execute_result"
    }
   ],
   "source": [
    "%%sql\n",
    "    \n",
    "SELECT * FROM demo.simple_table"
   ]
  },
  {
   "cell_type": "markdown",
   "id": "538d5375-44c2-4cd0-b3f2-c6f42c1f9a77",
   "metadata": {},
   "source": [
    "ここで改めて、ストレージ上のファイルを観察してみましょう。`metadata` ディレクトリにメタデータファイル、メタデータリスト、マニフェストファイルが作成されていることが分かります。"
   ]
  },
  {
   "cell_type": "code",
   "execution_count": 21,
   "id": "6eb2550e-8cd1-45d5-982a-dd9054a027a9",
   "metadata": {},
   "outputs": [
    {
     "name": "stdout",
     "output_type": "stream",
     "text": [
      "Key:          demo/simple_table/metadata/00000-d982f5e7-77d3-435f-b76a-0f0debcd60e8.metadata.json\n",
      "LastModified: 2025-08-15 11:18:18\n",
      "Size:         1158 bytes\n",
      "----------------------------------------\n",
      "Key:          demo/simple_table/metadata/00001-1786454a-6079-464d-82dd-236aa67f522b.metadata.json\n",
      "LastModified: 2025-08-15 11:18:21\n",
      "Size:         2444 bytes\n",
      "----------------------------------------\n",
      "Key:          demo/simple_table/metadata/00002-cf7f68f0-a6a1-4288-9a13-47ea3bf33aea.metadata.json\n",
      "LastModified: 2025-08-15 11:18:29\n",
      "Size:         3777 bytes\n",
      "----------------------------------------\n",
      "Key:          demo/simple_table/metadata/5e8fd1a6-c4c2-4f4a-aaee-aa100f1efe5c-m0.avro\n",
      "LastModified: 2025-08-15 11:18:21\n",
      "Size:         6822 bytes\n",
      "----------------------------------------\n",
      "Key:          demo/simple_table/metadata/b49800ed-3a46-4b6f-8b8e-a4e975a55505-m0.avro\n",
      "LastModified: 2025-08-15 11:18:28\n",
      "Size:         6838 bytes\n",
      "----------------------------------------\n",
      "Key:          demo/simple_table/metadata/b49800ed-3a46-4b6f-8b8e-a4e975a55505-m1.avro\n",
      "LastModified: 2025-08-15 11:18:28\n",
      "Size:         6749 bytes\n",
      "----------------------------------------\n",
      "Key:          demo/simple_table/metadata/snap-4214241916683902793-1-5e8fd1a6-c4c2-4f4a-aaee-aa100f1efe5c.avro\n",
      "LastModified: 2025-08-15 11:18:21\n",
      "Size:         4452 bytes\n",
      "----------------------------------------\n",
      "Key:          demo/simple_table/metadata/snap-7836036387137093982-1-b49800ed-3a46-4b6f-8b8e-a4e975a55505.avro\n",
      "LastModified: 2025-08-15 11:18:28\n",
      "Size:         4486 bytes\n",
      "----------------------------------------\n"
     ]
    }
   ],
   "source": [
    "prefix = 'demo/simple_table/metadata/'\n",
    "list_objects(bucket_name, prefix)"
   ]
  },
  {
   "cell_type": "code",
   "execution_count": 22,
   "id": "d8d71b5a-3fae-4ff2-a2f7-c49d07dbbff6",
   "metadata": {},
   "outputs": [
    {
     "name": "stdout",
     "output_type": "stream",
     "text": [
      "最新のメタデータファイル: demo/simple_table/metadata/00002-cf7f68f0-a6a1-4288-9a13-47ea3bf33aea.metadata.json\n",
      "{\n",
      "  \"format-version\": 2,\n",
      "  \"table-uuid\": \"f5da540a-4f4b-48af-aa7e-31b1a10e8022\",\n",
      "  \"location\": \"s3://amzn-s3-demo-bucket/demo/simple_table\",\n",
      "  \"last-sequence-number\": 2,\n",
      "  \"last-updated-ms\": 1755256708912,\n",
      "  \"last-column-id\": 3,\n",
      "  \"current-schema-id\": 0,\n",
      "  \"schemas\": [\n",
      "    {\n",
      "      \"type\": \"struct\",\n",
      "      \"schema-id\": 0,\n",
      "      \"fields\": [\n",
      "        {\n",
      "          \"id\": 1,\n",
      "          \"name\": \"id\",\n",
      "          \"required\": false,\n",
      "          \"type\": \"long\"\n",
      "        },\n",
      "        {\n",
      "          \"id\": 2,\n",
      "          \"name\": \"name\",\n",
      "          \"required\": false,\n",
      "          \"type\": \"string\"\n",
      "        },\n",
      "        {\n",
      "          \"id\": 3,\n",
      "          \"name\": \"score\",\n",
      "          \"required\": false,\n",
      "          \"type\": \"double\"\n",
      "        }\n",
      "      ]\n",
      "    }\n",
      "  ],\n",
      "  \"default-spec-id\": 0,\n",
      "  \"partition-specs\": [\n",
      "    {\n",
      "      \"spec-id\": 0,\n",
      "      \"fields\": []\n",
      "    }\n",
      "  ],\n",
      "  \"last-partition-id\": 999,\n",
      "  \"default-sort-order-id\": 0,\n",
      "  \"sort-orders\": [\n",
      "    {\n",
      "      \"order-id\": 0,\n",
      "      \"fields\": []\n",
      "    }\n",
      "  ],\n",
      "  \"properties\": {\n",
      "    \"owner\": \"jovyan\",\n",
      "    \"write.parquet.compression-codec\": \"zstd\",\n",
      "    \"table_type\": \"ICEBERG\"\n",
      "  },\n",
      "  \"current-snapshot-id\": 7836036387137093982,\n",
      "  \"refs\": {\n",
      "    \"main\": {\n",
      "      \"snapshot-id\": 7836036387137093982,\n",
      "      \"type\": \"branch\"\n",
      "    }\n",
      "  },\n",
      "  \"snapshots\": [\n",
      "    {\n",
      "      \"sequence-number\": 1,\n",
      "      \"snapshot-id\": 4214241916683902793,\n",
      "      \"timestamp-ms\": 1755256701319,\n",
      "      \"summary\": {\n",
      "        \"operation\": \"append\",\n",
      "        \"spark.app.id\": \"local-1755256674534\",\n",
      "        \"added-data-files\": \"3\",\n",
      "        \"added-records\": \"3\",\n",
      "        \"added-files-size\": \"2710\",\n",
      "        \"changed-partition-count\": \"1\",\n",
      "        \"total-records\": \"3\",\n",
      "        \"total-files-size\": \"2710\",\n",
      "        \"total-data-files\": \"3\",\n",
      "        \"total-delete-files\": \"0\",\n",
      "        \"total-position-deletes\": \"0\",\n",
      "        \"total-equality-deletes\": \"0\",\n",
      "        \"engine-version\": \"3.5.3\",\n",
      "        \"app-id\": \"local-1755256674534\",\n",
      "        \"engine-name\": \"spark\",\n",
      "        \"iceberg-version\": \"Apache Iceberg 1.7.1 (commit 4a432839233f2343a9eae8255532f911f06358ef)\"\n",
      "      },\n",
      "      \"manifest-list\": \"s3://amzn-s3-demo-bucket/demo/simple_table/metadata/snap-4214241916683902793-1-5e8fd1a6-c4c2-4f4a-aaee-aa100f1efe5c.avro\",\n",
      "      \"schema-id\": 0\n",
      "    },\n",
      "    {\n",
      "      \"sequence-number\": 2,\n",
      "      \"snapshot-id\": 7836036387137093982,\n",
      "      \"parent-snapshot-id\": 4214241916683902793,\n",
      "      \"timestamp-ms\": 1755256708912,\n",
      "      \"summary\": {\n",
      "        \"operation\": \"overwrite\",\n",
      "        \"spark.app.id\": \"local-1755256674534\",\n",
      "        \"added-data-files\": \"1\",\n",
      "        \"deleted-data-files\": \"1\",\n",
      "        \"added-records\": \"1\",\n",
      "        \"deleted-records\": \"1\",\n",
      "        \"added-files-size\": \"913\",\n",
      "        \"removed-files-size\": \"890\",\n",
      "        \"changed-partition-count\": \"1\",\n",
      "        \"total-records\": \"3\",\n",
      "        \"total-files-size\": \"2733\",\n",
      "        \"total-data-files\": \"3\",\n",
      "        \"total-delete-files\": \"0\",\n",
      "        \"total-position-deletes\": \"0\",\n",
      "        \"total-equality-deletes\": \"0\",\n",
      "        \"engine-version\": \"3.5.3\",\n",
      "        \"app-id\": \"local-1755256674534\",\n",
      "        \"engine-name\": \"spark\",\n",
      "        \"iceberg-version\": \"Apache Iceberg 1.7.1 (commit 4a432839233f2343a9eae8255532f911f06358ef)\"\n",
      "      },\n",
      "      \"manifest-list\": \"s3://amzn-s3-demo-bucket/demo/simple_table/metadata/snap-7836036387137093982-1-b49800ed-3a46-4b6f-8b8e-a4e975a55505.avro\",\n",
      "      \"schema-id\": 0\n",
      "    }\n",
      "  ],\n",
      "  \"statistics\": [],\n",
      "  \"partition-statistics\": [],\n",
      "  \"snapshot-log\": [\n",
      "    {\n",
      "      \"timestamp-ms\": 1755256701319,\n",
      "      \"snapshot-id\": 4214241916683902793\n",
      "    },\n",
      "    {\n",
      "      \"timestamp-ms\": 1755256708912,\n",
      "      \"snapshot-id\": 7836036387137093982\n",
      "    }\n",
      "  ],\n",
      "  \"metadata-log\": [\n",
      "    {\n",
      "      \"timestamp-ms\": 1755256698623,\n",
      "      \"metadata-file\": \"s3://amzn-s3-demo-bucket/demo/simple_table/metadata/00000-d982f5e7-77d3-435f-b76a-0f0debcd60e8.metadata.json\"\n",
      "    },\n",
      "    {\n",
      "      \"timestamp-ms\": 1755256701319,\n",
      "      \"metadata-file\": \"s3://amzn-s3-demo-bucket/demo/simple_table/metadata/00001-1786454a-6079-464d-82dd-236aa67f522b.metadata.json\"\n",
      "    }\n",
      "  ]\n",
      "}\n"
     ]
    }
   ],
   "source": [
    "prefix = 'demo/simple_table/metadata/'\n",
    "response = s3.list_objects_v2(Bucket=bucket_name, Prefix=prefix)\n",
    "\n",
    "if 'Contents' in response:\n",
    "    metadata_files = [\n",
    "        obj for obj in response['Contents'] \n",
    "        if obj['Key'].endswith('.metadata.json')\n",
    "    ]\n",
    "    \n",
    "    if len(metadata_files) == 0:\n",
    "        print(\"メタデータファイル(.metadata.json)が見つかりませんでした。\")\n",
    "    else:\n",
    "        # LastModified が最新のファイルを選択\n",
    "        metadata_files.sort(key=lambda x: x['LastModified'], reverse=True)\n",
    "        latest_metadata_key = metadata_files[0]['Key']\n",
    "\n",
    "        print(f\"最新のメタデータファイル: {latest_metadata_key}\")\n",
    "\n",
    "        resp = s3.get_object(Bucket=bucket_name, Key=latest_metadata_key)\n",
    "        content = resp['Body'].read().decode('utf-8')\n",
    "        data = json.loads(content)\n",
    "\n",
    "        print(json.dumps(data, indent=2))\n",
    "else:\n",
    "    print(\"指定したパスにオブジェクトが存在しませんでした。\")"
   ]
  },
  {
   "cell_type": "markdown",
   "id": "94c676b3-d3df-457d-8885-013a8c8b8f5a",
   "metadata": {},
   "source": [
    "データファイルに関しても、更新前と比較して、新しいデータファイルが作成されていることが分かります。"
   ]
  },
  {
   "cell_type": "code",
   "execution_count": 23,
   "id": "88962bfb-4098-4734-bbc1-830eba2d658a",
   "metadata": {},
   "outputs": [
    {
     "name": "stdout",
     "output_type": "stream",
     "text": [
      "Key:          demo/simple_table/data/00000-216-66bbb96a-60ad-4743-b836-69f7ce1d06db-0-00001.parquet\n",
      "LastModified: 2025-08-15 11:18:20\n",
      "Size:         903 bytes\n",
      "----------------------------------------\n",
      "Key:          demo/simple_table/data/00000-231-68ccf8be-ddf5-4bc2-8d22-3d7f6cd8b0c4-0-00001.parquet\n",
      "LastModified: 2025-08-15 11:18:28\n",
      "Size:         913 bytes\n",
      "----------------------------------------\n",
      "Key:          demo/simple_table/data/00001-217-66bbb96a-60ad-4743-b836-69f7ce1d06db-0-00001.parquet\n",
      "LastModified: 2025-08-15 11:18:20\n",
      "Size:         890 bytes\n",
      "----------------------------------------\n",
      "Key:          demo/simple_table/data/00002-218-66bbb96a-60ad-4743-b836-69f7ce1d06db-0-00001.parquet\n",
      "LastModified: 2025-08-15 11:18:20\n",
      "Size:         917 bytes\n",
      "----------------------------------------\n"
     ]
    }
   ],
   "source": [
    "prefix = 'demo/simple_table/data/'\n",
    "list_objects(bucket_name, prefix)"
   ]
  },
  {
   "cell_type": "markdown",
   "id": "91102888-bf35-4462-b2bb-4811f041aeb0",
   "metadata": {},
   "source": [
    "このように、Iceberg テーブルの更新時には新しいメタデータファイル、マニフェストリスト、マニフェストファイル、データファイルが作成されます。更新前のファイルはそのまま残り、メタデータファイル→マニフェストリスト→マニフェストファイル→データファイルのツリー構造のメタデータが更新されることで、データの変更を管理しています。"
   ]
  },
  {
   "cell_type": "markdown",
   "id": "eed0a2c9-e799-4108-8c61-b0f6f889c15d",
   "metadata": {},
   "source": [
    "更新前のファイルが残っているので、過去のスナップショット ID を指定することで、過去のデータを参照することが可能です。これがタイムトラベルクエリです。  \n",
    "スナップショット ID はメタデータファイルなどからも確認できますが、Icebergにはテーブルのスナップショットのログの参照に利用できる便利なメタデータテーブルが用意されています。"
   ]
  },
  {
   "cell_type": "code",
   "execution_count": 24,
   "id": "6b1041d2-25e6-482b-b8f0-750a133df995",
   "metadata": {},
   "outputs": [
    {
     "data": {
      "text/html": [
       "<span style=\"None\">Running query in &#x27;SparkSession&#x27;</span>"
      ],
      "text/plain": [
       "Running query in 'SparkSession'"
      ]
     },
     "metadata": {},
     "output_type": "display_data"
    },
    {
     "data": {
      "text/html": [
       "<span style=\"color: green\">2 rows affected.</span>"
      ],
      "text/plain": [
       "2 rows affected."
      ]
     },
     "metadata": {},
     "output_type": "display_data"
    },
    {
     "data": {
      "text/html": [
       "<div>\n",
       "<style scoped>\n",
       "    .dataframe tbody tr th:only-of-type {\n",
       "        vertical-align: middle;\n",
       "    }\n",
       "\n",
       "    .dataframe tbody tr th {\n",
       "        vertical-align: top;\n",
       "    }\n",
       "\n",
       "    .dataframe thead th {\n",
       "        text-align: right;\n",
       "    }\n",
       "</style>\n",
       "<table border=\"1\" class=\"dataframe\">\n",
       "  <thead>\n",
       "    <tr style=\"text-align: right;\">\n",
       "      <th></th>\n",
       "      <th>committed_at</th>\n",
       "      <th>snapshot_id</th>\n",
       "      <th>operation</th>\n",
       "    </tr>\n",
       "  </thead>\n",
       "  <tbody>\n",
       "    <tr>\n",
       "      <th>0</th>\n",
       "      <td>2025-08-15 11:18:21.319</td>\n",
       "      <td>4214241916683902793</td>\n",
       "      <td>append</td>\n",
       "    </tr>\n",
       "    <tr>\n",
       "      <th>1</th>\n",
       "      <td>2025-08-15 11:18:28.912</td>\n",
       "      <td>7836036387137093982</td>\n",
       "      <td>overwrite</td>\n",
       "    </tr>\n",
       "  </tbody>\n",
       "</table>\n",
       "</div>"
      ],
      "text/plain": [
       "             committed_at          snapshot_id  operation\n",
       "0 2025-08-15 11:18:21.319  4214241916683902793     append\n",
       "1 2025-08-15 11:18:28.912  7836036387137093982  overwrite"
      ]
     },
     "execution_count": 24,
     "metadata": {},
     "output_type": "execute_result"
    }
   ],
   "source": [
    "%%sql\n",
    "    \n",
    "SELECT committed_at,snapshot_id,operation  FROM demo.simple_table.snapshots ORDER BY committed_at;"
   ]
  },
  {
   "cell_type": "markdown",
   "id": "f90cf7d1-27de-4b09-9f69-13f20f359b66",
   "metadata": {},
   "source": [
    "この情報を元に、以下のようにスナップショット ID を指定して、過去のデータを参照できます。  "
   ]
  },
  {
   "cell_type": "code",
   "execution_count": 25,
   "id": "3f3d60c4-a251-43ef-879c-180379abad1d",
   "metadata": {},
   "outputs": [
    {
     "data": {
      "text/html": [
       "<span style=\"None\">Running query in &#x27;SparkSession&#x27;</span>"
      ],
      "text/plain": [
       "Running query in 'SparkSession'"
      ]
     },
     "metadata": {},
     "output_type": "display_data"
    },
    {
     "name": "stderr",
     "output_type": "stream",
     "text": [
      "RuntimeError: If using snippets, you may pass the --with argument explicitly.\n",
      "For more details please refer: https://jupysql.ploomber.io/en/latest/compose.html#with-argument\n",
      "\n",
      "\n",
      "Original error message from DB driver:\n",
      "\n",
      "[PARSE_SYNTAX_ERROR] Syntax error at or near '<'.(line 1, pos 46)\n",
      "\n",
      "== SQL ==\n",
      "SELECT * FROM demo.simple_table VERSION AS OF <INSERT 後、UPDATE 前のスナップショットIDを指定>;\n",
      "----------------------------------------------^^^\n",
      "\n",
      "\n"
     ]
    }
   ],
   "source": [
    "%%sql\n",
    "\n",
    "-- INSERT 後、UPDATE 前のテーブルにクエリ\n",
    "SELECT * FROM demo.simple_table VERSION AS OF <INSERT 後、UPDATE 前のスナップショットIDを指定>;"
   ]
  },
  {
   "cell_type": "markdown",
   "id": "2a02db66-0d74-4b33-a5e7-78090488777c",
   "metadata": {},
   "source": [
    "## ビュー"
   ]
  },
  {
   "cell_type": "markdown",
   "id": "0bcadd45-51cb-4fe8-a5bd-08054973879b",
   "metadata": {},
   "source": [
    "以下のようにして、Icebergビューを作成できます。"
   ]
  },
  {
   "cell_type": "code",
   "execution_count": 34,
   "id": "5704bd17-1441-4a68-90ae-a128bf7fe9fc",
   "metadata": {},
   "outputs": [
    {
     "data": {
      "text/html": [
       "<span style=\"None\">Running query in &#x27;SparkSession&#x27;</span>"
      ],
      "text/plain": [
       "Running query in 'SparkSession'"
      ]
     },
     "metadata": {},
     "output_type": "display_data"
    },
    {
     "data": {
      "text/html": [
       "<div>\n",
       "<style scoped>\n",
       "    .dataframe tbody tr th:only-of-type {\n",
       "        vertical-align: middle;\n",
       "    }\n",
       "\n",
       "    .dataframe tbody tr th {\n",
       "        vertical-align: top;\n",
       "    }\n",
       "\n",
       "    .dataframe thead th {\n",
       "        text-align: right;\n",
       "    }\n",
       "</style>\n",
       "<table border=\"1\" class=\"dataframe\">\n",
       "  <thead>\n",
       "    <tr style=\"text-align: right;\">\n",
       "      <th></th>\n",
       "    </tr>\n",
       "  </thead>\n",
       "  <tbody>\n",
       "  </tbody>\n",
       "</table>\n",
       "</div>"
      ],
      "text/plain": [
       "Empty DataFrame\n",
       "Columns: []\n",
       "Index: []"
      ]
     },
     "execution_count": 34,
     "metadata": {},
     "output_type": "execute_result"
    }
   ],
   "source": [
    "%%sql\n",
    "    \n",
    "CREATE OR REPLACE VIEW demo.sample_view AS SELECT sum(score) FROM demo.simple_table"
   ]
  },
  {
   "cell_type": "code",
   "execution_count": 35,
   "id": "65c210c9-354e-45b4-836b-a089fab51fff",
   "metadata": {},
   "outputs": [
    {
     "data": {
      "text/html": [
       "<span style=\"None\">Running query in &#x27;SparkSession&#x27;</span>"
      ],
      "text/plain": [
       "Running query in 'SparkSession'"
      ]
     },
     "metadata": {},
     "output_type": "display_data"
    },
    {
     "data": {
      "text/html": [
       "<span style=\"color: green\">1 rows affected.</span>"
      ],
      "text/plain": [
       "1 rows affected."
      ]
     },
     "metadata": {},
     "output_type": "display_data"
    },
    {
     "data": {
      "text/html": [
       "<div>\n",
       "<style scoped>\n",
       "    .dataframe tbody tr th:only-of-type {\n",
       "        vertical-align: middle;\n",
       "    }\n",
       "\n",
       "    .dataframe tbody tr th {\n",
       "        vertical-align: top;\n",
       "    }\n",
       "\n",
       "    .dataframe thead th {\n",
       "        text-align: right;\n",
       "    }\n",
       "</style>\n",
       "<table border=\"1\" class=\"dataframe\">\n",
       "  <thead>\n",
       "    <tr style=\"text-align: right;\">\n",
       "      <th></th>\n",
       "      <th>sum(score)</th>\n",
       "    </tr>\n",
       "  </thead>\n",
       "  <tbody>\n",
       "    <tr>\n",
       "      <th>0</th>\n",
       "      <td>263.5</td>\n",
       "    </tr>\n",
       "  </tbody>\n",
       "</table>\n",
       "</div>"
      ],
      "text/plain": [
       "   sum(score)\n",
       "0       263.5"
      ]
     },
     "execution_count": 35,
     "metadata": {},
     "output_type": "execute_result"
    }
   ],
   "source": [
    "%%sql\n",
    "\n",
    "SELECT * FROM demo.sample_view"
   ]
  },
  {
   "cell_type": "code",
   "execution_count": 52,
   "id": "29031b07-545a-4eb3-8088-43340a674bf0",
   "metadata": {},
   "outputs": [
    {
     "data": {
      "text/html": [
       "<span style=\"None\">Running query in &#x27;SparkSession&#x27;</span>"
      ],
      "text/plain": [
       "Running query in 'SparkSession'"
      ]
     },
     "metadata": {},
     "output_type": "display_data"
    },
    {
     "data": {
      "text/html": [
       "<div>\n",
       "<style scoped>\n",
       "    .dataframe tbody tr th:only-of-type {\n",
       "        vertical-align: middle;\n",
       "    }\n",
       "\n",
       "    .dataframe tbody tr th {\n",
       "        vertical-align: top;\n",
       "    }\n",
       "\n",
       "    .dataframe thead th {\n",
       "        text-align: right;\n",
       "    }\n",
       "</style>\n",
       "<table border=\"1\" class=\"dataframe\">\n",
       "  <thead>\n",
       "    <tr style=\"text-align: right;\">\n",
       "      <th></th>\n",
       "    </tr>\n",
       "  </thead>\n",
       "  <tbody>\n",
       "  </tbody>\n",
       "</table>\n",
       "</div>"
      ],
      "text/plain": [
       "Empty DataFrame\n",
       "Columns: []\n",
       "Index: []"
      ]
     },
     "execution_count": 52,
     "metadata": {},
     "output_type": "execute_result"
    }
   ],
   "source": [
    "%%sql\n",
    "\n",
    "DROP VIEW demo.sample_view"
   ]
  },
  {
   "cell_type": "code",
   "execution_count": null,
   "id": "ee17a107-3adf-4f66-a269-47fd2b24c2ce",
   "metadata": {},
   "outputs": [],
   "source": [
    "## テーブルの削除"
   ]
  },
  {
   "cell_type": "code",
   "execution_count": null,
   "id": "04dc8259-fd61-4e5c-8e78-e3cd7e85a589",
   "metadata": {},
   "outputs": [],
   "source": []
  },
  {
   "cell_type": "code",
   "execution_count": null,
   "id": "8869aead-e8f6-4b61-85ea-e09147b244f2",
   "metadata": {},
   "outputs": [],
   "source": []
  }
 ],
 "metadata": {
  "kernelspec": {
   "display_name": "Python 3 (ipykernel)",
   "language": "python",
   "name": "python3"
  },
  "language_info": {
   "codemirror_mode": {
    "name": "ipython",
    "version": 3
   },
   "file_extension": ".py",
   "mimetype": "text/x-python",
   "name": "python",
   "nbconvert_exporter": "python",
   "pygments_lexer": "ipython3",
   "version": "3.11.10"
  }
 },
 "nbformat": 4,
 "nbformat_minor": 5
}
