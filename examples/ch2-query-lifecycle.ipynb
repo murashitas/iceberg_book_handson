{
 "cells": [
  {
   "cell_type": "markdown",
   "id": "2dad309f-2d3f-46e0-a79b-5b155818383c",
   "metadata": {},
   "source": [
    "# Chapter 2"
   ]
  },
  {
   "cell_type": "markdown",
   "id": "cc177e9f-c29d-47e2-a15b-4e5f23532926",
   "metadata": {},
   "source": [
    "## 代表的なクエリのライフサイクル"
   ]
  },
  {
   "cell_type": "markdown",
   "id": "265d569e-e90d-4a74-9b35-fc1dfce366ae",
   "metadata": {},
   "source": [
    "### Spark Sessionと依存関係, utility関数の準備"
   ]
  },
  {
   "cell_type": "code",
   "execution_count": null,
   "id": "c5e419a2-19d5-4b84-aa1f-cd7982ca3018",
   "metadata": {},
   "outputs": [],
   "source": [
    "import io\n",
    "import struct\n",
    "from pprint import pprint\n",
    "\n",
    "import pandas as pd\n",
    "from avro.datafile import DataFileReader\n",
    "from avro.io import DatumReader\n",
    "\n",
    "import pyspark\n",
    "from pyspark.conf import SparkConf\n",
    "from pyspark.sql import SparkSession\n",
    "\n",
    "CATALOG = \"spark_catalog\"\n",
    "CATALOG_URL = \"http://server:8181/\"\n",
    "WAREHOUSE = \"s3://amzn-s3-demo-bucket\"\n",
    "S3_ENDPOINT = \"http://minio:9000\"\n",
    "SPARK_VERSION = pyspark.__version__\n",
    "SPARK_MINOR_VERSION = '.'.join(SPARK_VERSION.split('.')[:2])\n",
    "ICEBERG_VERSION = \"1.7.1\""
   ]
  },
  {
   "cell_type": "code",
   "execution_count": null,
   "id": "71598687-427f-4a6d-8cf6-aef3847fa8a7",
   "metadata": {},
   "outputs": [],
   "source": [
    "spark = (\n",
    "    SparkSession.builder\n",
    "        .config(\"spark.jars.packages\", f\"org.apache.iceberg:iceberg-spark-runtime-{SPARK_MINOR_VERSION}_2.12:{ICEBERG_VERSION},org.apache.iceberg:iceberg-aws-bundle:{ICEBERG_VERSION}\")\n",
    "        .config(f\"spark.sql.catalog.{CATALOG}\", \"org.apache.iceberg.spark.SparkCatalog\")\n",
    "        .config(f\"spark.sql.catalog.{CATALOG}.type\", \"rest\")\n",
    "        .config(f\"spark.sql.catalog.{CATALOG}.uri\", CATALOG_URL)\n",
    "        .config(f\"spark.sql.catalog.{CATALOG}.warehouse\", WAREHOUSE)\n",
    "        .config(f\"spark.sql.catalog.{CATALOG}.s3.endpoint\", S3_ENDPOINT)\n",
    "        .config(f\"spark.sql.catalog.{CATALOG}.view-endpoints-supported\", \"true\")\n",
    "        .config(\"spark.sql.extensions\", \"org.apache.iceberg.spark.extensions.IcebergSparkSessionExtensions\")\n",
    "        .config(\"spark.sql.defaultCatalog\", CATALOG)\n",
    "        .getOrCreate()\n",
    ")"
   ]
  },
  {
   "cell_type": "code",
   "execution_count": null,
   "id": "986888dd-ce20-407b-87a0-46808107a6de",
   "metadata": {},
   "outputs": [],
   "source": [
    "def list_objects(bucket_name: str, prefix: str) -> None:\n",
    "    \"\"\"\n",
    "    指定されたバケットとプレフィックスに基づいてオブジェクト一覧を表示\n",
    "    \"\"\"\n",
    "    try:\n",
    "        response = s3.list_objects_v2(Bucket=bucket_name, Prefix=prefix)\n",
    "        \n",
    "        if 'Contents' in response:\n",
    "            for obj in response['Contents']:\n",
    "                last_modified_str = obj['LastModified'].strftime(\"%Y-%m-%d %H:%M:%S\")\n",
    "                print(f\"Key:          {obj['Key']}\")\n",
    "                print(f\"LastModified: {last_modified_str}\")\n",
    "                print(f\"Size:         {obj['Size']} bytes\")\n",
    "                print(\"-\" * 40)\n",
    "        else:\n",
    "            print(\"オブジェクトが見つかりませんでした。\")\n",
    "            \n",
    "    except Exception as e:\n",
    "        print(f\"エラーが発生しました: {str(e)}\")"
   ]
  },
  {
   "cell_type": "markdown",
   "id": "938863d4-9202-46ab-9a9b-8133e11f68ec",
   "metadata": {},
   "source": [
    "## boto3 クライアントの準備"
   ]
  },
  {
   "cell_type": "markdown",
   "id": "331206c7-dd15-4667-831e-127572b3f724",
   "metadata": {},
   "source": [
    "以降の手順でminIO上のファイルを参照するため、boto3のS3クライアントを用意します。  \n",
    "(手順をJupyter内で完結させるためにS3クライアントで操作しますが、適宜minIOの管理GUI`http://localhost:9001/browser`から参照しても構いません)  \n",
    "  \n",
    "＊実際にはS3を使用せず、ローカル上のminIOにアクセスしている点に注意してください。minIOはS3互換のオブジェクトストレージであるため、以下のようにboto3から操作できるのです) \n",
    "  \n",
    "＊コード内にminIOのクレデンシャルをハードコードしていますが、**これを本番環境で真似しないでください。**  \n",
    "これはローカルのハンズオン環境に接続するための簡易的な措置であり、コード内へのクレデンシャルのハードコードは非常にバッドなプラクティスです。本番向けには最低限環境変数に保持するか、適切なシークレットマネージャを使用してください。"
   ]
  },
  {
   "cell_type": "code",
   "execution_count": null,
   "id": "208e4838-1e24-45e3-847a-fc853c20f5df",
   "metadata": {},
   "outputs": [],
   "source": [
    "import boto3\n",
    "import json\n",
    "\n",
    "# Minioサーバーの設定\n",
    "minio_endpoint = 'http://minio:9000'\n",
    "minio_access_key = 'admin'\n",
    "minio_secret_key = 'password'\n",
    "bucket_name = 'amzn-s3-demo-bucket'\n",
    "\n",
    "# S3クライアントを作成\n",
    "s3 = boto3.client('s3',\n",
    "                  endpoint_url=minio_endpoint,\n",
    "                  aws_access_key_id=minio_access_key,\n",
    "                  aws_secret_access_key=minio_secret_key,\n",
    "                  verify=False)\n",
    "\n",
    "# バケットのリストを取得\n",
    "response = s3.list_buckets()\n",
    "print(\"Buckets:\")\n",
    "for bucket in response['Buckets']:\n",
    "    print(f\"- {bucket['Name']}\")"
   ]
  },
  {
   "cell_type": "markdown",
   "id": "e2af85a8-6bf9-4eb9-9804-b47144db1627",
   "metadata": {},
   "source": [
    "### CREATE TABLE"
   ]
  },
  {
   "cell_type": "code",
   "execution_count": null,
   "id": "23cba94c-c3a8-4144-88b7-c041554bd53a",
   "metadata": {},
   "outputs": [],
   "source": [
    "%sql spark"
   ]
  },
  {
   "cell_type": "code",
   "execution_count": null,
   "id": "8df2e9ea-1fa7-4abd-a80c-c99350b33c97",
   "metadata": {},
   "outputs": [],
   "source": [
    "spark.sql(\"\"\"\n",
    "DROP TABLE IF EXISTS demo.simple_table PURGE\n",
    "\"\"\")"
   ]
  },
  {
   "cell_type": "code",
   "execution_count": null,
   "id": "f340612a-9af4-4759-9275-035fbf65955d",
   "metadata": {},
   "outputs": [],
   "source": [
    "%%sql\n",
    "\n",
    "CREATE TABLE IF NOT EXISTS demo.simple_table (\n",
    "      id BIGINT,\n",
    "      name STRING,\n",
    "      score DOUBLE\n",
    "    )\n",
    "    LOCATION \"s3://amzn-s3-demo-bucket/demo/simple_table\"\n",
    "    TBLPROPERTIES ('table_type'='ICEBERG');"
   ]
  },
  {
   "cell_type": "markdown",
   "id": "4fcbb445-411d-4ccc-ba81-702d88ec30f5",
   "metadata": {},
   "source": [
    "テーブルが作成されると、Iceberg は内部でメタデータファイル（**.metadata.json）を生成し、カタログにそのロケーション情報を登録します。  \n",
    "まずは、以下の SQL コマンドでテーブルの詳細な情報（スキーマやパーティション情報、プロパティなど）を確認してください。  "
   ]
  },
  {
   "cell_type": "code",
   "execution_count": null,
   "id": "33abf7d9-8b28-4829-8783-3fd1b34ce3fd",
   "metadata": {},
   "outputs": [],
   "source": [
    "%%sql\n",
    "\n",
    "DESCRIBE EXTENDED demo.simple_table"
   ]
  },
  {
   "cell_type": "markdown",
   "id": "3aadd870-045c-4afb-8b17-a741e946d801",
   "metadata": {},
   "source": [
    "`CREATE TABLE`で作成されたメタデータを確認します。MinIOの`amzn-s3-demo-bucket/demo/simple_table/metadata`をリストすると、`**.metadata.json`が作成されているのがわかります。これがメタデータファイルです。"
   ]
  },
  {
   "cell_type": "code",
   "execution_count": null,
   "id": "033e613b-82d1-4081-b5a5-208cb945f65c",
   "metadata": {},
   "outputs": [],
   "source": [
    "prefix = 'demo/simple_table/metadata/'\n",
    "list_objects(bucket_name, prefix)"
   ]
  },
  {
   "cell_type": "markdown",
   "id": "65b89481-6d0d-42ec-b901-5ff8b01ebef7",
   "metadata": {},
   "source": [
    "メタデータファイルの中身を確認します。"
   ]
  },
  {
   "cell_type": "code",
   "execution_count": null,
   "id": "239c2245-095e-4ebe-a699-b274d0cd4340",
   "metadata": {},
   "outputs": [],
   "source": [
    "prefix = 'demo/simple_table/metadata/'\n",
    "response = s3.list_objects_v2(Bucket=bucket_name, Prefix=prefix)\n",
    "\n",
    "if 'Contents' in response:\n",
    "    metadata_files = [\n",
    "        obj for obj in response['Contents'] \n",
    "        if obj['Key'].endswith('.metadata.json')\n",
    "    ]\n",
    "    \n",
    "    if len(metadata_files) == 0:\n",
    "        print(\"メタデータファイル(.metadata.json)が見つかりませんでした。\")\n",
    "    else:\n",
    "        # LastModified が最新のファイルを選択\n",
    "        metadata_files.sort(key=lambda x: x['LastModified'], reverse=True)\n",
    "        latest_metadata_key = metadata_files[0]['Key']\n",
    "\n",
    "        print(f\"最新のメタデータファイル: {latest_metadata_key}\")\n",
    "\n",
    "        resp = s3.get_object(Bucket=bucket_name, Key=latest_metadata_key)\n",
    "        content = resp['Body'].read().decode('utf-8')\n",
    "        data = json.loads(content)\n",
    "\n",
    "        print(json.dumps(data, indent=2))\n",
    "else:\n",
    "    print(\"指定したパスにオブジェクトが存在しませんでした。\")"
   ]
  },
  {
   "cell_type": "markdown",
   "id": "521bae75-dfc8-4b9f-81a2-ea27f2522026",
   "metadata": {},
   "source": [
    "## INSERT"
   ]
  },
  {
   "cell_type": "markdown",
   "id": "1824bd97-2c5c-4260-9fdc-ec89209b393a",
   "metadata": {},
   "source": [
    "先ほど作成したテーブルにレコードを挿入してみましょう。"
   ]
  },
  {
   "cell_type": "code",
   "execution_count": null,
   "id": "087be866-05ce-4401-85ef-91a1da828de1",
   "metadata": {},
   "outputs": [],
   "source": [
    "%%sql\n",
    "    \n",
    "INSERT INTO demo.simple_table VALUES\n",
    "    (1, 'Alice', 85.5),\n",
    "    (2, 'Bob', 90.0),\n",
    "    (3, 'Charlie', 78.0);"
   ]
  },
  {
   "cell_type": "markdown",
   "id": "483f2a0a-c472-43b8-a367-582185f10d20",
   "metadata": {},
   "source": [
    "データの挿入が完了すると、Iceberg は新しいスナップショットを作成し、メタデータリスト、マニフェストファイル、データファイルを作成します。その上で、メタデータファイルを更新し、カタログにその情報を登録します。  \n",
    "まずは、以下の SQL コマンドで挿入したデータが正しくテーブルに反映されていることを確認してください。"
   ]
  },
  {
   "cell_type": "code",
   "execution_count": null,
   "id": "3e9a6089-63c5-4abc-9602-6cced2e5931a",
   "metadata": {},
   "outputs": [],
   "source": [
    "%%sql\n",
    "\n",
    "SELECT * FROM demo.simple_table;"
   ]
  },
  {
   "cell_type": "markdown",
   "id": "17d994e9-7e5f-40b3-ac82-a5ba873eba64",
   "metadata": {},
   "source": [
    "次に、ストレージ上のファイルを観察してみましょう。`metadata`ディレクトリに新しいメタデータファイル、メタデータリスト、マニフェストファイルが作成されていることが分かります。それぞれを順に見ていきます。"
   ]
  },
  {
   "cell_type": "code",
   "execution_count": null,
   "id": "2ba56891-3111-452e-8672-0e982fa9bddd",
   "metadata": {},
   "outputs": [],
   "source": [
    "prefix = 'demo/simple_table/metadata/'\n",
    "list_objects(bucket_name, prefix)"
   ]
  },
  {
   "cell_type": "markdown",
   "id": "745b322e-8e35-4165-8344-f3ff1ecc6aa6",
   "metadata": {},
   "source": [
    "まずは最新のメタデータファイルを確認します。先ほどテーブルを作成した際に確認したメタデータファイルに比べて、INSERT時に作成されたsnapshotの情報が追加されていることが分かります。"
   ]
  },
  {
   "cell_type": "code",
   "execution_count": null,
   "id": "48aaed31-78df-49c8-a566-b7321db4dc2b",
   "metadata": {},
   "outputs": [],
   "source": [
    "prefix = 'demo/simple_table/metadata/'\n",
    "response = s3.list_objects_v2(Bucket=bucket_name, Prefix=prefix)\n",
    "\n",
    "if 'Contents' in response:\n",
    "    metadata_files = [\n",
    "        obj for obj in response['Contents'] \n",
    "        if obj['Key'].endswith('.metadata.json')\n",
    "    ]\n",
    "    \n",
    "    if len(metadata_files) == 0:\n",
    "        print(\"メタデータファイル(.metadata.json)が見つかりませんでした。\")\n",
    "    else:\n",
    "        # LastModified が最新のファイルを選択\n",
    "        metadata_files.sort(key=lambda x: x['LastModified'], reverse=True)\n",
    "        latest_metadata_key = metadata_files[0]['Key']\n",
    "\n",
    "        print(f\"最新のメタデータファイル: {latest_metadata_key}\")\n",
    "\n",
    "        resp = s3.get_object(Bucket=bucket_name, Key=latest_metadata_key)\n",
    "        content = resp['Body'].read().decode('utf-8')\n",
    "        data = json.loads(content)\n",
    "\n",
    "        print(json.dumps(data, indent=2))\n",
    "else:\n",
    "    print(\"指定したパスにオブジェクトが存在しませんでした。\")"
   ]
  },
  {
   "cell_type": "markdown",
   "id": "d1749ce2-3a66-47c2-bf83-454286e91dcf",
   "metadata": {},
   "source": [
    "それでは、スナップショットリストを確認します。"
   ]
  },
  {
   "cell_type": "code",
   "execution_count": null,
   "id": "e3ee4d01-51cc-4c8b-9318-05e52f4edcba",
   "metadata": {},
   "outputs": [],
   "source": [
    "prefix = 'demo/simple_table/metadata/'\n",
    "response = s3.list_objects_v2(Bucket=bucket_name, Prefix=prefix)\n",
    "\n",
    "if 'Contents' in response:\n",
    "    snap_avro_files = [\n",
    "        obj for obj in response['Contents']\n",
    "        if obj['Key'].startswith('demo/simple_table/metadata/snap-') and obj['Key'].endswith('.avro')\n",
    "    ]\n",
    "    if snap_avro_files:\n",
    "        snap_avro_files.sort(key=lambda x: x['LastModified'], reverse=True)\n",
    "        latest_snap_key = snap_avro_files[0]['Key']\n",
    "        print(f\"最新の Snapshot AVRO ファイル: {latest_snap_key}\")\n",
    "\n",
    "        resp = s3.get_object(Bucket=bucket_name, Key=latest_snap_key)\n",
    "        content = resp['Body'].read()\n",
    "\n",
    "        bytes_stream = io.BytesIO(content)\n",
    "        reader = DataFileReader(bytes_stream, DatumReader())\n",
    "\n",
    "        print(\"AVRO ファイルのレコード:\")\n",
    "        with DataFileReader(bytes_stream, DatumReader()) as reader:\n",
    "            for record in reader:\n",
    "                pprint(record)\n",
    "                print()\n",
    "    else:\n",
    "        print(\"snap-***.avro ファイルが見つかりませんでした。\")\n",
    "else:\n",
    "    print(\"オブジェクトが見つかりませんでした。\")"
   ]
  },
  {
   "cell_type": "markdown",
   "id": "9599fdee-29f7-4bff-8510-addd922b2409",
   "metadata": {},
   "source": [
    "続いて、マニフェストファイルを確認します。マニフェストファイルには、データファイルのパスや統計情報が含まれています。"
   ]
  },
  {
   "cell_type": "code",
   "execution_count": null,
   "id": "472a5fa7-957c-46c7-a22e-7c08bca1374d",
   "metadata": {},
   "outputs": [],
   "source": [
    "prefix = 'demo/simple_table/metadata/'\n",
    "response = s3.list_objects_v2(Bucket=bucket_name, Prefix=prefix)\n",
    "\n",
    "def interpret_iceberg_bound_bytes(bound_value: bytes, column_id: int):\n",
    "    \"\"\"\n",
    "    Icebergテーブルのマニフェストファイル内のバイナリを解釈する\n",
    "    (coulumn_id ごとの型が事前に把握できている状況を想定したシンプルな実装)\n",
    "      - col1 (id=1): BIGINT → 64bit 整数 (リトルエンディアン)\n",
    "      - col2 (id=2): STRING → UTF-8 デコードを試行\n",
    "      - col3 (id=3): DOUBLE → 64bit 浮動小数 (リトルエンディアン)\n",
    "    \"\"\"\n",
    "    if column_id == 1:\n",
    "        return struct.unpack('<q', bound_value)[0]\n",
    "    elif column_id == 2:\n",
    "        try:\n",
    "            return bound_value.decode('utf-8')\n",
    "        except UnicodeDecodeError:\n",
    "            return bound_value.hex()\n",
    "    elif column_id == 3:\n",
    "        return struct.unpack('<d', bound_value)[0]\n",
    "    else:\n",
    "        return bound_value.hex()\n",
    "\n",
    "def decode_bounds(bound_list: list):\n",
    "    \"\"\"\n",
    "    lower_bounds / upper_bounds のような\n",
    "    [{'key': <column_id>, 'value': <bytes>}, ...] という構造を\n",
    "    interpret_iceberg_bound_bytes() でデコードする。\n",
    "    \"\"\"\n",
    "    for item in bound_list:\n",
    "        if isinstance(item['value'], bytes):\n",
    "            col_id = item['key']\n",
    "            item['value'] = interpret_iceberg_bound_bytes(item['value'], col_id)\n",
    "\n",
    "\n",
    "if 'Contents' in response:\n",
    "    # snap- を含まない .avro → マニフェストファイルを抽出\n",
    "    manifest_avro_files = [\n",
    "        obj for obj in response['Contents']\n",
    "        if obj['Key'].endswith('.avro') and 'snap-' not in obj['Key']\n",
    "    ]\n",
    "    if manifest_avro_files:\n",
    "        manifest_avro_files.sort(key=lambda x: x['LastModified'], reverse=True)\n",
    "        latest_manifest_key = manifest_avro_files[0]['Key']\n",
    "        print(f\"最新のマニフェストファイル: {latest_manifest_key}\\n\")\n",
    "\n",
    "        resp = s3.get_object(Bucket=bucket_name, Key=latest_manifest_key)\n",
    "        content = resp['Body'].read()\n",
    "        bytes_stream = io.BytesIO(content)\n",
    "\n",
    "        print(\"マニフェストファイルのレコード:\")\n",
    "        with DataFileReader(bytes_stream, DatumReader()) as reader:\n",
    "            for record in reader:\n",
    "                df = record.get('data_file', {})\n",
    "                if 'lower_bounds' in df:\n",
    "                    decode_bounds(df['lower_bounds'])\n",
    "                if 'upper_bounds' in df:\n",
    "                    decode_bounds(df['upper_bounds'])\n",
    "\n",
    "                pprint(record)\n",
    "                print()\n",
    "    else:\n",
    "        print(\"マニフェストファイル (.avro かつ snap- 以外) が見つかりませんでした。\")\n",
    "else:\n",
    "    print(\"オブジェクトが見つかりませんでした。\")"
   ]
  },
  {
   "cell_type": "markdown",
   "id": "fc8bcee5-142f-4f7b-868a-393501525b18",
   "metadata": {},
   "source": [
    "最後にデータファイルを観察します。Icebergのデータファイルの形式は Parquet, ORC, Avro から選択可能ですが、今回はデフォルトの Parquet でデータファイルが作成されていることがわかります。"
   ]
  },
  {
   "cell_type": "code",
   "execution_count": null,
   "id": "75d57548-0d45-4601-a580-e9d7bbb8e46b",
   "metadata": {},
   "outputs": [],
   "source": [
    "prefix = 'demo/simple_table/data/'\n",
    "list_objects(bucket_name, prefix)"
   ]
  },
  {
   "cell_type": "markdown",
   "id": "c6747518-16ff-40c5-a6e5-1e11d50082a9",
   "metadata": {},
   "source": [
    "## UPDATE"
   ]
  },
  {
   "cell_type": "markdown",
   "id": "5434e46c-eb0e-40e7-8784-3ef382781fd1",
   "metadata": {},
   "source": [
    "次に、レコードをアップデートしてみましょう。以下の例では、id=2 のレコードの `score` を 100.0 に更新しています。  "
   ]
  },
  {
   "cell_type": "code",
   "execution_count": null,
   "id": "a72fefe0-2525-437a-b962-81f4c715dda0",
   "metadata": {},
   "outputs": [],
   "source": [
    "%%sql\n",
    "    \n",
    "SELECT * FROM demo.simple_table"
   ]
  },
  {
   "cell_type": "code",
   "execution_count": null,
   "id": "3b565aad-c5bb-4717-ab70-cddb4cece625",
   "metadata": {},
   "outputs": [],
   "source": [
    "%%sql\n",
    "    \n",
    "UPDATE demo.simple_table SET score = 100.0 WHERE id = 2;"
   ]
  },
  {
   "cell_type": "code",
   "execution_count": null,
   "id": "681e66d1-8f8b-4dd6-99c6-8cb42872d218",
   "metadata": {},
   "outputs": [],
   "source": [
    "%%sql\n",
    "    \n",
    "SELECT * FROM demo.simple_table"
   ]
  },
  {
   "cell_type": "markdown",
   "id": "538d5375-44c2-4cd0-b3f2-c6f42c1f9a77",
   "metadata": {},
   "source": [
    "ここで改めて、ストレージ上のファイルを観察してみましょう。`metadata` ディレクトリにメタデータファイル、メタデータリスト、マニフェストファイルが作成されていることが分かります。"
   ]
  },
  {
   "cell_type": "code",
   "execution_count": null,
   "id": "6eb2550e-8cd1-45d5-982a-dd9054a027a9",
   "metadata": {},
   "outputs": [],
   "source": [
    "prefix = 'demo/simple_table/metadata/'\n",
    "list_objects(bucket_name, prefix)"
   ]
  },
  {
   "cell_type": "code",
   "execution_count": null,
   "id": "d8d71b5a-3fae-4ff2-a2f7-c49d07dbbff6",
   "metadata": {},
   "outputs": [],
   "source": [
    "prefix = 'demo/simple_table/metadata/'\n",
    "response = s3.list_objects_v2(Bucket=bucket_name, Prefix=prefix)\n",
    "\n",
    "if 'Contents' in response:\n",
    "    metadata_files = [\n",
    "        obj for obj in response['Contents'] \n",
    "        if obj['Key'].endswith('.metadata.json')\n",
    "    ]\n",
    "    \n",
    "    if len(metadata_files) == 0:\n",
    "        print(\"メタデータファイル(.metadata.json)が見つかりませんでした。\")\n",
    "    else:\n",
    "        # LastModified が最新のファイルを選択\n",
    "        metadata_files.sort(key=lambda x: x['LastModified'], reverse=True)\n",
    "        latest_metadata_key = metadata_files[0]['Key']\n",
    "\n",
    "        print(f\"最新のメタデータファイル: {latest_metadata_key}\")\n",
    "\n",
    "        resp = s3.get_object(Bucket=bucket_name, Key=latest_metadata_key)\n",
    "        content = resp['Body'].read().decode('utf-8')\n",
    "        data = json.loads(content)\n",
    "\n",
    "        print(json.dumps(data, indent=2))\n",
    "else:\n",
    "    print(\"指定したパスにオブジェクトが存在しませんでした。\")"
   ]
  },
  {
   "cell_type": "markdown",
   "id": "94c676b3-d3df-457d-8885-013a8c8b8f5a",
   "metadata": {},
   "source": [
    "データファイルに関しても、更新前と比較して、新しいデータファイルが作成されていることが分かります。"
   ]
  },
  {
   "cell_type": "code",
   "execution_count": null,
   "id": "88962bfb-4098-4734-bbc1-830eba2d658a",
   "metadata": {},
   "outputs": [],
   "source": [
    "prefix = 'demo/simple_table/data/'\n",
    "list_objects(bucket_name, prefix)"
   ]
  },
  {
   "cell_type": "markdown",
   "id": "91102888-bf35-4462-b2bb-4811f041aeb0",
   "metadata": {},
   "source": [
    "このように、Iceberg テーブルの更新時には新しいメタデータファイル、マニフェストリスト、マニフェストファイル、データファイルが作成されます。更新前のファイルはそのまま残り、メタデータファイル→マニフェストリスト→マニフェストファイル→データファイルのツリー構造のメタデータが更新されることで、データの変更を管理しています。"
   ]
  },
  {
   "cell_type": "markdown",
   "id": "eed0a2c9-e799-4108-8c61-b0f6f889c15d",
   "metadata": {},
   "source": [
    "更新前のファイルが残っているので、過去のスナップショット ID を指定することで、過去のデータを参照することが可能です。これがタイムトラベルクエリです。  \n",
    "スナップショット ID はメタデータファイルなどからも確認できますが、Icebergにはテーブルのスナップショットのログの参照に利用できる便利なメタデータテーブルが用意されています。"
   ]
  },
  {
   "cell_type": "code",
   "execution_count": null,
   "id": "6b1041d2-25e6-482b-b8f0-750a133df995",
   "metadata": {},
   "outputs": [],
   "source": [
    "%%sql\n",
    "    \n",
    "SELECT committed_at,snapshot_id,operation  FROM demo.simple_table.snapshots ORDER BY committed_at;"
   ]
  },
  {
   "cell_type": "markdown",
   "id": "f90cf7d1-27de-4b09-9f69-13f20f359b66",
   "metadata": {},
   "source": [
    "この情報を元に、以下のようにスナップショット ID を指定して、過去のデータを参照することができます。  "
   ]
  },
  {
   "cell_type": "code",
   "execution_count": null,
   "id": "3f3d60c4-a251-43ef-879c-180379abad1d",
   "metadata": {},
   "outputs": [],
   "source": [
    "%%sql\n",
    "\n",
    "-- INSERT 後、UPDATE 前のテーブルにクエリ\n",
    "SELECT * FROM demo.simple_table VERSION AS OF <INSERT 後、UPDATE 前のスナップショットIDを指定>;"
   ]
  },
  {
   "cell_type": "code",
   "execution_count": null,
   "id": "b1e0e78f-451c-4c76-b68c-22eb6aaed8ec",
   "metadata": {},
   "outputs": [],
   "source": []
  }
 ],
 "metadata": {
  "kernelspec": {
   "display_name": "Python 3 (ipykernel)",
   "language": "python",
   "name": "python3"
  },
  "language_info": {
   "codemirror_mode": {
    "name": "ipython",
    "version": 3
   },
   "file_extension": ".py",
   "mimetype": "text/x-python",
   "name": "python",
   "nbconvert_exporter": "python",
   "pygments_lexer": "ipython3",
   "version": "3.11.10"
  }
 },
 "nbformat": 4,
 "nbformat_minor": 5
}
