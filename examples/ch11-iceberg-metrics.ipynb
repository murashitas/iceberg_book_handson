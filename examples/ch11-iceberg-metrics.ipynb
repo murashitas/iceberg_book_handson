{
 "cells": [
  {
   "cell_type": "markdown",
   "id": "51d7c84a",
   "metadata": {},
   "source": [
    "# 第 11 章: 運用管理 - モニタリング\n",
    "\n",
    "\n",
    "本ノートブックでは、「メトリクス出力先をカスタマイズする」節で紹介されている、MetricsReporter インターフェースを実装した `IcebergTableMetricsReporter` を利用できます。この Custom Metrics Reporter は、各テーブルに対するクエリ・書き込みに対して出力されるメトリクスを Iceberg テーブルに書き込みます。本ノートブックを実行するには、最初に以下の「事前準備」を完了させてください。\n",
    "\n",
    "なお、各種設定内容の詳細については、[Example of Custom Metrics Reporter](https://github.com/murashitas/iceberg_book_handson/tree/main/custom-metrics-reporter-iceberg) を参照してください。\n",
    "\n",
    "## 事前準備\n",
    "\n",
    "1. [Example of Custom Metrics Reporter](https://github.com/murashitas/iceberg_book_handson/tree/main/custom-metrics-reporter-iceberg) の内容を参考に JAR ファイルをビルドする\n",
    "2. ビルドが完了したら JAR ファイルを、本ノートブックから `/home/jovyan/jar/` 配下にアップロードする\n",
    "    1. ノートブックの左側のペインから、`jar` ディレクトリを選択します\n",
    "    2. 上の ↑ のアイコンをクリックし、作成した JAR ファイルをアップロードします\n",
    "3. アップロードが完了したら各セルを実行します。"
   ]
  },
  {
   "cell_type": "markdown",
   "id": "00c7cad0",
   "metadata": {},
   "source": [
    "## SparkSession を初期化する\n",
    "`metrics-catalog-name`に対して設定されている`METRICS_CATALOG` は、Iceberg テーブルに対してメトリクスを出力する際に利用されるカタログです。メトリクスの出力先テーブルに対しては、様々なカタログを選択することができますが、以下の例では、既存の REST カタログを利用しています。"
   ]
  },
  {
   "cell_type": "code",
   "execution_count": null,
   "id": "4bf62d89",
   "metadata": {
    "vscode": {
     "languageId": "plaintext"
    }
   },
   "outputs": [],
   "source": [
    "import time\n",
    "import pyspark\n",
    "from pyspark.sql import SparkSession\n",
    "CATALOG = \"my_catalog\"\n",
    "METRICS_CATALOG = \"metrics_catalog\"\n",
    "CATALOG_URL = \"http://server:8181/\"\n",
    "S3_ENDPOINT = \"http://minio:9000\"\n",
    "SPARK_VERSION = pyspark.__version__\n",
    "SPARK_MINOR_VERSION = '.'.join(SPARK_VERSION.split('.')[:2])\n",
    "ICEBERG_VERSION = \"1.8.1\""
   ]
  },
  {
   "cell_type": "code",
   "execution_count": null,
   "id": "df29c816",
   "metadata": {
    "vscode": {
     "languageId": "plaintext"
    }
   },
   "outputs": [],
   "source": [
    "spark = (\n",
    "    SparkSession.builder\n",
    "        .config(\"spark.jars\", \"/home/jovyan/jar/custom-metrics-reporter-iceberg-0.1.jar\")\n",
    "        .config(\"spark.jars.packages\", f\"org.apache.iceberg:iceberg-spark-runtime-{SPARK_MINOR_VERSION}_2.12:{ICEBERG_VERSION},org.apache.iceberg:iceberg-aws-bundle:{ICEBERG_VERSION}\")\n",
    "        .config(f\"spark.sql.catalog.{CATALOG}\", \"org.apache.iceberg.spark.SparkCatalog\")\n",
    "        .config(f\"spark.sql.catalog.{CATALOG}.type\", \"rest\")\n",
    "        .config(f\"spark.sql.catalog.{CATALOG}.uri\", CATALOG_URL)\n",
    "        .config(f\"spark.sql.catalog.{CATALOG}.s3.endpoint\",S3_ENDPOINT)\n",
    "        .config(f\"spark.sql.catalog.{CATALOG}.view-endpoints-supported\", \"true\")\n",
    "        .config(f\"spark.sql.catalog.{CATALOG}.metrics-reporter-impl\", \"jp.gihyo.iceberg.IcebergTableMetricsReporter\")\n",
    "        .config(f\"spark.sql.catalog.{CATALOG}.metrics-catalog-name\", METRICS_CATALOG)\n",
    "        .config(f\"spark.sql.catalog.{METRICS_CATALOG}\", \"org.apache.iceberg.spark.SparkCatalog\")\n",
    "        .config(f\"spark.sql.catalog.{METRICS_CATALOG}.type\", \"rest\")\n",
    "        .config(f\"spark.sql.catalog.{METRICS_CATALOG}.uri\", CATALOG_URL)\n",
    "        .config(f\"spark.sql.catalog.{METRICS_CATALOG}.s3.endpoint\",S3_ENDPOINT)\n",
    "        .config(\"spark.sql.extensions\", \"org.apache.iceberg.spark.extensions.IcebergSparkSessionExtensions\")\n",
    "        .config(\"spark.sql.defaultCatalog\", \"my_catalog\")\n",
    "        .getOrCreate()\n",
    ")"
   ]
  },
  {
   "cell_type": "code",
   "execution_count": null,
   "id": "2d31e12e-eb09-4519-8a81-b6c67e75e377",
   "metadata": {},
   "outputs": [],
   "source": [
    "%sql spark"
   ]
  },
  {
   "cell_type": "markdown",
   "id": "9a0c64d3-67b5-42c2-b997-238098f5e9a3",
   "metadata": {},
   "source": [
    "### (Optional) データベースの作成\n",
    "データベースを作成していない場合、以下のセルを実行してください。既にデータベースが存在する場合は、本ステップにつきましてはスキップしてください。"
   ]
  },
  {
   "cell_type": "code",
   "execution_count": null,
   "id": "cd8c486f-f53f-4a39-8179-6577399ad288",
   "metadata": {},
   "outputs": [],
   "source": [
    "%%sql\n",
    "CREATE DATABASE IF NOT EXISTS db"
   ]
  },
  {
   "cell_type": "markdown",
   "id": "4f37ad85-b4e5-4c78-890c-4ac29770d00e",
   "metadata": {},
   "source": [
    "##　各種メトリクス収集用のテーブルを作成する"
   ]
  },
  {
   "cell_type": "code",
   "execution_count": null,
   "id": "05c1466a-55a8-43e3-ad08-9967bddc986d",
   "metadata": {},
   "outputs": [],
   "source": [
    "%%sql\n",
    "CREATE OR REPLACE TABLE db.sales_iceberg_m (\n",
    "    product_name string,\n",
    "    price decimal(10, 2),\n",
    "    customer_id bigint,\n",
    "    order_id string,\n",
    "    datetime timestamp,\n",
    "    category string) \n",
    "USING iceberg"
   ]
  },
  {
   "cell_type": "markdown",
   "id": "7f2d5834-adb0-45b2-8214-7334f236de05",
   "metadata": {},
   "source": [
    "メトリクス収集用テーブルに対して 5 レコードを追加する。このタイミングで `ScanReport` (読み込み)と `CommitReport` (書き込み)を収集する 2 つの Iceberg テーブルが作成されます。また、書き込み 5 レコードに関する `CommitReport` が Commit metrics 用の Iceberg テーブル `metrics_report_commit` に書き込まれます。"
   ]
  },
  {
   "cell_type": "code",
   "execution_count": null,
   "id": "5b7431e0-8a0e-47f4-be4b-628162339398",
   "metadata": {},
   "outputs": [],
   "source": [
    "%%sql\n",
    "INSERT INTO db.sales_iceberg_m VALUES\n",
    "    ('tomato juice', 2.00, 1698, 'DRE8DLTFNX0MLCE8DLTFNX0MLC', TIMESTAMP '2023-07-18T02:20:58Z', 'drink'),\n",
    "    ('cocoa', 2.00, 1652, 'DR1UNFHET81UNFHET8', TIMESTAMP '2024-08-26T11:36:48Z', 'drink'),\n",
    "    ('espresso', 2.00, 1037, 'DRBFZUJWPZ9SRABFZUJWPZ9SRA', TIMESTAMP '2024-04-19T12:17:22Z', 'drink'),\n",
    "    ('broccoli', 1.00, 3092, 'GRK0L8ZQK0L8ZQ', TIMESTAMP '2023-03-22T18:48:04Z', 'grocery'),\n",
    "    ('nutmeg', 1.00, 3512, 'GR15U0LKA15U0LKA', TIMESTAMP '2024-02-27T15:13:31Z', 'grocery')"
   ]
  },
  {
   "cell_type": "markdown",
   "id": "eaca0fea-bacc-4c08-8efb-1c1c4c89bc39",
   "metadata": {},
   "source": [
    "`ScanReport` および `CommitReport` 用のテーブルが作成されたか確認してみましょう。デフォルトの設定の場合 `report_commit` と `report_scan` テーブルが作成されることを確認できます。"
   ]
  },
  {
   "cell_type": "code",
   "execution_count": null,
   "id": "4f6abd57-b4f1-46fd-a032-d14f1e17043e",
   "metadata": {},
   "outputs": [],
   "source": [
    "%%sql\n",
    "SHOW TABLES IN db"
   ]
  },
  {
   "cell_type": "markdown",
   "id": "016cc393-0064-42dd-aade-308ba09ea1fa",
   "metadata": {},
   "source": [
    "## `CommitReport` の確認\n",
    "`report_commit` テーブルにクエリすることで、書き込みに関するメトリクスを収集できます。"
   ]
  },
  {
   "cell_type": "code",
   "execution_count": null,
   "id": "a5e8b3b9-d520-4af1-92d3-9bd74f59e9af",
   "metadata": {},
   "outputs": [],
   "source": [
    "%%sql\n",
    "SELECT * FROM metrics_catalog.db.report_commit"
   ]
  },
  {
   "cell_type": "markdown",
   "id": "a3cb61e6-90a0-48a7-a0f8-7f79ec3b8301",
   "metadata": {},
   "source": [
    "## `ScanReport` の確認\n",
    "次に、`ScanReport` についても確認してみましょう。`sales_iceberg_m` に対してクエリを行うことで、本メトリクスが出力されます。"
   ]
  },
  {
   "cell_type": "code",
   "execution_count": null,
   "id": "00731faa-67dd-46d4-94a2-58c74daa78d0",
   "metadata": {},
   "outputs": [],
   "source": [
    "%%sql\n",
    "SELECT category, count(*) as cat_cnt  FROM db.sales_iceberg_m GROUP BY category"
   ]
  },
  {
   "cell_type": "markdown",
   "id": "d6c54c8b-20c9-4732-973e-7f30bdc08605",
   "metadata": {},
   "source": [
    "`ScanReport` の出力先テーブルである `report_scan` に対してクエリを実行することで、先ほど出力された `ScanReport` メトリクスを確認できます。"
   ]
  },
  {
   "cell_type": "code",
   "execution_count": null,
   "id": "492f7d3d-780d-4614-995a-0609c1c43d00",
   "metadata": {},
   "outputs": [],
   "source": [
    "%%sql\n",
    "SELECT * FROM metrics_catalog.db.report_scan"
   ]
  },
  {
   "cell_type": "code",
   "execution_count": null,
   "id": "5b3da231-55ea-42b3-98f6-669c9aa466a9",
   "metadata": {},
   "outputs": [],
   "source": []
  }
 ],
 "metadata": {
  "kernelspec": {
   "display_name": "Python 3 (ipykernel)",
   "language": "python",
   "name": "python3"
  },
  "language_info": {
   "codemirror_mode": {
    "name": "ipython",
    "version": 3
   },
   "file_extension": ".py",
   "mimetype": "text/x-python",
   "name": "python",
   "nbconvert_exporter": "python",
   "pygments_lexer": "ipython3",
   "version": "3.11.10"
  }
 },
 "nbformat": 4,
 "nbformat_minor": 5
}
